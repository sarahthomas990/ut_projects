{
 "cells": [
  {
   "cell_type": "markdown",
   "id": "7402b1d8",
   "metadata": {},
   "source": [
    "# Sarah Thomas\n",
    "# Project 3 - Cars4U Project"
   ]
  },
  {
   "cell_type": "markdown",
   "id": "c23aacb8",
   "metadata": {},
   "source": [
    "__Description__ (copied from assignment)\n",
    "\n",
    "__Background & Context__\n",
    "\n",
    "There is a huge demand for used cars in the Indian Market today. As sales of new cars have slowed down in the recent past, the pre-owned car market has continued to grow over the past years and is larger than the new car market now. Cars4U is a budding tech start-up that aims to find footholes in this market.\n",
    "\n",
    "In 2018-19, while new car sales were recorded at 3.6 million units, around 4 million second-hand cars were bought and sold. There is a slowdown in new car sales and that could mean that the demand is shifting towards the pre-owned market. In fact, some car sellers replace their old cars with pre-owned cars instead of buying new ones. Unlike new cars, where price and supply are fairly deterministic and managed by OEMs (Original Equipment Manufacturer / except for dealership level discounts which come into play only in the last stage of the customer journey), used cars are very different beasts with huge uncertainty in both pricing and supply. Keeping this in mind, the pricing scheme of these used cars becomes important in order to grow in the market.\n",
    "\n",
    "As a senior data scientist at Cars4U, you have to come up with a pricing model that can effectively predict the price of used cars and can help the business in devising profitable strategies using differential pricing. For example, if the business knows the market price, it will never sell anything below it. \n",
    "\n",
    "__Objective__\n",
    "\n",
    "1. Explore and visualize the dataset.\n",
    "2. Build a linear regression model to predict the prices of used cars.\n",
    "3. Generate a set of insights and recommendations that will help the business.\n",
    "\n",
    "\n",
    "__Data Dictionary__\n",
    "\n",
    "1. S.No. : Serial Number\n",
    "2. Name : Name of the car which includes Brand name and Model name\n",
    "3. Location : The location in which the car is being sold or is available for purchase Cities\n",
    "4. Year : Manufacturing year of the car\n",
    "5. Kilometers_driven : The total kilometers driven in the car by the previous owner(s) in KM.\n",
    "6. Fuel_Type : The type of fuel used by the car. (Petrol, Diesel, Electric, CNG, LPG)\n",
    "7. Transmission : The type of transmission used by the car. (Automatic / Manual)\n",
    "8. Owner : Type of ownership\n",
    "9. Mileage : The standard mileage offered by the car company in kmpl or km/kg\n",
    "10. Engine : The displacement volume of the engine in CC.\n",
    "11. Power : The maximum power of the engine in bhp.\n",
    "12. Seats : The number of seats in the car.\n",
    "13. New_Price : The price of a new car of the same model in INR Lakhs.(1 Lakh = 100, 000)\n",
    "14. Price : The price of the used car in INR Lakhs (1 Lakh = 100, 000)\n"
   ]
  },
  {
   "cell_type": "markdown",
   "id": "95d4eae4",
   "metadata": {},
   "source": [
    "# 1 - Load Packages and Read in the Dataset"
   ]
  },
  {
   "cell_type": "code",
   "execution_count": 1,
   "id": "c4e96b74",
   "metadata": {},
   "outputs": [
    {
     "data": {
      "application/javascript": [
       "\n",
       "            setTimeout(function() {\n",
       "                var nbb_cell_id = 1;\n",
       "                var nbb_unformatted_code = \"# Import necessary libraries\\nimport numpy as np\\nimport pandas as pd\\nimport matplotlib.pyplot as plt\\nimport seaborn as sns\\n\\nimport warnings\\n\\nwarnings.filterwarnings(\\\"ignore\\\")\\n\\n# To enable plotting graphs in Jupyter notebook\\n%matplotlib inline\\n\\n# To build linear regression_model\\nfrom sklearn.linear_model import LinearRegression\\n\\n# To check model performance\\nfrom sklearn.metrics import mean_absolute_error, mean_squared_error, r2_score\\n\\n# to make Python code more structured\\n%load_ext nb_black\";\n",
       "                var nbb_formatted_code = \"# Import necessary libraries\\nimport numpy as np\\nimport pandas as pd\\nimport matplotlib.pyplot as plt\\nimport seaborn as sns\\n\\nimport warnings\\n\\nwarnings.filterwarnings(\\\"ignore\\\")\\n\\n# To enable plotting graphs in Jupyter notebook\\n%matplotlib inline\\n\\n# To build linear regression_model\\nfrom sklearn.linear_model import LinearRegression\\n\\n# To check model performance\\nfrom sklearn.metrics import mean_absolute_error, mean_squared_error, r2_score\\n\\n# to make Python code more structured\\n%load_ext nb_black\";\n",
       "                var nbb_cells = Jupyter.notebook.get_cells();\n",
       "                for (var i = 0; i < nbb_cells.length; ++i) {\n",
       "                    if (nbb_cells[i].input_prompt_number == nbb_cell_id) {\n",
       "                        if (nbb_cells[i].get_text() == nbb_unformatted_code) {\n",
       "                             nbb_cells[i].set_text(nbb_formatted_code);\n",
       "                        }\n",
       "                        break;\n",
       "                    }\n",
       "                }\n",
       "            }, 500);\n",
       "            "
      ],
      "text/plain": [
       "<IPython.core.display.Javascript object>"
      ]
     },
     "metadata": {},
     "output_type": "display_data"
    }
   ],
   "source": [
    "# Import necessary libraries\n",
    "import numpy as np\n",
    "import pandas as pd\n",
    "import matplotlib.pyplot as plt\n",
    "import seaborn as sns\n",
    "\n",
    "import warnings\n",
    "\n",
    "warnings.filterwarnings(\"ignore\")\n",
    "\n",
    "# To enable plotting graphs in Jupyter notebook\n",
    "%matplotlib inline\n",
    "\n",
    "# To build linear regression_model\n",
    "from sklearn.linear_model import LinearRegression\n",
    "\n",
    "# To check model performance\n",
    "from sklearn.metrics import mean_absolute_error, mean_squared_error, r2_score\n",
    "\n",
    "# to make Python code more structured\n",
    "%load_ext nb_black"
   ]
  },
  {
   "cell_type": "code",
   "execution_count": 2,
   "id": "2629066b",
   "metadata": {},
   "outputs": [
    {
     "data": {
      "application/javascript": [
       "\n",
       "            setTimeout(function() {\n",
       "                var nbb_cell_id = 2;\n",
       "                var nbb_unformatted_code = \"# Load the data into pandas dataframe\\ncars = pd.read_csv(\\\"used_cars_data.csv\\\")\";\n",
       "                var nbb_formatted_code = \"# Load the data into pandas dataframe\\ncars = pd.read_csv(\\\"used_cars_data.csv\\\")\";\n",
       "                var nbb_cells = Jupyter.notebook.get_cells();\n",
       "                for (var i = 0; i < nbb_cells.length; ++i) {\n",
       "                    if (nbb_cells[i].input_prompt_number == nbb_cell_id) {\n",
       "                        if (nbb_cells[i].get_text() == nbb_unformatted_code) {\n",
       "                             nbb_cells[i].set_text(nbb_formatted_code);\n",
       "                        }\n",
       "                        break;\n",
       "                    }\n",
       "                }\n",
       "            }, 500);\n",
       "            "
      ],
      "text/plain": [
       "<IPython.core.display.Javascript object>"
      ]
     },
     "metadata": {},
     "output_type": "display_data"
    }
   ],
   "source": [
    "# Load the data into pandas dataframe\n",
    "cars = pd.read_csv(\"used_cars_data.csv\")"
   ]
  },
  {
   "cell_type": "markdown",
   "id": "355dfe93",
   "metadata": {},
   "source": [
    "# 2 - Data Preprocessing (Part 1 of 2)"
   ]
  },
  {
   "cell_type": "markdown",
   "id": "90ef1c07",
   "metadata": {},
   "source": [
    "## 2.1 - Check the first and last 10 rows of the dataset as well as random 10 rows"
   ]
  },
  {
   "cell_type": "code",
   "execution_count": 3,
   "id": "1db3a383",
   "metadata": {},
   "outputs": [
    {
     "data": {
      "text/html": [
       "<div>\n",
       "<style scoped>\n",
       "    .dataframe tbody tr th:only-of-type {\n",
       "        vertical-align: middle;\n",
       "    }\n",
       "\n",
       "    .dataframe tbody tr th {\n",
       "        vertical-align: top;\n",
       "    }\n",
       "\n",
       "    .dataframe thead th {\n",
       "        text-align: right;\n",
       "    }\n",
       "</style>\n",
       "<table border=\"1\" class=\"dataframe\">\n",
       "  <thead>\n",
       "    <tr style=\"text-align: right;\">\n",
       "      <th></th>\n",
       "      <th>S.No.</th>\n",
       "      <th>Name</th>\n",
       "      <th>Location</th>\n",
       "      <th>Year</th>\n",
       "      <th>Kilometers_Driven</th>\n",
       "      <th>Fuel_Type</th>\n",
       "      <th>Transmission</th>\n",
       "      <th>Owner_Type</th>\n",
       "      <th>Mileage</th>\n",
       "      <th>Engine</th>\n",
       "      <th>Power</th>\n",
       "      <th>Seats</th>\n",
       "      <th>New_Price</th>\n",
       "      <th>Price</th>\n",
       "    </tr>\n",
       "  </thead>\n",
       "  <tbody>\n",
       "    <tr>\n",
       "      <th>0</th>\n",
       "      <td>0</td>\n",
       "      <td>Maruti Wagon R LXI CNG</td>\n",
       "      <td>Mumbai</td>\n",
       "      <td>2010</td>\n",
       "      <td>72000</td>\n",
       "      <td>CNG</td>\n",
       "      <td>Manual</td>\n",
       "      <td>First</td>\n",
       "      <td>26.6 km/kg</td>\n",
       "      <td>998 CC</td>\n",
       "      <td>58.16 bhp</td>\n",
       "      <td>5.0</td>\n",
       "      <td>NaN</td>\n",
       "      <td>1.75</td>\n",
       "    </tr>\n",
       "    <tr>\n",
       "      <th>1</th>\n",
       "      <td>1</td>\n",
       "      <td>Hyundai Creta 1.6 CRDi SX Option</td>\n",
       "      <td>Pune</td>\n",
       "      <td>2015</td>\n",
       "      <td>41000</td>\n",
       "      <td>Diesel</td>\n",
       "      <td>Manual</td>\n",
       "      <td>First</td>\n",
       "      <td>19.67 kmpl</td>\n",
       "      <td>1582 CC</td>\n",
       "      <td>126.2 bhp</td>\n",
       "      <td>5.0</td>\n",
       "      <td>NaN</td>\n",
       "      <td>12.50</td>\n",
       "    </tr>\n",
       "    <tr>\n",
       "      <th>2</th>\n",
       "      <td>2</td>\n",
       "      <td>Honda Jazz V</td>\n",
       "      <td>Chennai</td>\n",
       "      <td>2011</td>\n",
       "      <td>46000</td>\n",
       "      <td>Petrol</td>\n",
       "      <td>Manual</td>\n",
       "      <td>First</td>\n",
       "      <td>18.2 kmpl</td>\n",
       "      <td>1199 CC</td>\n",
       "      <td>88.7 bhp</td>\n",
       "      <td>5.0</td>\n",
       "      <td>8.61 Lakh</td>\n",
       "      <td>4.50</td>\n",
       "    </tr>\n",
       "    <tr>\n",
       "      <th>3</th>\n",
       "      <td>3</td>\n",
       "      <td>Maruti Ertiga VDI</td>\n",
       "      <td>Chennai</td>\n",
       "      <td>2012</td>\n",
       "      <td>87000</td>\n",
       "      <td>Diesel</td>\n",
       "      <td>Manual</td>\n",
       "      <td>First</td>\n",
       "      <td>20.77 kmpl</td>\n",
       "      <td>1248 CC</td>\n",
       "      <td>88.76 bhp</td>\n",
       "      <td>7.0</td>\n",
       "      <td>NaN</td>\n",
       "      <td>6.00</td>\n",
       "    </tr>\n",
       "    <tr>\n",
       "      <th>4</th>\n",
       "      <td>4</td>\n",
       "      <td>Audi A4 New 2.0 TDI Multitronic</td>\n",
       "      <td>Coimbatore</td>\n",
       "      <td>2013</td>\n",
       "      <td>40670</td>\n",
       "      <td>Diesel</td>\n",
       "      <td>Automatic</td>\n",
       "      <td>Second</td>\n",
       "      <td>15.2 kmpl</td>\n",
       "      <td>1968 CC</td>\n",
       "      <td>140.8 bhp</td>\n",
       "      <td>5.0</td>\n",
       "      <td>NaN</td>\n",
       "      <td>17.74</td>\n",
       "    </tr>\n",
       "    <tr>\n",
       "      <th>5</th>\n",
       "      <td>5</td>\n",
       "      <td>Hyundai EON LPG Era Plus Option</td>\n",
       "      <td>Hyderabad</td>\n",
       "      <td>2012</td>\n",
       "      <td>75000</td>\n",
       "      <td>LPG</td>\n",
       "      <td>Manual</td>\n",
       "      <td>First</td>\n",
       "      <td>21.1 km/kg</td>\n",
       "      <td>814 CC</td>\n",
       "      <td>55.2 bhp</td>\n",
       "      <td>5.0</td>\n",
       "      <td>NaN</td>\n",
       "      <td>2.35</td>\n",
       "    </tr>\n",
       "    <tr>\n",
       "      <th>6</th>\n",
       "      <td>6</td>\n",
       "      <td>Nissan Micra Diesel XV</td>\n",
       "      <td>Jaipur</td>\n",
       "      <td>2013</td>\n",
       "      <td>86999</td>\n",
       "      <td>Diesel</td>\n",
       "      <td>Manual</td>\n",
       "      <td>First</td>\n",
       "      <td>23.08 kmpl</td>\n",
       "      <td>1461 CC</td>\n",
       "      <td>63.1 bhp</td>\n",
       "      <td>5.0</td>\n",
       "      <td>NaN</td>\n",
       "      <td>3.50</td>\n",
       "    </tr>\n",
       "    <tr>\n",
       "      <th>7</th>\n",
       "      <td>7</td>\n",
       "      <td>Toyota Innova Crysta 2.8 GX AT 8S</td>\n",
       "      <td>Mumbai</td>\n",
       "      <td>2016</td>\n",
       "      <td>36000</td>\n",
       "      <td>Diesel</td>\n",
       "      <td>Automatic</td>\n",
       "      <td>First</td>\n",
       "      <td>11.36 kmpl</td>\n",
       "      <td>2755 CC</td>\n",
       "      <td>171.5 bhp</td>\n",
       "      <td>8.0</td>\n",
       "      <td>21 Lakh</td>\n",
       "      <td>17.50</td>\n",
       "    </tr>\n",
       "    <tr>\n",
       "      <th>8</th>\n",
       "      <td>8</td>\n",
       "      <td>Volkswagen Vento Diesel Comfortline</td>\n",
       "      <td>Pune</td>\n",
       "      <td>2013</td>\n",
       "      <td>64430</td>\n",
       "      <td>Diesel</td>\n",
       "      <td>Manual</td>\n",
       "      <td>First</td>\n",
       "      <td>20.54 kmpl</td>\n",
       "      <td>1598 CC</td>\n",
       "      <td>103.6 bhp</td>\n",
       "      <td>5.0</td>\n",
       "      <td>NaN</td>\n",
       "      <td>5.20</td>\n",
       "    </tr>\n",
       "    <tr>\n",
       "      <th>9</th>\n",
       "      <td>9</td>\n",
       "      <td>Tata Indica Vista Quadrajet LS</td>\n",
       "      <td>Chennai</td>\n",
       "      <td>2012</td>\n",
       "      <td>65932</td>\n",
       "      <td>Diesel</td>\n",
       "      <td>Manual</td>\n",
       "      <td>Second</td>\n",
       "      <td>22.3 kmpl</td>\n",
       "      <td>1248 CC</td>\n",
       "      <td>74 bhp</td>\n",
       "      <td>5.0</td>\n",
       "      <td>NaN</td>\n",
       "      <td>1.95</td>\n",
       "    </tr>\n",
       "  </tbody>\n",
       "</table>\n",
       "</div>"
      ],
      "text/plain": [
       "   S.No.                                 Name    Location  Year  \\\n",
       "0      0               Maruti Wagon R LXI CNG      Mumbai  2010   \n",
       "1      1     Hyundai Creta 1.6 CRDi SX Option        Pune  2015   \n",
       "2      2                         Honda Jazz V     Chennai  2011   \n",
       "3      3                    Maruti Ertiga VDI     Chennai  2012   \n",
       "4      4      Audi A4 New 2.0 TDI Multitronic  Coimbatore  2013   \n",
       "5      5      Hyundai EON LPG Era Plus Option   Hyderabad  2012   \n",
       "6      6               Nissan Micra Diesel XV      Jaipur  2013   \n",
       "7      7    Toyota Innova Crysta 2.8 GX AT 8S      Mumbai  2016   \n",
       "8      8  Volkswagen Vento Diesel Comfortline        Pune  2013   \n",
       "9      9       Tata Indica Vista Quadrajet LS     Chennai  2012   \n",
       "\n",
       "   Kilometers_Driven Fuel_Type Transmission Owner_Type     Mileage   Engine  \\\n",
       "0              72000       CNG       Manual      First  26.6 km/kg   998 CC   \n",
       "1              41000    Diesel       Manual      First  19.67 kmpl  1582 CC   \n",
       "2              46000    Petrol       Manual      First   18.2 kmpl  1199 CC   \n",
       "3              87000    Diesel       Manual      First  20.77 kmpl  1248 CC   \n",
       "4              40670    Diesel    Automatic     Second   15.2 kmpl  1968 CC   \n",
       "5              75000       LPG       Manual      First  21.1 km/kg   814 CC   \n",
       "6              86999    Diesel       Manual      First  23.08 kmpl  1461 CC   \n",
       "7              36000    Diesel    Automatic      First  11.36 kmpl  2755 CC   \n",
       "8              64430    Diesel       Manual      First  20.54 kmpl  1598 CC   \n",
       "9              65932    Diesel       Manual     Second   22.3 kmpl  1248 CC   \n",
       "\n",
       "       Power  Seats  New_Price  Price  \n",
       "0  58.16 bhp    5.0        NaN   1.75  \n",
       "1  126.2 bhp    5.0        NaN  12.50  \n",
       "2   88.7 bhp    5.0  8.61 Lakh   4.50  \n",
       "3  88.76 bhp    7.0        NaN   6.00  \n",
       "4  140.8 bhp    5.0        NaN  17.74  \n",
       "5   55.2 bhp    5.0        NaN   2.35  \n",
       "6   63.1 bhp    5.0        NaN   3.50  \n",
       "7  171.5 bhp    8.0    21 Lakh  17.50  \n",
       "8  103.6 bhp    5.0        NaN   5.20  \n",
       "9     74 bhp    5.0        NaN   1.95  "
      ]
     },
     "execution_count": 3,
     "metadata": {},
     "output_type": "execute_result"
    },
    {
     "data": {
      "application/javascript": [
       "\n",
       "            setTimeout(function() {\n",
       "                var nbb_cell_id = 3;\n",
       "                var nbb_unformatted_code = \"# first 10 rows\\ncars.head(10)\";\n",
       "                var nbb_formatted_code = \"# first 10 rows\\ncars.head(10)\";\n",
       "                var nbb_cells = Jupyter.notebook.get_cells();\n",
       "                for (var i = 0; i < nbb_cells.length; ++i) {\n",
       "                    if (nbb_cells[i].input_prompt_number == nbb_cell_id) {\n",
       "                        if (nbb_cells[i].get_text() == nbb_unformatted_code) {\n",
       "                             nbb_cells[i].set_text(nbb_formatted_code);\n",
       "                        }\n",
       "                        break;\n",
       "                    }\n",
       "                }\n",
       "            }, 500);\n",
       "            "
      ],
      "text/plain": [
       "<IPython.core.display.Javascript object>"
      ]
     },
     "metadata": {},
     "output_type": "display_data"
    }
   ],
   "source": [
    "# first 10 rows\n",
    "cars.head(10)"
   ]
  },
  {
   "cell_type": "code",
   "execution_count": 4,
   "id": "1be34721",
   "metadata": {},
   "outputs": [
    {
     "data": {
      "text/html": [
       "<div>\n",
       "<style scoped>\n",
       "    .dataframe tbody tr th:only-of-type {\n",
       "        vertical-align: middle;\n",
       "    }\n",
       "\n",
       "    .dataframe tbody tr th {\n",
       "        vertical-align: top;\n",
       "    }\n",
       "\n",
       "    .dataframe thead th {\n",
       "        text-align: right;\n",
       "    }\n",
       "</style>\n",
       "<table border=\"1\" class=\"dataframe\">\n",
       "  <thead>\n",
       "    <tr style=\"text-align: right;\">\n",
       "      <th></th>\n",
       "      <th>S.No.</th>\n",
       "      <th>Name</th>\n",
       "      <th>Location</th>\n",
       "      <th>Year</th>\n",
       "      <th>Kilometers_Driven</th>\n",
       "      <th>Fuel_Type</th>\n",
       "      <th>Transmission</th>\n",
       "      <th>Owner_Type</th>\n",
       "      <th>Mileage</th>\n",
       "      <th>Engine</th>\n",
       "      <th>Power</th>\n",
       "      <th>Seats</th>\n",
       "      <th>New_Price</th>\n",
       "      <th>Price</th>\n",
       "    </tr>\n",
       "  </thead>\n",
       "  <tbody>\n",
       "    <tr>\n",
       "      <th>7243</th>\n",
       "      <td>7243</td>\n",
       "      <td>Renault Duster 85PS Diesel RxL</td>\n",
       "      <td>Chennai</td>\n",
       "      <td>2015</td>\n",
       "      <td>70000</td>\n",
       "      <td>Diesel</td>\n",
       "      <td>Manual</td>\n",
       "      <td>First</td>\n",
       "      <td>19.87 kmpl</td>\n",
       "      <td>1461 CC</td>\n",
       "      <td>83.8 bhp</td>\n",
       "      <td>5.0</td>\n",
       "      <td>NaN</td>\n",
       "      <td>NaN</td>\n",
       "    </tr>\n",
       "    <tr>\n",
       "      <th>7244</th>\n",
       "      <td>7244</td>\n",
       "      <td>Chevrolet Aveo 1.4 LS</td>\n",
       "      <td>Pune</td>\n",
       "      <td>2009</td>\n",
       "      <td>45463</td>\n",
       "      <td>Petrol</td>\n",
       "      <td>Manual</td>\n",
       "      <td>First</td>\n",
       "      <td>14.49 kmpl</td>\n",
       "      <td>1399 CC</td>\n",
       "      <td>92.7 bhp</td>\n",
       "      <td>5.0</td>\n",
       "      <td>NaN</td>\n",
       "      <td>NaN</td>\n",
       "    </tr>\n",
       "    <tr>\n",
       "      <th>7245</th>\n",
       "      <td>7245</td>\n",
       "      <td>Honda Amaze S i-Vtech</td>\n",
       "      <td>Kochi</td>\n",
       "      <td>2015</td>\n",
       "      <td>44776</td>\n",
       "      <td>Petrol</td>\n",
       "      <td>Manual</td>\n",
       "      <td>First</td>\n",
       "      <td>18.0 kmpl</td>\n",
       "      <td>1198 CC</td>\n",
       "      <td>86.7 bhp</td>\n",
       "      <td>5.0</td>\n",
       "      <td>NaN</td>\n",
       "      <td>NaN</td>\n",
       "    </tr>\n",
       "    <tr>\n",
       "      <th>7246</th>\n",
       "      <td>7246</td>\n",
       "      <td>Hyundai Grand i10 AT Asta</td>\n",
       "      <td>Coimbatore</td>\n",
       "      <td>2016</td>\n",
       "      <td>18242</td>\n",
       "      <td>Petrol</td>\n",
       "      <td>Automatic</td>\n",
       "      <td>First</td>\n",
       "      <td>18.9 kmpl</td>\n",
       "      <td>1197 CC</td>\n",
       "      <td>82 bhp</td>\n",
       "      <td>5.0</td>\n",
       "      <td>NaN</td>\n",
       "      <td>NaN</td>\n",
       "    </tr>\n",
       "    <tr>\n",
       "      <th>7247</th>\n",
       "      <td>7247</td>\n",
       "      <td>Hyundai EON D Lite Plus</td>\n",
       "      <td>Coimbatore</td>\n",
       "      <td>2015</td>\n",
       "      <td>21190</td>\n",
       "      <td>Petrol</td>\n",
       "      <td>Manual</td>\n",
       "      <td>First</td>\n",
       "      <td>21.1 kmpl</td>\n",
       "      <td>814 CC</td>\n",
       "      <td>55.2 bhp</td>\n",
       "      <td>5.0</td>\n",
       "      <td>NaN</td>\n",
       "      <td>NaN</td>\n",
       "    </tr>\n",
       "    <tr>\n",
       "      <th>7248</th>\n",
       "      <td>7248</td>\n",
       "      <td>Volkswagen Vento Diesel Trendline</td>\n",
       "      <td>Hyderabad</td>\n",
       "      <td>2011</td>\n",
       "      <td>89411</td>\n",
       "      <td>Diesel</td>\n",
       "      <td>Manual</td>\n",
       "      <td>First</td>\n",
       "      <td>20.54 kmpl</td>\n",
       "      <td>1598 CC</td>\n",
       "      <td>103.6 bhp</td>\n",
       "      <td>5.0</td>\n",
       "      <td>NaN</td>\n",
       "      <td>NaN</td>\n",
       "    </tr>\n",
       "    <tr>\n",
       "      <th>7249</th>\n",
       "      <td>7249</td>\n",
       "      <td>Volkswagen Polo GT TSI</td>\n",
       "      <td>Mumbai</td>\n",
       "      <td>2015</td>\n",
       "      <td>59000</td>\n",
       "      <td>Petrol</td>\n",
       "      <td>Automatic</td>\n",
       "      <td>First</td>\n",
       "      <td>17.21 kmpl</td>\n",
       "      <td>1197 CC</td>\n",
       "      <td>103.6 bhp</td>\n",
       "      <td>5.0</td>\n",
       "      <td>NaN</td>\n",
       "      <td>NaN</td>\n",
       "    </tr>\n",
       "    <tr>\n",
       "      <th>7250</th>\n",
       "      <td>7250</td>\n",
       "      <td>Nissan Micra Diesel XV</td>\n",
       "      <td>Kolkata</td>\n",
       "      <td>2012</td>\n",
       "      <td>28000</td>\n",
       "      <td>Diesel</td>\n",
       "      <td>Manual</td>\n",
       "      <td>First</td>\n",
       "      <td>23.08 kmpl</td>\n",
       "      <td>1461 CC</td>\n",
       "      <td>63.1 bhp</td>\n",
       "      <td>5.0</td>\n",
       "      <td>NaN</td>\n",
       "      <td>NaN</td>\n",
       "    </tr>\n",
       "    <tr>\n",
       "      <th>7251</th>\n",
       "      <td>7251</td>\n",
       "      <td>Volkswagen Polo GT TSI</td>\n",
       "      <td>Pune</td>\n",
       "      <td>2013</td>\n",
       "      <td>52262</td>\n",
       "      <td>Petrol</td>\n",
       "      <td>Automatic</td>\n",
       "      <td>Third</td>\n",
       "      <td>17.2 kmpl</td>\n",
       "      <td>1197 CC</td>\n",
       "      <td>103.6 bhp</td>\n",
       "      <td>5.0</td>\n",
       "      <td>NaN</td>\n",
       "      <td>NaN</td>\n",
       "    </tr>\n",
       "    <tr>\n",
       "      <th>7252</th>\n",
       "      <td>7252</td>\n",
       "      <td>Mercedes-Benz E-Class 2009-2013 E 220 CDI Avan...</td>\n",
       "      <td>Kochi</td>\n",
       "      <td>2014</td>\n",
       "      <td>72443</td>\n",
       "      <td>Diesel</td>\n",
       "      <td>Automatic</td>\n",
       "      <td>First</td>\n",
       "      <td>10.0 kmpl</td>\n",
       "      <td>2148 CC</td>\n",
       "      <td>170 bhp</td>\n",
       "      <td>5.0</td>\n",
       "      <td>NaN</td>\n",
       "      <td>NaN</td>\n",
       "    </tr>\n",
       "  </tbody>\n",
       "</table>\n",
       "</div>"
      ],
      "text/plain": [
       "      S.No.                                               Name    Location  \\\n",
       "7243   7243                     Renault Duster 85PS Diesel RxL     Chennai   \n",
       "7244   7244                              Chevrolet Aveo 1.4 LS        Pune   \n",
       "7245   7245                              Honda Amaze S i-Vtech       Kochi   \n",
       "7246   7246                          Hyundai Grand i10 AT Asta  Coimbatore   \n",
       "7247   7247                            Hyundai EON D Lite Plus  Coimbatore   \n",
       "7248   7248                  Volkswagen Vento Diesel Trendline   Hyderabad   \n",
       "7249   7249                             Volkswagen Polo GT TSI      Mumbai   \n",
       "7250   7250                             Nissan Micra Diesel XV     Kolkata   \n",
       "7251   7251                             Volkswagen Polo GT TSI        Pune   \n",
       "7252   7252  Mercedes-Benz E-Class 2009-2013 E 220 CDI Avan...       Kochi   \n",
       "\n",
       "      Year  Kilometers_Driven Fuel_Type Transmission Owner_Type     Mileage  \\\n",
       "7243  2015              70000    Diesel       Manual      First  19.87 kmpl   \n",
       "7244  2009              45463    Petrol       Manual      First  14.49 kmpl   \n",
       "7245  2015              44776    Petrol       Manual      First   18.0 kmpl   \n",
       "7246  2016              18242    Petrol    Automatic      First   18.9 kmpl   \n",
       "7247  2015              21190    Petrol       Manual      First   21.1 kmpl   \n",
       "7248  2011              89411    Diesel       Manual      First  20.54 kmpl   \n",
       "7249  2015              59000    Petrol    Automatic      First  17.21 kmpl   \n",
       "7250  2012              28000    Diesel       Manual      First  23.08 kmpl   \n",
       "7251  2013              52262    Petrol    Automatic      Third   17.2 kmpl   \n",
       "7252  2014              72443    Diesel    Automatic      First   10.0 kmpl   \n",
       "\n",
       "       Engine      Power  Seats New_Price  Price  \n",
       "7243  1461 CC   83.8 bhp    5.0       NaN    NaN  \n",
       "7244  1399 CC   92.7 bhp    5.0       NaN    NaN  \n",
       "7245  1198 CC   86.7 bhp    5.0       NaN    NaN  \n",
       "7246  1197 CC     82 bhp    5.0       NaN    NaN  \n",
       "7247   814 CC   55.2 bhp    5.0       NaN    NaN  \n",
       "7248  1598 CC  103.6 bhp    5.0       NaN    NaN  \n",
       "7249  1197 CC  103.6 bhp    5.0       NaN    NaN  \n",
       "7250  1461 CC   63.1 bhp    5.0       NaN    NaN  \n",
       "7251  1197 CC  103.6 bhp    5.0       NaN    NaN  \n",
       "7252  2148 CC    170 bhp    5.0       NaN    NaN  "
      ]
     },
     "execution_count": 4,
     "metadata": {},
     "output_type": "execute_result"
    },
    {
     "data": {
      "application/javascript": [
       "\n",
       "            setTimeout(function() {\n",
       "                var nbb_cell_id = 4;\n",
       "                var nbb_unformatted_code = \"# last 10 rows\\ncars.tail(10)\";\n",
       "                var nbb_formatted_code = \"# last 10 rows\\ncars.tail(10)\";\n",
       "                var nbb_cells = Jupyter.notebook.get_cells();\n",
       "                for (var i = 0; i < nbb_cells.length; ++i) {\n",
       "                    if (nbb_cells[i].input_prompt_number == nbb_cell_id) {\n",
       "                        if (nbb_cells[i].get_text() == nbb_unformatted_code) {\n",
       "                             nbb_cells[i].set_text(nbb_formatted_code);\n",
       "                        }\n",
       "                        break;\n",
       "                    }\n",
       "                }\n",
       "            }, 500);\n",
       "            "
      ],
      "text/plain": [
       "<IPython.core.display.Javascript object>"
      ]
     },
     "metadata": {},
     "output_type": "display_data"
    }
   ],
   "source": [
    "# last 10 rows\n",
    "cars.tail(10)"
   ]
  },
  {
   "cell_type": "code",
   "execution_count": 5,
   "id": "379c8bb5",
   "metadata": {},
   "outputs": [
    {
     "data": {
      "text/html": [
       "<div>\n",
       "<style scoped>\n",
       "    .dataframe tbody tr th:only-of-type {\n",
       "        vertical-align: middle;\n",
       "    }\n",
       "\n",
       "    .dataframe tbody tr th {\n",
       "        vertical-align: top;\n",
       "    }\n",
       "\n",
       "    .dataframe thead th {\n",
       "        text-align: right;\n",
       "    }\n",
       "</style>\n",
       "<table border=\"1\" class=\"dataframe\">\n",
       "  <thead>\n",
       "    <tr style=\"text-align: right;\">\n",
       "      <th></th>\n",
       "      <th>S.No.</th>\n",
       "      <th>Name</th>\n",
       "      <th>Location</th>\n",
       "      <th>Year</th>\n",
       "      <th>Kilometers_Driven</th>\n",
       "      <th>Fuel_Type</th>\n",
       "      <th>Transmission</th>\n",
       "      <th>Owner_Type</th>\n",
       "      <th>Mileage</th>\n",
       "      <th>Engine</th>\n",
       "      <th>Power</th>\n",
       "      <th>Seats</th>\n",
       "      <th>New_Price</th>\n",
       "      <th>Price</th>\n",
       "    </tr>\n",
       "  </thead>\n",
       "  <tbody>\n",
       "    <tr>\n",
       "      <th>2397</th>\n",
       "      <td>2397</td>\n",
       "      <td>Ford EcoSport 1.5 Petrol Trend</td>\n",
       "      <td>Kolkata</td>\n",
       "      <td>2016</td>\n",
       "      <td>21460</td>\n",
       "      <td>Petrol</td>\n",
       "      <td>Manual</td>\n",
       "      <td>First</td>\n",
       "      <td>17.0 kmpl</td>\n",
       "      <td>1497 CC</td>\n",
       "      <td>121.36 bhp</td>\n",
       "      <td>5.0</td>\n",
       "      <td>9.47 Lakh</td>\n",
       "      <td>6.00</td>\n",
       "    </tr>\n",
       "    <tr>\n",
       "      <th>3777</th>\n",
       "      <td>3777</td>\n",
       "      <td>Maruti Wagon R VXI 1.2</td>\n",
       "      <td>Kochi</td>\n",
       "      <td>2015</td>\n",
       "      <td>49818</td>\n",
       "      <td>Petrol</td>\n",
       "      <td>Manual</td>\n",
       "      <td>First</td>\n",
       "      <td>21.5 kmpl</td>\n",
       "      <td>1197 CC</td>\n",
       "      <td>81.80 bhp</td>\n",
       "      <td>5.0</td>\n",
       "      <td>5.44 Lakh</td>\n",
       "      <td>4.11</td>\n",
       "    </tr>\n",
       "    <tr>\n",
       "      <th>4425</th>\n",
       "      <td>4425</td>\n",
       "      <td>Ford Endeavour 4x2 XLT</td>\n",
       "      <td>Hyderabad</td>\n",
       "      <td>2007</td>\n",
       "      <td>130000</td>\n",
       "      <td>Diesel</td>\n",
       "      <td>Manual</td>\n",
       "      <td>First</td>\n",
       "      <td>13.1 kmpl</td>\n",
       "      <td>2499 CC</td>\n",
       "      <td>141 bhp</td>\n",
       "      <td>7.0</td>\n",
       "      <td>NaN</td>\n",
       "      <td>6.00</td>\n",
       "    </tr>\n",
       "    <tr>\n",
       "      <th>3661</th>\n",
       "      <td>3661</td>\n",
       "      <td>Mercedes-Benz E-Class E250 CDI Avantgrade</td>\n",
       "      <td>Coimbatore</td>\n",
       "      <td>2016</td>\n",
       "      <td>39753</td>\n",
       "      <td>Diesel</td>\n",
       "      <td>Automatic</td>\n",
       "      <td>First</td>\n",
       "      <td>13.0 kmpl</td>\n",
       "      <td>2143 CC</td>\n",
       "      <td>201.1 bhp</td>\n",
       "      <td>5.0</td>\n",
       "      <td>NaN</td>\n",
       "      <td>35.28</td>\n",
       "    </tr>\n",
       "    <tr>\n",
       "      <th>4514</th>\n",
       "      <td>4514</td>\n",
       "      <td>Hyundai Xcent 1.2 Kappa AT SX Option</td>\n",
       "      <td>Kochi</td>\n",
       "      <td>2016</td>\n",
       "      <td>45560</td>\n",
       "      <td>Petrol</td>\n",
       "      <td>Automatic</td>\n",
       "      <td>First</td>\n",
       "      <td>16.9 kmpl</td>\n",
       "      <td>1197 CC</td>\n",
       "      <td>82 bhp</td>\n",
       "      <td>5.0</td>\n",
       "      <td>NaN</td>\n",
       "      <td>6.34</td>\n",
       "    </tr>\n",
       "    <tr>\n",
       "      <th>599</th>\n",
       "      <td>599</td>\n",
       "      <td>Toyota Innova Crysta 2.8 ZX AT</td>\n",
       "      <td>Coimbatore</td>\n",
       "      <td>2019</td>\n",
       "      <td>40674</td>\n",
       "      <td>Diesel</td>\n",
       "      <td>Automatic</td>\n",
       "      <td>First</td>\n",
       "      <td>11.36 kmpl</td>\n",
       "      <td>2755 CC</td>\n",
       "      <td>171.5 bhp</td>\n",
       "      <td>7.0</td>\n",
       "      <td>28.05 Lakh</td>\n",
       "      <td>24.82</td>\n",
       "    </tr>\n",
       "    <tr>\n",
       "      <th>186</th>\n",
       "      <td>186</td>\n",
       "      <td>Mercedes-Benz E-Class E250 CDI Avantgrade</td>\n",
       "      <td>Bangalore</td>\n",
       "      <td>2014</td>\n",
       "      <td>37382</td>\n",
       "      <td>Diesel</td>\n",
       "      <td>Automatic</td>\n",
       "      <td>First</td>\n",
       "      <td>13.0 kmpl</td>\n",
       "      <td>2143 CC</td>\n",
       "      <td>201.1 bhp</td>\n",
       "      <td>5.0</td>\n",
       "      <td>NaN</td>\n",
       "      <td>32.00</td>\n",
       "    </tr>\n",
       "    <tr>\n",
       "      <th>305</th>\n",
       "      <td>305</td>\n",
       "      <td>Audi A6 2011-2015 2.0 TDI Premium Plus</td>\n",
       "      <td>Kochi</td>\n",
       "      <td>2014</td>\n",
       "      <td>61726</td>\n",
       "      <td>Diesel</td>\n",
       "      <td>Automatic</td>\n",
       "      <td>First</td>\n",
       "      <td>17.68 kmpl</td>\n",
       "      <td>1968 CC</td>\n",
       "      <td>174.33 bhp</td>\n",
       "      <td>5.0</td>\n",
       "      <td>NaN</td>\n",
       "      <td>20.77</td>\n",
       "    </tr>\n",
       "    <tr>\n",
       "      <th>4582</th>\n",
       "      <td>4582</td>\n",
       "      <td>Hyundai i20 1.2 Magna</td>\n",
       "      <td>Kolkata</td>\n",
       "      <td>2011</td>\n",
       "      <td>36000</td>\n",
       "      <td>Petrol</td>\n",
       "      <td>Manual</td>\n",
       "      <td>First</td>\n",
       "      <td>18.5 kmpl</td>\n",
       "      <td>1197 CC</td>\n",
       "      <td>80 bhp</td>\n",
       "      <td>5.0</td>\n",
       "      <td>NaN</td>\n",
       "      <td>2.50</td>\n",
       "    </tr>\n",
       "    <tr>\n",
       "      <th>5434</th>\n",
       "      <td>5434</td>\n",
       "      <td>Honda WR-V Edge Edition i-VTEC S</td>\n",
       "      <td>Kochi</td>\n",
       "      <td>2019</td>\n",
       "      <td>13913</td>\n",
       "      <td>Petrol</td>\n",
       "      <td>Manual</td>\n",
       "      <td>First</td>\n",
       "      <td>17.5 kmpl</td>\n",
       "      <td>1199 CC</td>\n",
       "      <td>88.7 bhp</td>\n",
       "      <td>5.0</td>\n",
       "      <td>9.36 Lakh</td>\n",
       "      <td>8.20</td>\n",
       "    </tr>\n",
       "  </tbody>\n",
       "</table>\n",
       "</div>"
      ],
      "text/plain": [
       "      S.No.                                       Name    Location  Year  \\\n",
       "2397   2397             Ford EcoSport 1.5 Petrol Trend     Kolkata  2016   \n",
       "3777   3777                     Maruti Wagon R VXI 1.2       Kochi  2015   \n",
       "4425   4425                     Ford Endeavour 4x2 XLT   Hyderabad  2007   \n",
       "3661   3661  Mercedes-Benz E-Class E250 CDI Avantgrade  Coimbatore  2016   \n",
       "4514   4514       Hyundai Xcent 1.2 Kappa AT SX Option       Kochi  2016   \n",
       "599     599             Toyota Innova Crysta 2.8 ZX AT  Coimbatore  2019   \n",
       "186     186  Mercedes-Benz E-Class E250 CDI Avantgrade   Bangalore  2014   \n",
       "305     305     Audi A6 2011-2015 2.0 TDI Premium Plus       Kochi  2014   \n",
       "4582   4582                      Hyundai i20 1.2 Magna     Kolkata  2011   \n",
       "5434   5434           Honda WR-V Edge Edition i-VTEC S       Kochi  2019   \n",
       "\n",
       "      Kilometers_Driven Fuel_Type Transmission Owner_Type     Mileage  \\\n",
       "2397              21460    Petrol       Manual      First   17.0 kmpl   \n",
       "3777              49818    Petrol       Manual      First   21.5 kmpl   \n",
       "4425             130000    Diesel       Manual      First   13.1 kmpl   \n",
       "3661              39753    Diesel    Automatic      First   13.0 kmpl   \n",
       "4514              45560    Petrol    Automatic      First   16.9 kmpl   \n",
       "599               40674    Diesel    Automatic      First  11.36 kmpl   \n",
       "186               37382    Diesel    Automatic      First   13.0 kmpl   \n",
       "305               61726    Diesel    Automatic      First  17.68 kmpl   \n",
       "4582              36000    Petrol       Manual      First   18.5 kmpl   \n",
       "5434              13913    Petrol       Manual      First   17.5 kmpl   \n",
       "\n",
       "       Engine       Power  Seats   New_Price  Price  \n",
       "2397  1497 CC  121.36 bhp    5.0   9.47 Lakh   6.00  \n",
       "3777  1197 CC   81.80 bhp    5.0   5.44 Lakh   4.11  \n",
       "4425  2499 CC     141 bhp    7.0         NaN   6.00  \n",
       "3661  2143 CC   201.1 bhp    5.0         NaN  35.28  \n",
       "4514  1197 CC      82 bhp    5.0         NaN   6.34  \n",
       "599   2755 CC   171.5 bhp    7.0  28.05 Lakh  24.82  \n",
       "186   2143 CC   201.1 bhp    5.0         NaN  32.00  \n",
       "305   1968 CC  174.33 bhp    5.0         NaN  20.77  \n",
       "4582  1197 CC      80 bhp    5.0         NaN   2.50  \n",
       "5434  1199 CC    88.7 bhp    5.0   9.36 Lakh   8.20  "
      ]
     },
     "execution_count": 5,
     "metadata": {},
     "output_type": "execute_result"
    },
    {
     "data": {
      "application/javascript": [
       "\n",
       "            setTimeout(function() {\n",
       "                var nbb_cell_id = 5;\n",
       "                var nbb_unformatted_code = \"# random 10 rows\\nnp.random.seed(1)\\ncars.sample(n=10)\";\n",
       "                var nbb_formatted_code = \"# random 10 rows\\nnp.random.seed(1)\\ncars.sample(n=10)\";\n",
       "                var nbb_cells = Jupyter.notebook.get_cells();\n",
       "                for (var i = 0; i < nbb_cells.length; ++i) {\n",
       "                    if (nbb_cells[i].input_prompt_number == nbb_cell_id) {\n",
       "                        if (nbb_cells[i].get_text() == nbb_unformatted_code) {\n",
       "                             nbb_cells[i].set_text(nbb_formatted_code);\n",
       "                        }\n",
       "                        break;\n",
       "                    }\n",
       "                }\n",
       "            }, 500);\n",
       "            "
      ],
      "text/plain": [
       "<IPython.core.display.Javascript object>"
      ]
     },
     "metadata": {},
     "output_type": "display_data"
    }
   ],
   "source": [
    "# random 10 rows\n",
    "np.random.seed(1)\n",
    "cars.sample(n=10)"
   ]
  },
  {
   "cell_type": "markdown",
   "id": "c1d31ecc",
   "metadata": {},
   "source": [
    "__Observations:__\n",
    "* Fuel_Type, Transmission, Seats are all categorical variables. If Owner_Type has any other values besides \"First\" it could be a categorical variable as well.\n",
    "* Units need to be removed from Mileage, Engine, Power, and New_Price."
   ]
  },
  {
   "cell_type": "markdown",
   "id": "997c14d6",
   "metadata": {},
   "source": [
    "## 2.2 - Check the shape of the data"
   ]
  },
  {
   "cell_type": "code",
   "execution_count": 6,
   "id": "78db039b",
   "metadata": {},
   "outputs": [
    {
     "data": {
      "text/plain": [
       "(7253, 14)"
      ]
     },
     "execution_count": 6,
     "metadata": {},
     "output_type": "execute_result"
    },
    {
     "data": {
      "application/javascript": [
       "\n",
       "            setTimeout(function() {\n",
       "                var nbb_cell_id = 6;\n",
       "                var nbb_unformatted_code = \"cars.shape\";\n",
       "                var nbb_formatted_code = \"cars.shape\";\n",
       "                var nbb_cells = Jupyter.notebook.get_cells();\n",
       "                for (var i = 0; i < nbb_cells.length; ++i) {\n",
       "                    if (nbb_cells[i].input_prompt_number == nbb_cell_id) {\n",
       "                        if (nbb_cells[i].get_text() == nbb_unformatted_code) {\n",
       "                             nbb_cells[i].set_text(nbb_formatted_code);\n",
       "                        }\n",
       "                        break;\n",
       "                    }\n",
       "                }\n",
       "            }, 500);\n",
       "            "
      ],
      "text/plain": [
       "<IPython.core.display.Javascript object>"
      ]
     },
     "metadata": {},
     "output_type": "display_data"
    }
   ],
   "source": [
    "cars.shape"
   ]
  },
  {
   "cell_type": "markdown",
   "id": "35ee2f0e",
   "metadata": {},
   "source": [
    "## 2.3 - Check the datatypes and row counts for each column"
   ]
  },
  {
   "cell_type": "code",
   "execution_count": 7,
   "id": "a6a6518e",
   "metadata": {},
   "outputs": [
    {
     "name": "stdout",
     "output_type": "stream",
     "text": [
      "<class 'pandas.core.frame.DataFrame'>\n",
      "RangeIndex: 7253 entries, 0 to 7252\n",
      "Data columns (total 14 columns):\n",
      " #   Column             Non-Null Count  Dtype  \n",
      "---  ------             --------------  -----  \n",
      " 0   S.No.              7253 non-null   int64  \n",
      " 1   Name               7253 non-null   object \n",
      " 2   Location           7253 non-null   object \n",
      " 3   Year               7253 non-null   int64  \n",
      " 4   Kilometers_Driven  7253 non-null   int64  \n",
      " 5   Fuel_Type          7253 non-null   object \n",
      " 6   Transmission       7253 non-null   object \n",
      " 7   Owner_Type         7253 non-null   object \n",
      " 8   Mileage            7251 non-null   object \n",
      " 9   Engine             7207 non-null   object \n",
      " 10  Power              7207 non-null   object \n",
      " 11  Seats              7200 non-null   float64\n",
      " 12  New_Price          1006 non-null   object \n",
      " 13  Price              6019 non-null   float64\n",
      "dtypes: float64(2), int64(3), object(9)\n",
      "memory usage: 793.4+ KB\n"
     ]
    },
    {
     "data": {
      "application/javascript": [
       "\n",
       "            setTimeout(function() {\n",
       "                var nbb_cell_id = 7;\n",
       "                var nbb_unformatted_code = \"cars.info()\";\n",
       "                var nbb_formatted_code = \"cars.info()\";\n",
       "                var nbb_cells = Jupyter.notebook.get_cells();\n",
       "                for (var i = 0; i < nbb_cells.length; ++i) {\n",
       "                    if (nbb_cells[i].input_prompt_number == nbb_cell_id) {\n",
       "                        if (nbb_cells[i].get_text() == nbb_unformatted_code) {\n",
       "                             nbb_cells[i].set_text(nbb_formatted_code);\n",
       "                        }\n",
       "                        break;\n",
       "                    }\n",
       "                }\n",
       "            }, 500);\n",
       "            "
      ],
      "text/plain": [
       "<IPython.core.display.Javascript object>"
      ]
     },
     "metadata": {},
     "output_type": "display_data"
    }
   ],
   "source": [
    "cars.info()"
   ]
  },
  {
   "cell_type": "markdown",
   "id": "ec205707",
   "metadata": {},
   "source": [
    "__Observations:__\n",
    "* The following have null values that need to be dealt with: Mileage, Engine, Power, Seats, New_Price, and Price.\n",
    "* Confirming from earlier observation that Fuel_Type, Transmission, Owner_Type, and Seats need to be converted to categorical variables.\n",
    "* Mileage, Power, and New_Price need to be converted to a float once units are removed.\n",
    "* Engine should be an integer once units are removed."
   ]
  },
  {
   "cell_type": "markdown",
   "id": "2d0d83f1",
   "metadata": {},
   "source": [
    "## 2.4 - Drop Values"
   ]
  },
  {
   "cell_type": "code",
   "execution_count": 8,
   "id": "c9f69af6",
   "metadata": {},
   "outputs": [
    {
     "data": {
      "application/javascript": [
       "\n",
       "            setTimeout(function() {\n",
       "                var nbb_cell_id = 8;\n",
       "                var nbb_unformatted_code = \"# S.No. is an identifier - not really useful for current project\\ncars.drop([\\\"S.No.\\\"], axis=1, inplace=True)\\n\\n# New Price is missing over 50% of values (advice per Project Forum)\\ncars.drop([\\\"New_Price\\\"], axis=1, inplace=True)\";\n",
       "                var nbb_formatted_code = \"# S.No. is an identifier - not really useful for current project\\ncars.drop([\\\"S.No.\\\"], axis=1, inplace=True)\\n\\n# New Price is missing over 50% of values (advice per Project Forum)\\ncars.drop([\\\"New_Price\\\"], axis=1, inplace=True)\";\n",
       "                var nbb_cells = Jupyter.notebook.get_cells();\n",
       "                for (var i = 0; i < nbb_cells.length; ++i) {\n",
       "                    if (nbb_cells[i].input_prompt_number == nbb_cell_id) {\n",
       "                        if (nbb_cells[i].get_text() == nbb_unformatted_code) {\n",
       "                             nbb_cells[i].set_text(nbb_formatted_code);\n",
       "                        }\n",
       "                        break;\n",
       "                    }\n",
       "                }\n",
       "            }, 500);\n",
       "            "
      ],
      "text/plain": [
       "<IPython.core.display.Javascript object>"
      ]
     },
     "metadata": {},
     "output_type": "display_data"
    }
   ],
   "source": [
    "# S.No. is an identifier - not really useful for current project\n",
    "cars.drop([\"S.No.\"], axis=1, inplace=True)\n",
    "\n",
    "# New Price is missing over 50% of values (advice per Project Forum)\n",
    "cars.drop([\"New_Price\"], axis=1, inplace=True)"
   ]
  },
  {
   "cell_type": "markdown",
   "id": "f97669e1",
   "metadata": {},
   "source": [
    "## 2.5 - Fix Mileage - Remove Units, Convert to Float, Treat Missing Values"
   ]
  },
  {
   "cell_type": "code",
   "execution_count": 9,
   "id": "e6005289",
   "metadata": {},
   "outputs": [
    {
     "data": {
      "application/javascript": [
       "\n",
       "            setTimeout(function() {\n",
       "                var nbb_cell_id = 9;\n",
       "                var nbb_unformatted_code = \"# Remove units for Mileage and convert to float - possible units are km/kg and kmpl\\nfor index in cars[\\\"Mileage\\\"].index:\\n    if str(cars[\\\"Mileage\\\"][index]).endswith(\\\"g\\\"):\\n        cars[\\\"Mileage\\\"][index] = str(cars[\\\"Mileage\\\"][index]).replace(\\\"km/kg\\\", \\\"\\\")\\n    elif str(cars[\\\"Mileage\\\"][index]).endswith(\\\"l\\\"):\\n        cars[\\\"Mileage\\\"][index] = str(cars[\\\"Mileage\\\"][index]).replace(\\\"kmpl\\\", \\\"\\\")\\n\\ncars[\\\"Mileage\\\"] = cars[\\\"Mileage\\\"].astype(\\\"float\\\")\";\n",
       "                var nbb_formatted_code = \"# Remove units for Mileage and convert to float - possible units are km/kg and kmpl\\nfor index in cars[\\\"Mileage\\\"].index:\\n    if str(cars[\\\"Mileage\\\"][index]).endswith(\\\"g\\\"):\\n        cars[\\\"Mileage\\\"][index] = str(cars[\\\"Mileage\\\"][index]).replace(\\\"km/kg\\\", \\\"\\\")\\n    elif str(cars[\\\"Mileage\\\"][index]).endswith(\\\"l\\\"):\\n        cars[\\\"Mileage\\\"][index] = str(cars[\\\"Mileage\\\"][index]).replace(\\\"kmpl\\\", \\\"\\\")\\n\\ncars[\\\"Mileage\\\"] = cars[\\\"Mileage\\\"].astype(\\\"float\\\")\";\n",
       "                var nbb_cells = Jupyter.notebook.get_cells();\n",
       "                for (var i = 0; i < nbb_cells.length; ++i) {\n",
       "                    if (nbb_cells[i].input_prompt_number == nbb_cell_id) {\n",
       "                        if (nbb_cells[i].get_text() == nbb_unformatted_code) {\n",
       "                             nbb_cells[i].set_text(nbb_formatted_code);\n",
       "                        }\n",
       "                        break;\n",
       "                    }\n",
       "                }\n",
       "            }, 500);\n",
       "            "
      ],
      "text/plain": [
       "<IPython.core.display.Javascript object>"
      ]
     },
     "metadata": {},
     "output_type": "display_data"
    }
   ],
   "source": [
    "# Remove units for Mileage and convert to float - possible units are km/kg and kmpl\n",
    "for index in cars[\"Mileage\"].index:\n",
    "    if str(cars[\"Mileage\"][index]).endswith(\"g\"):\n",
    "        cars[\"Mileage\"][index] = str(cars[\"Mileage\"][index]).replace(\"km/kg\", \"\")\n",
    "    elif str(cars[\"Mileage\"][index]).endswith(\"l\"):\n",
    "        cars[\"Mileage\"][index] = str(cars[\"Mileage\"][index]).replace(\"kmpl\", \"\")\n",
    "\n",
    "cars[\"Mileage\"] = cars[\"Mileage\"].astype(\"float\")"
   ]
  },
  {
   "cell_type": "code",
   "execution_count": 10,
   "id": "907a7e86",
   "metadata": {},
   "outputs": [
    {
     "data": {
      "text/plain": [
       "0       26.60\n",
       "1       19.67\n",
       "2       18.20\n",
       "3       20.77\n",
       "4       15.20\n",
       "        ...  \n",
       "7248    20.54\n",
       "7249    17.21\n",
       "7250    23.08\n",
       "7251    17.20\n",
       "7252    10.00\n",
       "Name: Mileage, Length: 7253, dtype: float64"
      ]
     },
     "execution_count": 10,
     "metadata": {},
     "output_type": "execute_result"
    },
    {
     "data": {
      "application/javascript": [
       "\n",
       "            setTimeout(function() {\n",
       "                var nbb_cell_id = 10;\n",
       "                var nbb_unformatted_code = \"# confirming changes to Mileage were successful\\ncars[\\\"Mileage\\\"]\";\n",
       "                var nbb_formatted_code = \"# confirming changes to Mileage were successful\\ncars[\\\"Mileage\\\"]\";\n",
       "                var nbb_cells = Jupyter.notebook.get_cells();\n",
       "                for (var i = 0; i < nbb_cells.length; ++i) {\n",
       "                    if (nbb_cells[i].input_prompt_number == nbb_cell_id) {\n",
       "                        if (nbb_cells[i].get_text() == nbb_unformatted_code) {\n",
       "                             nbb_cells[i].set_text(nbb_formatted_code);\n",
       "                        }\n",
       "                        break;\n",
       "                    }\n",
       "                }\n",
       "            }, 500);\n",
       "            "
      ],
      "text/plain": [
       "<IPython.core.display.Javascript object>"
      ]
     },
     "metadata": {},
     "output_type": "display_data"
    }
   ],
   "source": [
    "# confirming changes to Mileage were successful\n",
    "cars[\"Mileage\"]"
   ]
  },
  {
   "cell_type": "code",
   "execution_count": 11,
   "id": "515dac95",
   "metadata": {},
   "outputs": [
    {
     "data": {
      "text/plain": [
       "0"
      ]
     },
     "execution_count": 11,
     "metadata": {},
     "output_type": "execute_result"
    },
    {
     "data": {
      "application/javascript": [
       "\n",
       "            setTimeout(function() {\n",
       "                var nbb_cell_id = 11;\n",
       "                var nbb_unformatted_code = \"# Replace missing values with median\\ncars[\\\"Mileage\\\"].fillna(cars[\\\"Mileage\\\"].median(), inplace=True)\\n\\n# Double-check change to Mileage took place\\ncars[\\\"Mileage\\\"].isnull().sum()\";\n",
       "                var nbb_formatted_code = \"# Replace missing values with median\\ncars[\\\"Mileage\\\"].fillna(cars[\\\"Mileage\\\"].median(), inplace=True)\\n\\n# Double-check change to Mileage took place\\ncars[\\\"Mileage\\\"].isnull().sum()\";\n",
       "                var nbb_cells = Jupyter.notebook.get_cells();\n",
       "                for (var i = 0; i < nbb_cells.length; ++i) {\n",
       "                    if (nbb_cells[i].input_prompt_number == nbb_cell_id) {\n",
       "                        if (nbb_cells[i].get_text() == nbb_unformatted_code) {\n",
       "                             nbb_cells[i].set_text(nbb_formatted_code);\n",
       "                        }\n",
       "                        break;\n",
       "                    }\n",
       "                }\n",
       "            }, 500);\n",
       "            "
      ],
      "text/plain": [
       "<IPython.core.display.Javascript object>"
      ]
     },
     "metadata": {},
     "output_type": "display_data"
    }
   ],
   "source": [
    "# Replace missing values with median\n",
    "cars[\"Mileage\"].fillna(cars[\"Mileage\"].median(), inplace=True)\n",
    "\n",
    "# Double-check change to Mileage took place\n",
    "cars[\"Mileage\"].isnull().sum()"
   ]
  },
  {
   "cell_type": "markdown",
   "id": "18f1625c",
   "metadata": {},
   "source": [
    "## 2.6 - Fix Power - Remove Units, Convert to Float, Treat Missing Values"
   ]
  },
  {
   "cell_type": "code",
   "execution_count": 12,
   "id": "365fcd31",
   "metadata": {},
   "outputs": [
    {
     "data": {
      "application/javascript": [
       "\n",
       "            setTimeout(function() {\n",
       "                var nbb_cell_id = 12;\n",
       "                var nbb_unformatted_code = \"# Remove units for Power - possible units are bhp\\nfor index in cars[\\\"Power\\\"].index:\\n    if str(cars[\\\"Power\\\"][index]).endswith(\\\"p\\\"):\\n        cars[\\\"Power\\\"][index] = str(cars[\\\"Power\\\"][index]).replace(\\\"bhp\\\", \\\"\\\")\\n\\n# Convert nulls and blanks to NaN\\nfor index in cars[\\\"Power\\\"].index:\\n    if \\\"null\\\" in str(cars[\\\"Power\\\"][index]):\\n        cars[\\\"Power\\\"][index] = np.nan\";\n",
       "                var nbb_formatted_code = \"# Remove units for Power - possible units are bhp\\nfor index in cars[\\\"Power\\\"].index:\\n    if str(cars[\\\"Power\\\"][index]).endswith(\\\"p\\\"):\\n        cars[\\\"Power\\\"][index] = str(cars[\\\"Power\\\"][index]).replace(\\\"bhp\\\", \\\"\\\")\\n\\n# Convert nulls and blanks to NaN\\nfor index in cars[\\\"Power\\\"].index:\\n    if \\\"null\\\" in str(cars[\\\"Power\\\"][index]):\\n        cars[\\\"Power\\\"][index] = np.nan\";\n",
       "                var nbb_cells = Jupyter.notebook.get_cells();\n",
       "                for (var i = 0; i < nbb_cells.length; ++i) {\n",
       "                    if (nbb_cells[i].input_prompt_number == nbb_cell_id) {\n",
       "                        if (nbb_cells[i].get_text() == nbb_unformatted_code) {\n",
       "                             nbb_cells[i].set_text(nbb_formatted_code);\n",
       "                        }\n",
       "                        break;\n",
       "                    }\n",
       "                }\n",
       "            }, 500);\n",
       "            "
      ],
      "text/plain": [
       "<IPython.core.display.Javascript object>"
      ]
     },
     "metadata": {},
     "output_type": "display_data"
    }
   ],
   "source": [
    "# Remove units for Power - possible units are bhp\n",
    "for index in cars[\"Power\"].index:\n",
    "    if str(cars[\"Power\"][index]).endswith(\"p\"):\n",
    "        cars[\"Power\"][index] = str(cars[\"Power\"][index]).replace(\"bhp\", \"\")\n",
    "\n",
    "# Convert nulls and blanks to NaN\n",
    "for index in cars[\"Power\"].index:\n",
    "    if \"null\" in str(cars[\"Power\"][index]):\n",
    "        cars[\"Power\"][index] = np.nan"
   ]
  },
  {
   "cell_type": "code",
   "execution_count": 13,
   "id": "231a5c87",
   "metadata": {},
   "outputs": [
    {
     "data": {
      "text/plain": [
       "0       58.16 \n",
       "1       126.2 \n",
       "2        88.7 \n",
       "3       88.76 \n",
       "4       140.8 \n",
       "         ...  \n",
       "7248    103.6 \n",
       "7249    103.6 \n",
       "7250     63.1 \n",
       "7251    103.6 \n",
       "7252      170 \n",
       "Name: Power, Length: 7253, dtype: object"
      ]
     },
     "execution_count": 13,
     "metadata": {},
     "output_type": "execute_result"
    },
    {
     "data": {
      "application/javascript": [
       "\n",
       "            setTimeout(function() {\n",
       "                var nbb_cell_id = 13;\n",
       "                var nbb_unformatted_code = \"# confirming changes to \\\"Power\\\" were successful\\ncars[\\\"Power\\\"]\";\n",
       "                var nbb_formatted_code = \"# confirming changes to \\\"Power\\\" were successful\\ncars[\\\"Power\\\"]\";\n",
       "                var nbb_cells = Jupyter.notebook.get_cells();\n",
       "                for (var i = 0; i < nbb_cells.length; ++i) {\n",
       "                    if (nbb_cells[i].input_prompt_number == nbb_cell_id) {\n",
       "                        if (nbb_cells[i].get_text() == nbb_unformatted_code) {\n",
       "                             nbb_cells[i].set_text(nbb_formatted_code);\n",
       "                        }\n",
       "                        break;\n",
       "                    }\n",
       "                }\n",
       "            }, 500);\n",
       "            "
      ],
      "text/plain": [
       "<IPython.core.display.Javascript object>"
      ]
     },
     "metadata": {},
     "output_type": "display_data"
    }
   ],
   "source": [
    "# confirming changes to \"Power\" were successful\n",
    "cars[\"Power\"]"
   ]
  },
  {
   "cell_type": "code",
   "execution_count": 14,
   "id": "8a5b6049",
   "metadata": {},
   "outputs": [
    {
     "data": {
      "text/plain": [
       "175"
      ]
     },
     "execution_count": 14,
     "metadata": {},
     "output_type": "execute_result"
    },
    {
     "data": {
      "application/javascript": [
       "\n",
       "            setTimeout(function() {\n",
       "                var nbb_cell_id = 14;\n",
       "                var nbb_unformatted_code = \"# Checking how many nulls are left\\ncars[\\\"Power\\\"].isnull().sum()\";\n",
       "                var nbb_formatted_code = \"# Checking how many nulls are left\\ncars[\\\"Power\\\"].isnull().sum()\";\n",
       "                var nbb_cells = Jupyter.notebook.get_cells();\n",
       "                for (var i = 0; i < nbb_cells.length; ++i) {\n",
       "                    if (nbb_cells[i].input_prompt_number == nbb_cell_id) {\n",
       "                        if (nbb_cells[i].get_text() == nbb_unformatted_code) {\n",
       "                             nbb_cells[i].set_text(nbb_formatted_code);\n",
       "                        }\n",
       "                        break;\n",
       "                    }\n",
       "                }\n",
       "            }, 500);\n",
       "            "
      ],
      "text/plain": [
       "<IPython.core.display.Javascript object>"
      ]
     },
     "metadata": {},
     "output_type": "display_data"
    }
   ],
   "source": [
    "# Checking how many nulls are left\n",
    "cars[\"Power\"].isnull().sum()"
   ]
  },
  {
   "cell_type": "code",
   "execution_count": 15,
   "id": "ffe8703e",
   "metadata": {},
   "outputs": [
    {
     "data": {
      "application/javascript": [
       "\n",
       "            setTimeout(function() {\n",
       "                var nbb_cell_id = 15;\n",
       "                var nbb_unformatted_code = \"# CODE IDEA NOT WORKING - commenting out\\n\\n# Create a lookup table of unique values for Name, Year, and Power from dataframe\\n# Trying to figure out Power from other matching cars with same name and year\\n# power_lookup = cars[[\\\"Name\\\", \\\"Year\\\", \\\"Power\\\"]].copy()\\n# power_lookup.dropna(inplace=True)\\n# power_lookup = power_lookup.drop_duplicates()\\n\\n# Retrieve value of Power for cars dataframe based on corresponding\\n# Name, Year, Power in lookup table\\n# for index in cars[cars[\\\"Power\\\"].isnull() == True].index:\\n#    car_name = cars[\\\"Name\\\"][index]\\n#    car_year = cars[\\\"Year\\\"][index]\\n\\n#    for index2 in power_lookup.index:\\n#        if power_lookup[\\\"Name\\\"][index2] == car_name:\\n#            if power_lookup[\\\"Year\\\"][index2] == car_year:\\n#                cars[\\\"Power\\\"][index] = power_lookup[\\\"Power\\\"][index2]\\n\\n# Figure out how many remaining nulls are there\\n# cars[\\\"Power\\\"].isnull().sum()\";\n",
       "                var nbb_formatted_code = \"# CODE IDEA NOT WORKING - commenting out\\n\\n# Create a lookup table of unique values for Name, Year, and Power from dataframe\\n# Trying to figure out Power from other matching cars with same name and year\\n# power_lookup = cars[[\\\"Name\\\", \\\"Year\\\", \\\"Power\\\"]].copy()\\n# power_lookup.dropna(inplace=True)\\n# power_lookup = power_lookup.drop_duplicates()\\n\\n# Retrieve value of Power for cars dataframe based on corresponding\\n# Name, Year, Power in lookup table\\n# for index in cars[cars[\\\"Power\\\"].isnull() == True].index:\\n#    car_name = cars[\\\"Name\\\"][index]\\n#    car_year = cars[\\\"Year\\\"][index]\\n\\n#    for index2 in power_lookup.index:\\n#        if power_lookup[\\\"Name\\\"][index2] == car_name:\\n#            if power_lookup[\\\"Year\\\"][index2] == car_year:\\n#                cars[\\\"Power\\\"][index] = power_lookup[\\\"Power\\\"][index2]\\n\\n# Figure out how many remaining nulls are there\\n# cars[\\\"Power\\\"].isnull().sum()\";\n",
       "                var nbb_cells = Jupyter.notebook.get_cells();\n",
       "                for (var i = 0; i < nbb_cells.length; ++i) {\n",
       "                    if (nbb_cells[i].input_prompt_number == nbb_cell_id) {\n",
       "                        if (nbb_cells[i].get_text() == nbb_unformatted_code) {\n",
       "                             nbb_cells[i].set_text(nbb_formatted_code);\n",
       "                        }\n",
       "                        break;\n",
       "                    }\n",
       "                }\n",
       "            }, 500);\n",
       "            "
      ],
      "text/plain": [
       "<IPython.core.display.Javascript object>"
      ]
     },
     "metadata": {},
     "output_type": "display_data"
    }
   ],
   "source": [
    "# CODE IDEA NOT WORKING - commenting out\n",
    "\n",
    "# Create a lookup table of unique values for Name, Year, and Power from dataframe\n",
    "# Trying to figure out Power from other matching cars with same name and year\n",
    "# power_lookup = cars[[\"Name\", \"Year\", \"Power\"]].copy()\n",
    "# power_lookup.dropna(inplace=True)\n",
    "# power_lookup = power_lookup.drop_duplicates()\n",
    "\n",
    "# Retrieve value of Power for cars dataframe based on corresponding\n",
    "# Name, Year, Power in lookup table\n",
    "# for index in cars[cars[\"Power\"].isnull() == True].index:\n",
    "#    car_name = cars[\"Name\"][index]\n",
    "#    car_year = cars[\"Year\"][index]\n",
    "\n",
    "#    for index2 in power_lookup.index:\n",
    "#        if power_lookup[\"Name\"][index2] == car_name:\n",
    "#            if power_lookup[\"Year\"][index2] == car_year:\n",
    "#                cars[\"Power\"][index] = power_lookup[\"Power\"][index2]\n",
    "\n",
    "# Figure out how many remaining nulls are there\n",
    "# cars[\"Power\"].isnull().sum()"
   ]
  },
  {
   "cell_type": "code",
   "execution_count": 16,
   "id": "b5f7b81f",
   "metadata": {},
   "outputs": [
    {
     "data": {
      "text/plain": [
       "0"
      ]
     },
     "execution_count": 16,
     "metadata": {},
     "output_type": "execute_result"
    },
    {
     "data": {
      "application/javascript": [
       "\n",
       "            setTimeout(function() {\n",
       "                var nbb_cell_id = 16;\n",
       "                var nbb_unformatted_code = \"# Fill remaining null values with overall Power median\\ncars[\\\"Power\\\"].fillna(cars[\\\"Power\\\"].median(), inplace=True)\\n\\n# Double-check change to Power took place\\ncars[\\\"Power\\\"].isnull().sum()\";\n",
       "                var nbb_formatted_code = \"# Fill remaining null values with overall Power median\\ncars[\\\"Power\\\"].fillna(cars[\\\"Power\\\"].median(), inplace=True)\\n\\n# Double-check change to Power took place\\ncars[\\\"Power\\\"].isnull().sum()\";\n",
       "                var nbb_cells = Jupyter.notebook.get_cells();\n",
       "                for (var i = 0; i < nbb_cells.length; ++i) {\n",
       "                    if (nbb_cells[i].input_prompt_number == nbb_cell_id) {\n",
       "                        if (nbb_cells[i].get_text() == nbb_unformatted_code) {\n",
       "                             nbb_cells[i].set_text(nbb_formatted_code);\n",
       "                        }\n",
       "                        break;\n",
       "                    }\n",
       "                }\n",
       "            }, 500);\n",
       "            "
      ],
      "text/plain": [
       "<IPython.core.display.Javascript object>"
      ]
     },
     "metadata": {},
     "output_type": "display_data"
    }
   ],
   "source": [
    "# Fill remaining null values with overall Power median\n",
    "cars[\"Power\"].fillna(cars[\"Power\"].median(), inplace=True)\n",
    "\n",
    "# Double-check change to Power took place\n",
    "cars[\"Power\"].isnull().sum()"
   ]
  },
  {
   "cell_type": "code",
   "execution_count": 17,
   "id": "4fedaf57",
   "metadata": {},
   "outputs": [
    {
     "name": "stdout",
     "output_type": "stream",
     "text": [
      "<class 'pandas.core.frame.DataFrame'>\n",
      "RangeIndex: 7253 entries, 0 to 7252\n",
      "Data columns (total 12 columns):\n",
      " #   Column             Non-Null Count  Dtype  \n",
      "---  ------             --------------  -----  \n",
      " 0   Name               7253 non-null   object \n",
      " 1   Location           7253 non-null   object \n",
      " 2   Year               7253 non-null   int64  \n",
      " 3   Kilometers_Driven  7253 non-null   int64  \n",
      " 4   Fuel_Type          7253 non-null   object \n",
      " 5   Transmission       7253 non-null   object \n",
      " 6   Owner_Type         7253 non-null   object \n",
      " 7   Mileage            7253 non-null   float64\n",
      " 8   Engine             7207 non-null   object \n",
      " 9   Power              7253 non-null   float64\n",
      " 10  Seats              7200 non-null   float64\n",
      " 11  Price              6019 non-null   float64\n",
      "dtypes: float64(4), int64(2), object(6)\n",
      "memory usage: 680.1+ KB\n"
     ]
    },
    {
     "data": {
      "application/javascript": [
       "\n",
       "            setTimeout(function() {\n",
       "                var nbb_cell_id = 17;\n",
       "                var nbb_unformatted_code = \"# Convert Power to float\\ncars[\\\"Power\\\"] = cars[\\\"Power\\\"].astype(\\\"float\\\")\\ncars.info()  # confirming change took place\";\n",
       "                var nbb_formatted_code = \"# Convert Power to float\\ncars[\\\"Power\\\"] = cars[\\\"Power\\\"].astype(\\\"float\\\")\\ncars.info()  # confirming change took place\";\n",
       "                var nbb_cells = Jupyter.notebook.get_cells();\n",
       "                for (var i = 0; i < nbb_cells.length; ++i) {\n",
       "                    if (nbb_cells[i].input_prompt_number == nbb_cell_id) {\n",
       "                        if (nbb_cells[i].get_text() == nbb_unformatted_code) {\n",
       "                             nbb_cells[i].set_text(nbb_formatted_code);\n",
       "                        }\n",
       "                        break;\n",
       "                    }\n",
       "                }\n",
       "            }, 500);\n",
       "            "
      ],
      "text/plain": [
       "<IPython.core.display.Javascript object>"
      ]
     },
     "metadata": {},
     "output_type": "display_data"
    }
   ],
   "source": [
    "# Convert Power to float\n",
    "cars[\"Power\"] = cars[\"Power\"].astype(\"float\")\n",
    "cars.info()  # confirming change took place"
   ]
  },
  {
   "cell_type": "markdown",
   "id": "59c4f881",
   "metadata": {},
   "source": [
    "## 2.7 - Fix Engine - Remove Units, Convert to Integer, Treat Missing Values"
   ]
  },
  {
   "cell_type": "code",
   "execution_count": 18,
   "id": "8d1b350a",
   "metadata": {},
   "outputs": [
    {
     "data": {
      "application/javascript": [
       "\n",
       "            setTimeout(function() {\n",
       "                var nbb_cell_id = 18;\n",
       "                var nbb_unformatted_code = \"# Remove units for Engine and convert to integer - possible units are CC\\nfor index in cars[\\\"Engine\\\"].index:\\n    if str(cars[\\\"Engine\\\"][index]).endswith(\\\"C\\\"):\\n        cars[\\\"Engine\\\"][index] = str(cars[\\\"Engine\\\"][index]).replace(\\\"CC\\\", \\\"\\\")\";\n",
       "                var nbb_formatted_code = \"# Remove units for Engine and convert to integer - possible units are CC\\nfor index in cars[\\\"Engine\\\"].index:\\n    if str(cars[\\\"Engine\\\"][index]).endswith(\\\"C\\\"):\\n        cars[\\\"Engine\\\"][index] = str(cars[\\\"Engine\\\"][index]).replace(\\\"CC\\\", \\\"\\\")\";\n",
       "                var nbb_cells = Jupyter.notebook.get_cells();\n",
       "                for (var i = 0; i < nbb_cells.length; ++i) {\n",
       "                    if (nbb_cells[i].input_prompt_number == nbb_cell_id) {\n",
       "                        if (nbb_cells[i].get_text() == nbb_unformatted_code) {\n",
       "                             nbb_cells[i].set_text(nbb_formatted_code);\n",
       "                        }\n",
       "                        break;\n",
       "                    }\n",
       "                }\n",
       "            }, 500);\n",
       "            "
      ],
      "text/plain": [
       "<IPython.core.display.Javascript object>"
      ]
     },
     "metadata": {},
     "output_type": "display_data"
    }
   ],
   "source": [
    "# Remove units for Engine and convert to integer - possible units are CC\n",
    "for index in cars[\"Engine\"].index:\n",
    "    if str(cars[\"Engine\"][index]).endswith(\"C\"):\n",
    "        cars[\"Engine\"][index] = str(cars[\"Engine\"][index]).replace(\"CC\", \"\")"
   ]
  },
  {
   "cell_type": "code",
   "execution_count": 19,
   "id": "71c2f78b",
   "metadata": {},
   "outputs": [
    {
     "data": {
      "text/plain": [
       "0"
      ]
     },
     "execution_count": 19,
     "metadata": {},
     "output_type": "execute_result"
    },
    {
     "data": {
      "application/javascript": [
       "\n",
       "            setTimeout(function() {\n",
       "                var nbb_cell_id = 19;\n",
       "                var nbb_unformatted_code = \"# Treat missing values\\n# Fill remaining null values with overall Power median\\ncars[\\\"Engine\\\"].fillna(cars[\\\"Engine\\\"].median(), inplace=True)\\n\\n# Double-check change to Power took place\\ncars[\\\"Engine\\\"].isnull().sum()\";\n",
       "                var nbb_formatted_code = \"# Treat missing values\\n# Fill remaining null values with overall Power median\\ncars[\\\"Engine\\\"].fillna(cars[\\\"Engine\\\"].median(), inplace=True)\\n\\n# Double-check change to Power took place\\ncars[\\\"Engine\\\"].isnull().sum()\";\n",
       "                var nbb_cells = Jupyter.notebook.get_cells();\n",
       "                for (var i = 0; i < nbb_cells.length; ++i) {\n",
       "                    if (nbb_cells[i].input_prompt_number == nbb_cell_id) {\n",
       "                        if (nbb_cells[i].get_text() == nbb_unformatted_code) {\n",
       "                             nbb_cells[i].set_text(nbb_formatted_code);\n",
       "                        }\n",
       "                        break;\n",
       "                    }\n",
       "                }\n",
       "            }, 500);\n",
       "            "
      ],
      "text/plain": [
       "<IPython.core.display.Javascript object>"
      ]
     },
     "metadata": {},
     "output_type": "display_data"
    }
   ],
   "source": [
    "# Treat missing values\n",
    "# Fill remaining null values with overall Power median\n",
    "cars[\"Engine\"].fillna(cars[\"Engine\"].median(), inplace=True)\n",
    "\n",
    "# Double-check change to Power took place\n",
    "cars[\"Engine\"].isnull().sum()"
   ]
  },
  {
   "cell_type": "code",
   "execution_count": 20,
   "id": "1b3693ef",
   "metadata": {},
   "outputs": [
    {
     "name": "stdout",
     "output_type": "stream",
     "text": [
      "<class 'pandas.core.frame.DataFrame'>\n",
      "RangeIndex: 7253 entries, 0 to 7252\n",
      "Data columns (total 12 columns):\n",
      " #   Column             Non-Null Count  Dtype  \n",
      "---  ------             --------------  -----  \n",
      " 0   Name               7253 non-null   object \n",
      " 1   Location           7253 non-null   object \n",
      " 2   Year               7253 non-null   int64  \n",
      " 3   Kilometers_Driven  7253 non-null   int64  \n",
      " 4   Fuel_Type          7253 non-null   object \n",
      " 5   Transmission       7253 non-null   object \n",
      " 6   Owner_Type         7253 non-null   object \n",
      " 7   Mileage            7253 non-null   float64\n",
      " 8   Engine             7253 non-null   int64  \n",
      " 9   Power              7253 non-null   float64\n",
      " 10  Seats              7200 non-null   float64\n",
      " 11  Price              6019 non-null   float64\n",
      "dtypes: float64(4), int64(3), object(5)\n",
      "memory usage: 680.1+ KB\n"
     ]
    },
    {
     "data": {
      "application/javascript": [
       "\n",
       "            setTimeout(function() {\n",
       "                var nbb_cell_id = 20;\n",
       "                var nbb_unformatted_code = \"# Convert Engine to Integer\\ncars[\\\"Engine\\\"] = cars[\\\"Engine\\\"].astype(\\\"int\\\")\\ncars.info()  # confirming change took place\";\n",
       "                var nbb_formatted_code = \"# Convert Engine to Integer\\ncars[\\\"Engine\\\"] = cars[\\\"Engine\\\"].astype(\\\"int\\\")\\ncars.info()  # confirming change took place\";\n",
       "                var nbb_cells = Jupyter.notebook.get_cells();\n",
       "                for (var i = 0; i < nbb_cells.length; ++i) {\n",
       "                    if (nbb_cells[i].input_prompt_number == nbb_cell_id) {\n",
       "                        if (nbb_cells[i].get_text() == nbb_unformatted_code) {\n",
       "                             nbb_cells[i].set_text(nbb_formatted_code);\n",
       "                        }\n",
       "                        break;\n",
       "                    }\n",
       "                }\n",
       "            }, 500);\n",
       "            "
      ],
      "text/plain": [
       "<IPython.core.display.Javascript object>"
      ]
     },
     "metadata": {},
     "output_type": "display_data"
    }
   ],
   "source": [
    "# Convert Engine to Integer\n",
    "cars[\"Engine\"] = cars[\"Engine\"].astype(\"int\")\n",
    "cars.info()  # confirming change took place"
   ]
  },
  {
   "cell_type": "markdown",
   "id": "fbb8ef84",
   "metadata": {},
   "source": [
    "## 2.8 - Fix Seats - Treat Missing Values"
   ]
  },
  {
   "cell_type": "code",
   "execution_count": 21,
   "id": "454cf1fe",
   "metadata": {},
   "outputs": [
    {
     "data": {
      "text/plain": [
       "0"
      ]
     },
     "execution_count": 21,
     "metadata": {},
     "output_type": "execute_result"
    },
    {
     "data": {
      "application/javascript": [
       "\n",
       "            setTimeout(function() {\n",
       "                var nbb_cell_id = 21;\n",
       "                var nbb_unformatted_code = \"cars[\\\"Seats\\\"] = cars[\\\"Seats\\\"].astype(\\\"str\\\")\\ncars[\\\"Seats\\\"].fillna(\\\"Missing\\\", inplace=True)\\n\\n# Double-check changes to Engine took place\\ncars[\\\"Seats\\\"].isnull().sum()\";\n",
       "                var nbb_formatted_code = \"cars[\\\"Seats\\\"] = cars[\\\"Seats\\\"].astype(\\\"str\\\")\\ncars[\\\"Seats\\\"].fillna(\\\"Missing\\\", inplace=True)\\n\\n# Double-check changes to Engine took place\\ncars[\\\"Seats\\\"].isnull().sum()\";\n",
       "                var nbb_cells = Jupyter.notebook.get_cells();\n",
       "                for (var i = 0; i < nbb_cells.length; ++i) {\n",
       "                    if (nbb_cells[i].input_prompt_number == nbb_cell_id) {\n",
       "                        if (nbb_cells[i].get_text() == nbb_unformatted_code) {\n",
       "                             nbb_cells[i].set_text(nbb_formatted_code);\n",
       "                        }\n",
       "                        break;\n",
       "                    }\n",
       "                }\n",
       "            }, 500);\n",
       "            "
      ],
      "text/plain": [
       "<IPython.core.display.Javascript object>"
      ]
     },
     "metadata": {},
     "output_type": "display_data"
    }
   ],
   "source": [
    "cars[\"Seats\"] = cars[\"Seats\"].astype(\"str\")\n",
    "cars[\"Seats\"].fillna(\"Missing\", inplace=True)\n",
    "\n",
    "# Double-check changes to Engine took place\n",
    "cars[\"Seats\"].isnull().sum()"
   ]
  },
  {
   "cell_type": "code",
   "execution_count": 22,
   "id": "7820f206",
   "metadata": {},
   "outputs": [
    {
     "data": {
      "application/javascript": [
       "\n",
       "            setTimeout(function() {\n",
       "                var nbb_cell_id = 22;\n",
       "                var nbb_unformatted_code = \"# Re-convert \\\"Seats\\\" back to categorical variable\\ncars[\\\"Seats\\\"] = cars[\\\"Seats\\\"].astype(\\\"category\\\")\";\n",
       "                var nbb_formatted_code = \"# Re-convert \\\"Seats\\\" back to categorical variable\\ncars[\\\"Seats\\\"] = cars[\\\"Seats\\\"].astype(\\\"category\\\")\";\n",
       "                var nbb_cells = Jupyter.notebook.get_cells();\n",
       "                for (var i = 0; i < nbb_cells.length; ++i) {\n",
       "                    if (nbb_cells[i].input_prompt_number == nbb_cell_id) {\n",
       "                        if (nbb_cells[i].get_text() == nbb_unformatted_code) {\n",
       "                             nbb_cells[i].set_text(nbb_formatted_code);\n",
       "                        }\n",
       "                        break;\n",
       "                    }\n",
       "                }\n",
       "            }, 500);\n",
       "            "
      ],
      "text/plain": [
       "<IPython.core.display.Javascript object>"
      ]
     },
     "metadata": {},
     "output_type": "display_data"
    }
   ],
   "source": [
    "# Re-convert \"Seats\" back to categorical variable\n",
    "cars[\"Seats\"] = cars[\"Seats\"].astype(\"category\")"
   ]
  },
  {
   "cell_type": "code",
   "execution_count": 23,
   "id": "e836fb63",
   "metadata": {},
   "outputs": [
    {
     "data": {
      "text/plain": [
       "0       5.0\n",
       "1       5.0\n",
       "2       5.0\n",
       "3       7.0\n",
       "4       5.0\n",
       "       ... \n",
       "7248    5.0\n",
       "7249    5.0\n",
       "7250    5.0\n",
       "7251    5.0\n",
       "7252    5.0\n",
       "Name: Seats, Length: 7253, dtype: category\n",
       "Categories (10, object): ['0.0', '10.0', '2.0', '4.0', ..., '7.0', '8.0', '9.0', 'nan']"
      ]
     },
     "execution_count": 23,
     "metadata": {},
     "output_type": "execute_result"
    },
    {
     "data": {
      "application/javascript": [
       "\n",
       "            setTimeout(function() {\n",
       "                var nbb_cell_id = 23;\n",
       "                var nbb_unformatted_code = \"# Double-check changes to \\\"Seats\\\" took place\\ncars[\\\"Seats\\\"]\";\n",
       "                var nbb_formatted_code = \"# Double-check changes to \\\"Seats\\\" took place\\ncars[\\\"Seats\\\"]\";\n",
       "                var nbb_cells = Jupyter.notebook.get_cells();\n",
       "                for (var i = 0; i < nbb_cells.length; ++i) {\n",
       "                    if (nbb_cells[i].input_prompt_number == nbb_cell_id) {\n",
       "                        if (nbb_cells[i].get_text() == nbb_unformatted_code) {\n",
       "                             nbb_cells[i].set_text(nbb_formatted_code);\n",
       "                        }\n",
       "                        break;\n",
       "                    }\n",
       "                }\n",
       "            }, 500);\n",
       "            "
      ],
      "text/plain": [
       "<IPython.core.display.Javascript object>"
      ]
     },
     "metadata": {},
     "output_type": "display_data"
    }
   ],
   "source": [
    "# Double-check changes to \"Seats\" took place\n",
    "cars[\"Seats\"]"
   ]
  },
  {
   "cell_type": "markdown",
   "id": "1cdacfb6",
   "metadata": {},
   "source": [
    "## 2.9 - Fix Price - Treat Missing Values"
   ]
  },
  {
   "cell_type": "code",
   "execution_count": 24,
   "id": "9da5b65f",
   "metadata": {},
   "outputs": [
    {
     "data": {
      "application/javascript": [
       "\n",
       "            setTimeout(function() {\n",
       "                var nbb_cell_id = 24;\n",
       "                var nbb_unformatted_code = \"# CODE IDEA NOT WORKING - commenting out\\n\\n# Create a lookup table of unique values for Name, Year, and Price from dataframe\\n# Trying to figure out Price from other matching cars with same name and year\\n# price_lookup = cars[[\\\"Name\\\", \\\"Year\\\", \\\"Price\\\"]].copy()\\n# price_lookup.dropna(inplace=True)\\n# price_lookup = price_lookup.drop_duplicates()\\n\\n# Retrieve value of Price for cars dataframe based on corresponding\\n# Name, Year, Price in lookup table\\n# for index in cars[cars[\\\"Price\\\"].isnull() == True].index:\\n#    car_name = cars[\\\"Name\\\"][index]\\n#    car_year = cars[\\\"Year\\\"][index]\\n\\n#    for index2 in price_lookup.index:\\n#        if price_lookup[\\\"Name\\\"][index2] == car_name:\\n#            if price_lookup[\\\"Year\\\"][index2] == car_year:\\n#                cars[\\\"Price\\\"][index] = price_lookup[\\\"Price\\\"][index2]\\n\\n# Figure out how many remaining nulls are there\\n# cars[\\\"Price\\\"].isnull().sum()\";\n",
       "                var nbb_formatted_code = \"# CODE IDEA NOT WORKING - commenting out\\n\\n# Create a lookup table of unique values for Name, Year, and Price from dataframe\\n# Trying to figure out Price from other matching cars with same name and year\\n# price_lookup = cars[[\\\"Name\\\", \\\"Year\\\", \\\"Price\\\"]].copy()\\n# price_lookup.dropna(inplace=True)\\n# price_lookup = price_lookup.drop_duplicates()\\n\\n# Retrieve value of Price for cars dataframe based on corresponding\\n# Name, Year, Price in lookup table\\n# for index in cars[cars[\\\"Price\\\"].isnull() == True].index:\\n#    car_name = cars[\\\"Name\\\"][index]\\n#    car_year = cars[\\\"Year\\\"][index]\\n\\n#    for index2 in price_lookup.index:\\n#        if price_lookup[\\\"Name\\\"][index2] == car_name:\\n#            if price_lookup[\\\"Year\\\"][index2] == car_year:\\n#                cars[\\\"Price\\\"][index] = price_lookup[\\\"Price\\\"][index2]\\n\\n# Figure out how many remaining nulls are there\\n# cars[\\\"Price\\\"].isnull().sum()\";\n",
       "                var nbb_cells = Jupyter.notebook.get_cells();\n",
       "                for (var i = 0; i < nbb_cells.length; ++i) {\n",
       "                    if (nbb_cells[i].input_prompt_number == nbb_cell_id) {\n",
       "                        if (nbb_cells[i].get_text() == nbb_unformatted_code) {\n",
       "                             nbb_cells[i].set_text(nbb_formatted_code);\n",
       "                        }\n",
       "                        break;\n",
       "                    }\n",
       "                }\n",
       "            }, 500);\n",
       "            "
      ],
      "text/plain": [
       "<IPython.core.display.Javascript object>"
      ]
     },
     "metadata": {},
     "output_type": "display_data"
    }
   ],
   "source": [
    "# CODE IDEA NOT WORKING - commenting out\n",
    "\n",
    "# Create a lookup table of unique values for Name, Year, and Price from dataframe\n",
    "# Trying to figure out Price from other matching cars with same name and year\n",
    "# price_lookup = cars[[\"Name\", \"Year\", \"Price\"]].copy()\n",
    "# price_lookup.dropna(inplace=True)\n",
    "# price_lookup = price_lookup.drop_duplicates()\n",
    "\n",
    "# Retrieve value of Price for cars dataframe based on corresponding\n",
    "# Name, Year, Price in lookup table\n",
    "# for index in cars[cars[\"Price\"].isnull() == True].index:\n",
    "#    car_name = cars[\"Name\"][index]\n",
    "#    car_year = cars[\"Year\"][index]\n",
    "\n",
    "#    for index2 in price_lookup.index:\n",
    "#        if price_lookup[\"Name\"][index2] == car_name:\n",
    "#            if price_lookup[\"Year\"][index2] == car_year:\n",
    "#                cars[\"Price\"][index] = price_lookup[\"Price\"][index2]\n",
    "\n",
    "# Figure out how many remaining nulls are there\n",
    "# cars[\"Price\"].isnull().sum()"
   ]
  },
  {
   "cell_type": "code",
   "execution_count": 25,
   "id": "6fab7527",
   "metadata": {},
   "outputs": [
    {
     "data": {
      "text/plain": [
       "0"
      ]
     },
     "execution_count": 25,
     "metadata": {},
     "output_type": "execute_result"
    },
    {
     "data": {
      "application/javascript": [
       "\n",
       "            setTimeout(function() {\n",
       "                var nbb_cell_id = 25;\n",
       "                var nbb_unformatted_code = \"# Fill missing values with median\\ncars[\\\"Price\\\"].fillna(cars[\\\"Price\\\"].median(), inplace=True)\\n\\n# Double-check changes to Engine took place\\ncars[\\\"Price\\\"].isnull().sum()\";\n",
       "                var nbb_formatted_code = \"# Fill missing values with median\\ncars[\\\"Price\\\"].fillna(cars[\\\"Price\\\"].median(), inplace=True)\\n\\n# Double-check changes to Engine took place\\ncars[\\\"Price\\\"].isnull().sum()\";\n",
       "                var nbb_cells = Jupyter.notebook.get_cells();\n",
       "                for (var i = 0; i < nbb_cells.length; ++i) {\n",
       "                    if (nbb_cells[i].input_prompt_number == nbb_cell_id) {\n",
       "                        if (nbb_cells[i].get_text() == nbb_unformatted_code) {\n",
       "                             nbb_cells[i].set_text(nbb_formatted_code);\n",
       "                        }\n",
       "                        break;\n",
       "                    }\n",
       "                }\n",
       "            }, 500);\n",
       "            "
      ],
      "text/plain": [
       "<IPython.core.display.Javascript object>"
      ]
     },
     "metadata": {},
     "output_type": "display_data"
    }
   ],
   "source": [
    "# Fill missing values with median\n",
    "cars[\"Price\"].fillna(cars[\"Price\"].median(), inplace=True)\n",
    "\n",
    "# Double-check changes to Engine took place\n",
    "cars[\"Price\"].isnull().sum()"
   ]
  },
  {
   "cell_type": "code",
   "execution_count": 26,
   "id": "bdcbb1f5",
   "metadata": {},
   "outputs": [
    {
     "data": {
      "text/plain": [
       "0        1.75\n",
       "1       12.50\n",
       "2        4.50\n",
       "3        6.00\n",
       "4       17.74\n",
       "        ...  \n",
       "7248     5.64\n",
       "7249     5.64\n",
       "7250     5.64\n",
       "7251     5.64\n",
       "7252     5.64\n",
       "Name: Price, Length: 7253, dtype: float64"
      ]
     },
     "execution_count": 26,
     "metadata": {},
     "output_type": "execute_result"
    },
    {
     "data": {
      "application/javascript": [
       "\n",
       "            setTimeout(function() {\n",
       "                var nbb_cell_id = 26;\n",
       "                var nbb_unformatted_code = \"# Double-check changes to \\\"Price\\\" took place\\ncars[\\\"Price\\\"]\";\n",
       "                var nbb_formatted_code = \"# Double-check changes to \\\"Price\\\" took place\\ncars[\\\"Price\\\"]\";\n",
       "                var nbb_cells = Jupyter.notebook.get_cells();\n",
       "                for (var i = 0; i < nbb_cells.length; ++i) {\n",
       "                    if (nbb_cells[i].input_prompt_number == nbb_cell_id) {\n",
       "                        if (nbb_cells[i].get_text() == nbb_unformatted_code) {\n",
       "                             nbb_cells[i].set_text(nbb_formatted_code);\n",
       "                        }\n",
       "                        break;\n",
       "                    }\n",
       "                }\n",
       "            }, 500);\n",
       "            "
      ],
      "text/plain": [
       "<IPython.core.display.Javascript object>"
      ]
     },
     "metadata": {},
     "output_type": "display_data"
    }
   ],
   "source": [
    "# Double-check changes to \"Price\" took place\n",
    "cars[\"Price\"]"
   ]
  },
  {
   "cell_type": "code",
   "execution_count": 27,
   "id": "efe5f85d",
   "metadata": {},
   "outputs": [
    {
     "name": "stdout",
     "output_type": "stream",
     "text": [
      "<class 'pandas.core.frame.DataFrame'>\n",
      "RangeIndex: 7253 entries, 0 to 7252\n",
      "Data columns (total 12 columns):\n",
      " #   Column             Non-Null Count  Dtype   \n",
      "---  ------             --------------  -----   \n",
      " 0   Name               7253 non-null   object  \n",
      " 1   Location           7253 non-null   object  \n",
      " 2   Year               7253 non-null   int64   \n",
      " 3   Kilometers_Driven  7253 non-null   int64   \n",
      " 4   Fuel_Type          7253 non-null   object  \n",
      " 5   Transmission       7253 non-null   object  \n",
      " 6   Owner_Type         7253 non-null   object  \n",
      " 7   Mileage            7253 non-null   float64 \n",
      " 8   Engine             7253 non-null   int64   \n",
      " 9   Power              7253 non-null   float64 \n",
      " 10  Seats              7253 non-null   category\n",
      " 11  Price              7253 non-null   float64 \n",
      "dtypes: category(1), float64(3), int64(3), object(5)\n",
      "memory usage: 630.9+ KB\n"
     ]
    },
    {
     "data": {
      "application/javascript": [
       "\n",
       "            setTimeout(function() {\n",
       "                var nbb_cell_id = 27;\n",
       "                var nbb_unformatted_code = \"# Check to see if there are any more missing values to treat\\ncars.info()\";\n",
       "                var nbb_formatted_code = \"# Check to see if there are any more missing values to treat\\ncars.info()\";\n",
       "                var nbb_cells = Jupyter.notebook.get_cells();\n",
       "                for (var i = 0; i < nbb_cells.length; ++i) {\n",
       "                    if (nbb_cells[i].input_prompt_number == nbb_cell_id) {\n",
       "                        if (nbb_cells[i].get_text() == nbb_unformatted_code) {\n",
       "                             nbb_cells[i].set_text(nbb_formatted_code);\n",
       "                        }\n",
       "                        break;\n",
       "                    }\n",
       "                }\n",
       "            }, 500);\n",
       "            "
      ],
      "text/plain": [
       "<IPython.core.display.Javascript object>"
      ]
     },
     "metadata": {},
     "output_type": "display_data"
    }
   ],
   "source": [
    "# Check to see if there are any more missing values to treat\n",
    "cars.info()"
   ]
  },
  {
   "cell_type": "markdown",
   "id": "573bcff5",
   "metadata": {},
   "source": [
    "# 3 - EDA (Part 1 of 2)"
   ]
  },
  {
   "cell_type": "markdown",
   "id": "64c073ea",
   "metadata": {},
   "source": [
    "## 3.1 - Explore Summary of Data"
   ]
  },
  {
   "cell_type": "code",
   "execution_count": 28,
   "id": "98ee390f",
   "metadata": {},
   "outputs": [
    {
     "data": {
      "text/html": [
       "<div>\n",
       "<style scoped>\n",
       "    .dataframe tbody tr th:only-of-type {\n",
       "        vertical-align: middle;\n",
       "    }\n",
       "\n",
       "    .dataframe tbody tr th {\n",
       "        vertical-align: top;\n",
       "    }\n",
       "\n",
       "    .dataframe thead th {\n",
       "        text-align: right;\n",
       "    }\n",
       "</style>\n",
       "<table border=\"1\" class=\"dataframe\">\n",
       "  <thead>\n",
       "    <tr style=\"text-align: right;\">\n",
       "      <th></th>\n",
       "      <th>count</th>\n",
       "      <th>unique</th>\n",
       "      <th>top</th>\n",
       "      <th>freq</th>\n",
       "      <th>mean</th>\n",
       "      <th>std</th>\n",
       "      <th>min</th>\n",
       "      <th>25%</th>\n",
       "      <th>50%</th>\n",
       "      <th>75%</th>\n",
       "      <th>max</th>\n",
       "    </tr>\n",
       "  </thead>\n",
       "  <tbody>\n",
       "    <tr>\n",
       "      <th>Name</th>\n",
       "      <td>7253</td>\n",
       "      <td>2041</td>\n",
       "      <td>Mahindra XUV500 W8 2WD</td>\n",
       "      <td>55</td>\n",
       "      <td>NaN</td>\n",
       "      <td>NaN</td>\n",
       "      <td>NaN</td>\n",
       "      <td>NaN</td>\n",
       "      <td>NaN</td>\n",
       "      <td>NaN</td>\n",
       "      <td>NaN</td>\n",
       "    </tr>\n",
       "    <tr>\n",
       "      <th>Location</th>\n",
       "      <td>7253</td>\n",
       "      <td>11</td>\n",
       "      <td>Mumbai</td>\n",
       "      <td>949</td>\n",
       "      <td>NaN</td>\n",
       "      <td>NaN</td>\n",
       "      <td>NaN</td>\n",
       "      <td>NaN</td>\n",
       "      <td>NaN</td>\n",
       "      <td>NaN</td>\n",
       "      <td>NaN</td>\n",
       "    </tr>\n",
       "    <tr>\n",
       "      <th>Year</th>\n",
       "      <td>7253.0</td>\n",
       "      <td>NaN</td>\n",
       "      <td>NaN</td>\n",
       "      <td>NaN</td>\n",
       "      <td>2013.365366</td>\n",
       "      <td>3.254421</td>\n",
       "      <td>1996.0</td>\n",
       "      <td>2011.0</td>\n",
       "      <td>2014.0</td>\n",
       "      <td>2016.0</td>\n",
       "      <td>2019.0</td>\n",
       "    </tr>\n",
       "    <tr>\n",
       "      <th>Kilometers_Driven</th>\n",
       "      <td>7253.0</td>\n",
       "      <td>NaN</td>\n",
       "      <td>NaN</td>\n",
       "      <td>NaN</td>\n",
       "      <td>58699.063146</td>\n",
       "      <td>84427.720583</td>\n",
       "      <td>171.0</td>\n",
       "      <td>34000.0</td>\n",
       "      <td>53416.0</td>\n",
       "      <td>73000.0</td>\n",
       "      <td>6500000.0</td>\n",
       "    </tr>\n",
       "    <tr>\n",
       "      <th>Fuel_Type</th>\n",
       "      <td>7253</td>\n",
       "      <td>5</td>\n",
       "      <td>Diesel</td>\n",
       "      <td>3852</td>\n",
       "      <td>NaN</td>\n",
       "      <td>NaN</td>\n",
       "      <td>NaN</td>\n",
       "      <td>NaN</td>\n",
       "      <td>NaN</td>\n",
       "      <td>NaN</td>\n",
       "      <td>NaN</td>\n",
       "    </tr>\n",
       "    <tr>\n",
       "      <th>Transmission</th>\n",
       "      <td>7253</td>\n",
       "      <td>2</td>\n",
       "      <td>Manual</td>\n",
       "      <td>5204</td>\n",
       "      <td>NaN</td>\n",
       "      <td>NaN</td>\n",
       "      <td>NaN</td>\n",
       "      <td>NaN</td>\n",
       "      <td>NaN</td>\n",
       "      <td>NaN</td>\n",
       "      <td>NaN</td>\n",
       "    </tr>\n",
       "    <tr>\n",
       "      <th>Owner_Type</th>\n",
       "      <td>7253</td>\n",
       "      <td>4</td>\n",
       "      <td>First</td>\n",
       "      <td>5952</td>\n",
       "      <td>NaN</td>\n",
       "      <td>NaN</td>\n",
       "      <td>NaN</td>\n",
       "      <td>NaN</td>\n",
       "      <td>NaN</td>\n",
       "      <td>NaN</td>\n",
       "      <td>NaN</td>\n",
       "    </tr>\n",
       "    <tr>\n",
       "      <th>Mileage</th>\n",
       "      <td>7253.0</td>\n",
       "      <td>NaN</td>\n",
       "      <td>NaN</td>\n",
       "      <td>NaN</td>\n",
       "      <td>18.141586</td>\n",
       "      <td>4.561567</td>\n",
       "      <td>0.0</td>\n",
       "      <td>15.17</td>\n",
       "      <td>18.16</td>\n",
       "      <td>21.1</td>\n",
       "      <td>33.54</td>\n",
       "    </tr>\n",
       "    <tr>\n",
       "      <th>Engine</th>\n",
       "      <td>7253.0</td>\n",
       "      <td>NaN</td>\n",
       "      <td>NaN</td>\n",
       "      <td>NaN</td>\n",
       "      <td>1615.789742</td>\n",
       "      <td>593.475257</td>\n",
       "      <td>72.0</td>\n",
       "      <td>1198.0</td>\n",
       "      <td>1493.0</td>\n",
       "      <td>1968.0</td>\n",
       "      <td>5998.0</td>\n",
       "    </tr>\n",
       "    <tr>\n",
       "      <th>Power</th>\n",
       "      <td>7253.0</td>\n",
       "      <td>NaN</td>\n",
       "      <td>NaN</td>\n",
       "      <td>NaN</td>\n",
       "      <td>112.312448</td>\n",
       "      <td>52.922581</td>\n",
       "      <td>34.2</td>\n",
       "      <td>77.0</td>\n",
       "      <td>94.0</td>\n",
       "      <td>138.03</td>\n",
       "      <td>616.0</td>\n",
       "    </tr>\n",
       "    <tr>\n",
       "      <th>Seats</th>\n",
       "      <td>7253</td>\n",
       "      <td>10</td>\n",
       "      <td>5.0</td>\n",
       "      <td>6047</td>\n",
       "      <td>NaN</td>\n",
       "      <td>NaN</td>\n",
       "      <td>NaN</td>\n",
       "      <td>NaN</td>\n",
       "      <td>NaN</td>\n",
       "      <td>NaN</td>\n",
       "      <td>NaN</td>\n",
       "    </tr>\n",
       "    <tr>\n",
       "      <th>Price</th>\n",
       "      <td>7253.0</td>\n",
       "      <td>NaN</td>\n",
       "      <td>NaN</td>\n",
       "      <td>NaN</td>\n",
       "      <td>8.826235</td>\n",
       "      <td>10.293313</td>\n",
       "      <td>0.44</td>\n",
       "      <td>3.85</td>\n",
       "      <td>5.64</td>\n",
       "      <td>8.4</td>\n",
       "      <td>160.0</td>\n",
       "    </tr>\n",
       "  </tbody>\n",
       "</table>\n",
       "</div>"
      ],
      "text/plain": [
       "                    count unique                     top  freq          mean  \\\n",
       "Name                 7253   2041  Mahindra XUV500 W8 2WD    55           NaN   \n",
       "Location             7253     11                  Mumbai   949           NaN   \n",
       "Year               7253.0    NaN                     NaN   NaN   2013.365366   \n",
       "Kilometers_Driven  7253.0    NaN                     NaN   NaN  58699.063146   \n",
       "Fuel_Type            7253      5                  Diesel  3852           NaN   \n",
       "Transmission         7253      2                  Manual  5204           NaN   \n",
       "Owner_Type           7253      4                   First  5952           NaN   \n",
       "Mileage            7253.0    NaN                     NaN   NaN     18.141586   \n",
       "Engine             7253.0    NaN                     NaN   NaN   1615.789742   \n",
       "Power              7253.0    NaN                     NaN   NaN    112.312448   \n",
       "Seats                7253     10                     5.0  6047           NaN   \n",
       "Price              7253.0    NaN                     NaN   NaN      8.826235   \n",
       "\n",
       "                            std     min      25%      50%      75%        max  \n",
       "Name                        NaN     NaN      NaN      NaN      NaN        NaN  \n",
       "Location                    NaN     NaN      NaN      NaN      NaN        NaN  \n",
       "Year                   3.254421  1996.0   2011.0   2014.0   2016.0     2019.0  \n",
       "Kilometers_Driven  84427.720583   171.0  34000.0  53416.0  73000.0  6500000.0  \n",
       "Fuel_Type                   NaN     NaN      NaN      NaN      NaN        NaN  \n",
       "Transmission                NaN     NaN      NaN      NaN      NaN        NaN  \n",
       "Owner_Type                  NaN     NaN      NaN      NaN      NaN        NaN  \n",
       "Mileage                4.561567     0.0    15.17    18.16     21.1      33.54  \n",
       "Engine               593.475257    72.0   1198.0   1493.0   1968.0     5998.0  \n",
       "Power                 52.922581    34.2     77.0     94.0   138.03      616.0  \n",
       "Seats                       NaN     NaN      NaN      NaN      NaN        NaN  \n",
       "Price                 10.293313    0.44     3.85     5.64      8.4      160.0  "
      ]
     },
     "execution_count": 28,
     "metadata": {},
     "output_type": "execute_result"
    },
    {
     "data": {
      "application/javascript": [
       "\n",
       "            setTimeout(function() {\n",
       "                var nbb_cell_id = 28;\n",
       "                var nbb_unformatted_code = \"cars.describe(include=\\\"all\\\").T\";\n",
       "                var nbb_formatted_code = \"cars.describe(include=\\\"all\\\").T\";\n",
       "                var nbb_cells = Jupyter.notebook.get_cells();\n",
       "                for (var i = 0; i < nbb_cells.length; ++i) {\n",
       "                    if (nbb_cells[i].input_prompt_number == nbb_cell_id) {\n",
       "                        if (nbb_cells[i].get_text() == nbb_unformatted_code) {\n",
       "                             nbb_cells[i].set_text(nbb_formatted_code);\n",
       "                        }\n",
       "                        break;\n",
       "                    }\n",
       "                }\n",
       "            }, 500);\n",
       "            "
      ],
      "text/plain": [
       "<IPython.core.display.Javascript object>"
      ]
     },
     "metadata": {},
     "output_type": "display_data"
    }
   ],
   "source": [
    "cars.describe(include=\"all\").T"
   ]
  },
  {
   "cell_type": "markdown",
   "id": "03fe35b1",
   "metadata": {},
   "source": [
    "__Observations:__\n",
    "* There are 2041 unique car names/types of cars.\n",
    "* There are 11 locations, with Mumbai being the most frequent.\n",
    "* For Kilometers_Driven, the mean is approximately 58,699 and the median is 53,416. Indicates right-skewed distribution.\n",
    "* For Mileage, the mean is 18.14 and the median is 18.16. Indicates slight left-skewed distribution.\n",
    "* For Power, the mean is approximately 112.31 and the median is 94.0. Indicates right-skewed distribution.\n",
    "* For Price, the mean is approximately 8.83 and the median is 5.64. Indicates right-skewed distribution.\n",
    "* There are 4 categories for Fuel_Type, 1 category for Transmission, 3 categories for Owner_Type, and 9 categories for Seats."
   ]
  },
  {
   "cell_type": "markdown",
   "id": "43ea9970",
   "metadata": {},
   "source": [
    "## 3.2 - Univariate Analysis"
   ]
  },
  {
   "cell_type": "code",
   "execution_count": 29,
   "id": "7bafc891",
   "metadata": {},
   "outputs": [
    {
     "data": {
      "application/javascript": [
       "\n",
       "            setTimeout(function() {\n",
       "                var nbb_cell_id = 29;\n",
       "                var nbb_unformatted_code = \"# Function copied from prior case study:\\n# Let us write a function that will help us create boxplot and histogram for any input numerical variable.\\n# This function takes the numerical column as the input and returns the boxplots and histograms for the variable.\\ndef histogram_boxplot(feature, figsize=(15, 10), bins=None):\\n    \\\"\\\"\\\"Boxplot and histogram combined\\n    feature: 1-d feature array\\n    figsize: size of fig (default (9,8))\\n    bins: number of bins (default None / auto)\\n    \\\"\\\"\\\"\\n    sns.set(font_scale=2)  # setting the font scale for seaborn\\n    f2, (ax_box2, ax_hist2) = plt.subplots(\\n        nrows=2,  # Number of rows of the subplot grid=2\\n        sharex=True,  # x-axis will be shared among all subplots\\n        gridspec_kw={\\\"height_ratios\\\": (0.25, 0.75)},\\n        figsize=figsize,\\n    )  # creating the 2 subplots\\n    sns.boxplot(\\n        feature, ax=ax_box2, showmeans=True, color=\\\"red\\\"\\n    )  # boxplot will be created and a star will indicate the mean value of the column\\n    sns.distplot(feature, kde=F, ax=ax_hist2, bins=bins) if bins else sns.distplot(\\n        feature, kde=False, ax=ax_hist2\\n    )  # For histogram\\n    ax_hist2.axvline(\\n        feature.mean(), color=\\\"g\\\", linestyle=\\\"--\\\"\\n    )  # Add mean to the histogram\\n    ax_hist2.axvline(\\n        feature.median(), color=\\\"black\\\", linestyle=\\\"-\\\"\\n    )  # Add median to the histogram\";\n",
       "                var nbb_formatted_code = \"# Function copied from prior case study:\\n# Let us write a function that will help us create boxplot and histogram for any input numerical variable.\\n# This function takes the numerical column as the input and returns the boxplots and histograms for the variable.\\ndef histogram_boxplot(feature, figsize=(15, 10), bins=None):\\n    \\\"\\\"\\\"Boxplot and histogram combined\\n    feature: 1-d feature array\\n    figsize: size of fig (default (9,8))\\n    bins: number of bins (default None / auto)\\n    \\\"\\\"\\\"\\n    sns.set(font_scale=2)  # setting the font scale for seaborn\\n    f2, (ax_box2, ax_hist2) = plt.subplots(\\n        nrows=2,  # Number of rows of the subplot grid=2\\n        sharex=True,  # x-axis will be shared among all subplots\\n        gridspec_kw={\\\"height_ratios\\\": (0.25, 0.75)},\\n        figsize=figsize,\\n    )  # creating the 2 subplots\\n    sns.boxplot(\\n        feature, ax=ax_box2, showmeans=True, color=\\\"red\\\"\\n    )  # boxplot will be created and a star will indicate the mean value of the column\\n    sns.distplot(feature, kde=F, ax=ax_hist2, bins=bins) if bins else sns.distplot(\\n        feature, kde=False, ax=ax_hist2\\n    )  # For histogram\\n    ax_hist2.axvline(\\n        feature.mean(), color=\\\"g\\\", linestyle=\\\"--\\\"\\n    )  # Add mean to the histogram\\n    ax_hist2.axvline(\\n        feature.median(), color=\\\"black\\\", linestyle=\\\"-\\\"\\n    )  # Add median to the histogram\";\n",
       "                var nbb_cells = Jupyter.notebook.get_cells();\n",
       "                for (var i = 0; i < nbb_cells.length; ++i) {\n",
       "                    if (nbb_cells[i].input_prompt_number == nbb_cell_id) {\n",
       "                        if (nbb_cells[i].get_text() == nbb_unformatted_code) {\n",
       "                             nbb_cells[i].set_text(nbb_formatted_code);\n",
       "                        }\n",
       "                        break;\n",
       "                    }\n",
       "                }\n",
       "            }, 500);\n",
       "            "
      ],
      "text/plain": [
       "<IPython.core.display.Javascript object>"
      ]
     },
     "metadata": {},
     "output_type": "display_data"
    }
   ],
   "source": [
    "# Function copied from prior case study:\n",
    "# Let us write a function that will help us create boxplot and histogram for any input numerical variable.\n",
    "# This function takes the numerical column as the input and returns the boxplots and histograms for the variable.\n",
    "def histogram_boxplot(feature, figsize=(15, 10), bins=None):\n",
    "    \"\"\"Boxplot and histogram combined\n",
    "    feature: 1-d feature array\n",
    "    figsize: size of fig (default (9,8))\n",
    "    bins: number of bins (default None / auto)\n",
    "    \"\"\"\n",
    "    sns.set(font_scale=2)  # setting the font scale for seaborn\n",
    "    f2, (ax_box2, ax_hist2) = plt.subplots(\n",
    "        nrows=2,  # Number of rows of the subplot grid=2\n",
    "        sharex=True,  # x-axis will be shared among all subplots\n",
    "        gridspec_kw={\"height_ratios\": (0.25, 0.75)},\n",
    "        figsize=figsize,\n",
    "    )  # creating the 2 subplots\n",
    "    sns.boxplot(\n",
    "        feature, ax=ax_box2, showmeans=True, color=\"red\"\n",
    "    )  # boxplot will be created and a star will indicate the mean value of the column\n",
    "    sns.distplot(feature, kde=F, ax=ax_hist2, bins=bins) if bins else sns.distplot(\n",
    "        feature, kde=False, ax=ax_hist2\n",
    "    )  # For histogram\n",
    "    ax_hist2.axvline(\n",
    "        feature.mean(), color=\"g\", linestyle=\"--\"\n",
    "    )  # Add mean to the histogram\n",
    "    ax_hist2.axvline(\n",
    "        feature.median(), color=\"black\", linestyle=\"-\"\n",
    "    )  # Add median to the histogram"
   ]
  },
  {
   "cell_type": "markdown",
   "id": "f73ffa99",
   "metadata": {},
   "source": [
    "### 3.2.1 - Explore dependent variable Price"
   ]
  },
  {
   "cell_type": "code",
   "execution_count": 30,
   "id": "c3532eee",
   "metadata": {},
   "outputs": [
    {
     "data": {
      "image/png": "[encoded data removed]",
      "text/plain": [
       "<Figure size 1080x720 with 2 Axes>"
      ]
     },
     "metadata": {},
     "output_type": "display_data"
    },
    {
     "data": {
      "application/javascript": [
       "\n",
       "            setTimeout(function() {\n",
       "                var nbb_cell_id = 30;\n",
       "                var nbb_unformatted_code = \"histogram_boxplot(cars[\\\"Price\\\"])\";\n",
       "                var nbb_formatted_code = \"histogram_boxplot(cars[\\\"Price\\\"])\";\n",
       "                var nbb_cells = Jupyter.notebook.get_cells();\n",
       "                for (var i = 0; i < nbb_cells.length; ++i) {\n",
       "                    if (nbb_cells[i].input_prompt_number == nbb_cell_id) {\n",
       "                        if (nbb_cells[i].get_text() == nbb_unformatted_code) {\n",
       "                             nbb_cells[i].set_text(nbb_formatted_code);\n",
       "                        }\n",
       "                        break;\n",
       "                    }\n",
       "                }\n",
       "            }, 500);\n",
       "            "
      ],
      "text/plain": [
       "<IPython.core.display.Javascript object>"
      ]
     },
     "metadata": {},
     "output_type": "display_data"
    }
   ],
   "source": [
    "histogram_boxplot(cars[\"Price\"])"
   ]
  },
  {
   "cell_type": "markdown",
   "id": "7bc156f7",
   "metadata": {},
   "source": [
    "__Observation:__ Price is right-skewed (confirmation from previous observation)."
   ]
  },
  {
   "cell_type": "markdown",
   "id": "e9ca9be8",
   "metadata": {},
   "source": [
    "### 3.2.2 - Location"
   ]
  },
  {
   "cell_type": "code",
   "execution_count": 31,
   "id": "07e1c42c",
   "metadata": {},
   "outputs": [
    {
     "data": {
      "application/javascript": [
       "\n",
       "            setTimeout(function() {\n",
       "                var nbb_cell_id = 31;\n",
       "                var nbb_unformatted_code = \"# Function that creates barplots with percentage displayed over each category.\\n# Learned/customized from debrief of Project 1 Cardio Good Fitness\\n\\n\\ndef perc_on_bar(plot, feature):\\n    total = len(feature)  # length of the column\\n    for p in ax.patches:\\n        percentage = \\\"{:.1f}%\\\".format(\\n            100 * p.get_height() / total\\n        )  # percentage of each class of the category\\n        x = p.get_x() + p.get_width() / 2 - 0.05\\n        y = p.get_y() + p.get_height()\\n        ax.annotate(percentage, (x, y), size=18)\\n    plt.show()\";\n",
       "                var nbb_formatted_code = \"# Function that creates barplots with percentage displayed over each category.\\n# Learned/customized from debrief of Project 1 Cardio Good Fitness\\n\\n\\ndef perc_on_bar(plot, feature):\\n    total = len(feature)  # length of the column\\n    for p in ax.patches:\\n        percentage = \\\"{:.1f}%\\\".format(\\n            100 * p.get_height() / total\\n        )  # percentage of each class of the category\\n        x = p.get_x() + p.get_width() / 2 - 0.05\\n        y = p.get_y() + p.get_height()\\n        ax.annotate(percentage, (x, y), size=18)\\n    plt.show()\";\n",
       "                var nbb_cells = Jupyter.notebook.get_cells();\n",
       "                for (var i = 0; i < nbb_cells.length; ++i) {\n",
       "                    if (nbb_cells[i].input_prompt_number == nbb_cell_id) {\n",
       "                        if (nbb_cells[i].get_text() == nbb_unformatted_code) {\n",
       "                             nbb_cells[i].set_text(nbb_formatted_code);\n",
       "                        }\n",
       "                        break;\n",
       "                    }\n",
       "                }\n",
       "            }, 500);\n",
       "            "
      ],
      "text/plain": [
       "<IPython.core.display.Javascript object>"
      ]
     },
     "metadata": {},
     "output_type": "display_data"
    }
   ],
   "source": [
    "# Function that creates barplots with percentage displayed over each category.\n",
    "# Learned/customized from debrief of Project 1 Cardio Good Fitness\n",
    "\n",
    "\n",
    "def perc_on_bar(plot, feature):\n",
    "    total = len(feature)  # length of the column\n",
    "    for p in ax.patches:\n",
    "        percentage = \"{:.1f}%\".format(\n",
    "            100 * p.get_height() / total\n",
    "        )  # percentage of each class of the category\n",
    "        x = p.get_x() + p.get_width() / 2 - 0.05\n",
    "        y = p.get_y() + p.get_height()\n",
    "        ax.annotate(percentage, (x, y), size=18)\n",
    "    plt.show()"
   ]
  },
  {
   "cell_type": "code",
   "execution_count": 32,
   "id": "48d179f9",
   "metadata": {},
   "outputs": [
    {
     "data": {
      "image/png": "[encoded data removed]",
      "text/plain": [
       "<Figure size 1800x1080 with 1 Axes>"
      ]
     },
     "metadata": {},
     "output_type": "display_data"
    },
    {
     "data": {
      "application/javascript": [
       "\n",
       "            setTimeout(function() {\n",
       "                var nbb_cell_id = 32;\n",
       "                var nbb_unformatted_code = \"plt.figure(figsize=(25, 15))\\nax = sns.countplot(cars[\\\"Location\\\"])\\nperc_on_bar(ax, cars[\\\"Location\\\"])\";\n",
       "                var nbb_formatted_code = \"plt.figure(figsize=(25, 15))\\nax = sns.countplot(cars[\\\"Location\\\"])\\nperc_on_bar(ax, cars[\\\"Location\\\"])\";\n",
       "                var nbb_cells = Jupyter.notebook.get_cells();\n",
       "                for (var i = 0; i < nbb_cells.length; ++i) {\n",
       "                    if (nbb_cells[i].input_prompt_number == nbb_cell_id) {\n",
       "                        if (nbb_cells[i].get_text() == nbb_unformatted_code) {\n",
       "                             nbb_cells[i].set_text(nbb_formatted_code);\n",
       "                        }\n",
       "                        break;\n",
       "                    }\n",
       "                }\n",
       "            }, 500);\n",
       "            "
      ],
      "text/plain": [
       "<IPython.core.display.Javascript object>"
      ]
     },
     "metadata": {},
     "output_type": "display_data"
    }
   ],
   "source": [
    "plt.figure(figsize=(25, 15))\n",
    "ax = sns.countplot(cars[\"Location\"])\n",
    "perc_on_bar(ax, cars[\"Location\"])"
   ]
  },
  {
   "cell_type": "markdown",
   "id": "d5e7b167",
   "metadata": {},
   "source": [
    "__Observation:__ The top 5 locations are Mumbai, Hyderabad, Coimbatore, Kochi, and Pune. "
   ]
  },
  {
   "cell_type": "markdown",
   "id": "550f7aaf",
   "metadata": {},
   "source": [
    "### 3.3.3 - Year"
   ]
  },
  {
   "cell_type": "code",
   "execution_count": 33,
   "id": "41b40d9a",
   "metadata": {},
   "outputs": [
    {
     "data": {
      "image/png": "[encoded data removed]",
      "text/plain": [
       "<Figure size 1800x1080 with 1 Axes>"
      ]
     },
     "metadata": {},
     "output_type": "display_data"
    },
    {
     "data": {
      "application/javascript": [
       "\n",
       "            setTimeout(function() {\n",
       "                var nbb_cell_id = 33;\n",
       "                var nbb_unformatted_code = \"plt.figure(figsize=(25, 15))\\nax = sns.countplot(cars[\\\"Year\\\"])\\nperc_on_bar(ax, cars[\\\"Year\\\"])\";\n",
       "                var nbb_formatted_code = \"plt.figure(figsize=(25, 15))\\nax = sns.countplot(cars[\\\"Year\\\"])\\nperc_on_bar(ax, cars[\\\"Year\\\"])\";\n",
       "                var nbb_cells = Jupyter.notebook.get_cells();\n",
       "                for (var i = 0; i < nbb_cells.length; ++i) {\n",
       "                    if (nbb_cells[i].input_prompt_number == nbb_cell_id) {\n",
       "                        if (nbb_cells[i].get_text() == nbb_unformatted_code) {\n",
       "                             nbb_cells[i].set_text(nbb_formatted_code);\n",
       "                        }\n",
       "                        break;\n",
       "                    }\n",
       "                }\n",
       "            }, 500);\n",
       "            "
      ],
      "text/plain": [
       "<IPython.core.display.Javascript object>"
      ]
     },
     "metadata": {},
     "output_type": "display_data"
    }
   ],
   "source": [
    "plt.figure(figsize=(25, 15))\n",
    "ax = sns.countplot(cars[\"Year\"])\n",
    "perc_on_bar(ax, cars[\"Year\"])"
   ]
  },
  {
   "cell_type": "markdown",
   "id": "40a5e9a8",
   "metadata": {},
   "source": [
    "__Observation:__ The top 5 years are 2014, 2015, 2016, 2013, and 2017. The years range from 1996 to 2019."
   ]
  },
  {
   "cell_type": "markdown",
   "id": "32400da4",
   "metadata": {},
   "source": [
    "### 3.3.4 - Kilometers_Driven"
   ]
  },
  {
   "cell_type": "code",
   "execution_count": 34,
   "id": "c3a776bd",
   "metadata": {},
   "outputs": [
    {
     "data": {
      "image/png": "[encoded data removed]",
      "text/plain": [
       "<Figure size 1080x720 with 2 Axes>"
      ]
     },
     "metadata": {},
     "output_type": "display_data"
    },
    {
     "data": {
      "application/javascript": [
       "\n",
       "            setTimeout(function() {\n",
       "                var nbb_cell_id = 34;\n",
       "                var nbb_unformatted_code = \"histogram_boxplot(cars[\\\"Kilometers_Driven\\\"])\";\n",
       "                var nbb_formatted_code = \"histogram_boxplot(cars[\\\"Kilometers_Driven\\\"])\";\n",
       "                var nbb_cells = Jupyter.notebook.get_cells();\n",
       "                for (var i = 0; i < nbb_cells.length; ++i) {\n",
       "                    if (nbb_cells[i].input_prompt_number == nbb_cell_id) {\n",
       "                        if (nbb_cells[i].get_text() == nbb_unformatted_code) {\n",
       "                             nbb_cells[i].set_text(nbb_formatted_code);\n",
       "                        }\n",
       "                        break;\n",
       "                    }\n",
       "                }\n",
       "            }, 500);\n",
       "            "
      ],
      "text/plain": [
       "<IPython.core.display.Javascript object>"
      ]
     },
     "metadata": {},
     "output_type": "display_data"
    }
   ],
   "source": [
    "histogram_boxplot(cars[\"Kilometers_Driven\"])"
   ]
  },
  {
   "cell_type": "markdown",
   "id": "0968cd9f",
   "metadata": {},
   "source": [
    "__Observations:__\n",
    "* Kilometers_Driven is right-skewed.\n",
    "* There are many outliers."
   ]
  },
  {
   "cell_type": "markdown",
   "id": "c1dad94d",
   "metadata": {},
   "source": [
    "### 3.3.5 - Fuel_Type"
   ]
  },
  {
   "cell_type": "code",
   "execution_count": 35,
   "id": "1584ef33",
   "metadata": {},
   "outputs": [
    {
     "data": {
      "image/png": "[encoded data removed]",
      "text/plain": [
       "<Figure size 1800x1080 with 1 Axes>"
      ]
     },
     "metadata": {},
     "output_type": "display_data"
    },
    {
     "data": {
      "application/javascript": [
       "\n",
       "            setTimeout(function() {\n",
       "                var nbb_cell_id = 35;\n",
       "                var nbb_unformatted_code = \"plt.figure(figsize=(25, 15))\\nax = sns.countplot(cars[\\\"Fuel_Type\\\"])\\nperc_on_bar(ax, cars[\\\"Fuel_Type\\\"])\";\n",
       "                var nbb_formatted_code = \"plt.figure(figsize=(25, 15))\\nax = sns.countplot(cars[\\\"Fuel_Type\\\"])\\nperc_on_bar(ax, cars[\\\"Fuel_Type\\\"])\";\n",
       "                var nbb_cells = Jupyter.notebook.get_cells();\n",
       "                for (var i = 0; i < nbb_cells.length; ++i) {\n",
       "                    if (nbb_cells[i].input_prompt_number == nbb_cell_id) {\n",
       "                        if (nbb_cells[i].get_text() == nbb_unformatted_code) {\n",
       "                             nbb_cells[i].set_text(nbb_formatted_code);\n",
       "                        }\n",
       "                        break;\n",
       "                    }\n",
       "                }\n",
       "            }, 500);\n",
       "            "
      ],
      "text/plain": [
       "<IPython.core.display.Javascript object>"
      ]
     },
     "metadata": {},
     "output_type": "display_data"
    }
   ],
   "source": [
    "plt.figure(figsize=(25, 15))\n",
    "ax = sns.countplot(cars[\"Fuel_Type\"])\n",
    "perc_on_bar(ax, cars[\"Fuel_Type\"])"
   ]
  },
  {
   "cell_type": "markdown",
   "id": "2b60b662",
   "metadata": {},
   "source": [
    "__Observation:__ Diesel and Petrol are by far the most prevalent fuel types."
   ]
  },
  {
   "cell_type": "markdown",
   "id": "789bd8dd",
   "metadata": {},
   "source": [
    "### 3.3.6 - Transmission"
   ]
  },
  {
   "cell_type": "code",
   "execution_count": 36,
   "id": "bc9ec23e",
   "metadata": {},
   "outputs": [
    {
     "data": {
      "image/png": "[encoded data removed]",
      "text/plain": [
       "<Figure size 1800x1080 with 1 Axes>"
      ]
     },
     "metadata": {},
     "output_type": "display_data"
    },
    {
     "data": {
      "application/javascript": [
       "\n",
       "            setTimeout(function() {\n",
       "                var nbb_cell_id = 36;\n",
       "                var nbb_unformatted_code = \"plt.figure(figsize=(25, 15))\\nax = sns.countplot(cars[\\\"Transmission\\\"])\\nperc_on_bar(ax, cars[\\\"Transmission\\\"])\";\n",
       "                var nbb_formatted_code = \"plt.figure(figsize=(25, 15))\\nax = sns.countplot(cars[\\\"Transmission\\\"])\\nperc_on_bar(ax, cars[\\\"Transmission\\\"])\";\n",
       "                var nbb_cells = Jupyter.notebook.get_cells();\n",
       "                for (var i = 0; i < nbb_cells.length; ++i) {\n",
       "                    if (nbb_cells[i].input_prompt_number == nbb_cell_id) {\n",
       "                        if (nbb_cells[i].get_text() == nbb_unformatted_code) {\n",
       "                             nbb_cells[i].set_text(nbb_formatted_code);\n",
       "                        }\n",
       "                        break;\n",
       "                    }\n",
       "                }\n",
       "            }, 500);\n",
       "            "
      ],
      "text/plain": [
       "<IPython.core.display.Javascript object>"
      ]
     },
     "metadata": {},
     "output_type": "display_data"
    }
   ],
   "source": [
    "plt.figure(figsize=(25, 15))\n",
    "ax = sns.countplot(cars[\"Transmission\"])\n",
    "perc_on_bar(ax, cars[\"Transmission\"])"
   ]
  },
  {
   "cell_type": "markdown",
   "id": "8ad6757b",
   "metadata": {},
   "source": [
    "__Observation__: Manual transmissions are most prevalent."
   ]
  },
  {
   "cell_type": "markdown",
   "id": "d8c410bb",
   "metadata": {},
   "source": [
    "### 3.3.7 - Owner_Type"
   ]
  },
  {
   "cell_type": "code",
   "execution_count": 37,
   "id": "e5d961df",
   "metadata": {},
   "outputs": [
    {
     "data": {
      "image/png": "[encoded data removed]",
      "text/plain": [
       "<Figure size 1800x1080 with 1 Axes>"
      ]
     },
     "metadata": {},
     "output_type": "display_data"
    },
    {
     "data": {
      "application/javascript": [
       "\n",
       "            setTimeout(function() {\n",
       "                var nbb_cell_id = 37;\n",
       "                var nbb_unformatted_code = \"plt.figure(figsize=(25, 15))\\nax = sns.countplot(cars[\\\"Owner_Type\\\"])\\nperc_on_bar(ax, cars[\\\"Owner_Type\\\"])\";\n",
       "                var nbb_formatted_code = \"plt.figure(figsize=(25, 15))\\nax = sns.countplot(cars[\\\"Owner_Type\\\"])\\nperc_on_bar(ax, cars[\\\"Owner_Type\\\"])\";\n",
       "                var nbb_cells = Jupyter.notebook.get_cells();\n",
       "                for (var i = 0; i < nbb_cells.length; ++i) {\n",
       "                    if (nbb_cells[i].input_prompt_number == nbb_cell_id) {\n",
       "                        if (nbb_cells[i].get_text() == nbb_unformatted_code) {\n",
       "                             nbb_cells[i].set_text(nbb_formatted_code);\n",
       "                        }\n",
       "                        break;\n",
       "                    }\n",
       "                }\n",
       "            }, 500);\n",
       "            "
      ],
      "text/plain": [
       "<IPython.core.display.Javascript object>"
      ]
     },
     "metadata": {},
     "output_type": "display_data"
    }
   ],
   "source": [
    "plt.figure(figsize=(25, 15))\n",
    "ax = sns.countplot(cars[\"Owner_Type\"])\n",
    "perc_on_bar(ax, cars[\"Owner_Type\"])"
   ]
  },
  {
   "cell_type": "markdown",
   "id": "bb7e7d0d",
   "metadata": {},
   "source": [
    "__Observation:__ Most owners are first-time car owners."
   ]
  },
  {
   "cell_type": "markdown",
   "id": "9cdba5db",
   "metadata": {},
   "source": [
    "### 3.3.8 - Mileage"
   ]
  },
  {
   "cell_type": "code",
   "execution_count": 38,
   "id": "0453dd4e",
   "metadata": {},
   "outputs": [
    {
     "data": {
      "image/png": "[encoded data removed]",
      "text/plain": [
       "<Figure size 1080x720 with 2 Axes>"
      ]
     },
     "metadata": {},
     "output_type": "display_data"
    },
    {
     "data": {
      "application/javascript": [
       "\n",
       "            setTimeout(function() {\n",
       "                var nbb_cell_id = 38;\n",
       "                var nbb_unformatted_code = \"histogram_boxplot(cars[\\\"Mileage\\\"])\";\n",
       "                var nbb_formatted_code = \"histogram_boxplot(cars[\\\"Mileage\\\"])\";\n",
       "                var nbb_cells = Jupyter.notebook.get_cells();\n",
       "                for (var i = 0; i < nbb_cells.length; ++i) {\n",
       "                    if (nbb_cells[i].input_prompt_number == nbb_cell_id) {\n",
       "                        if (nbb_cells[i].get_text() == nbb_unformatted_code) {\n",
       "                             nbb_cells[i].set_text(nbb_formatted_code);\n",
       "                        }\n",
       "                        break;\n",
       "                    }\n",
       "                }\n",
       "            }, 500);\n",
       "            "
      ],
      "text/plain": [
       "<IPython.core.display.Javascript object>"
      ]
     },
     "metadata": {},
     "output_type": "display_data"
    }
   ],
   "source": [
    "histogram_boxplot(cars[\"Mileage\"])"
   ]
  },
  {
   "cell_type": "markdown",
   "id": "1286d1c0",
   "metadata": {},
   "source": [
    "__Observation:__ Mileage has outliers on both the left and right, but moreso on the right."
   ]
  },
  {
   "cell_type": "markdown",
   "id": "5a2b4f7d",
   "metadata": {},
   "source": [
    "### 3.3.9 - Engine"
   ]
  },
  {
   "cell_type": "code",
   "execution_count": 39,
   "id": "15361093",
   "metadata": {},
   "outputs": [
    {
     "data": {
      "image/png": "[encoded data removed]",
      "text/plain": [
       "<Figure size 1080x720 with 2 Axes>"
      ]
     },
     "metadata": {},
     "output_type": "display_data"
    },
    {
     "data": {
      "application/javascript": [
       "\n",
       "            setTimeout(function() {\n",
       "                var nbb_cell_id = 39;\n",
       "                var nbb_unformatted_code = \"histogram_boxplot(cars[\\\"Engine\\\"])\";\n",
       "                var nbb_formatted_code = \"histogram_boxplot(cars[\\\"Engine\\\"])\";\n",
       "                var nbb_cells = Jupyter.notebook.get_cells();\n",
       "                for (var i = 0; i < nbb_cells.length; ++i) {\n",
       "                    if (nbb_cells[i].input_prompt_number == nbb_cell_id) {\n",
       "                        if (nbb_cells[i].get_text() == nbb_unformatted_code) {\n",
       "                             nbb_cells[i].set_text(nbb_formatted_code);\n",
       "                        }\n",
       "                        break;\n",
       "                    }\n",
       "                }\n",
       "            }, 500);\n",
       "            "
      ],
      "text/plain": [
       "<IPython.core.display.Javascript object>"
      ]
     },
     "metadata": {},
     "output_type": "display_data"
    }
   ],
   "source": [
    "histogram_boxplot(cars[\"Engine\"])"
   ]
  },
  {
   "cell_type": "markdown",
   "id": "c8022aa1",
   "metadata": {},
   "source": [
    "__Observation:__ Engine is right-skewed."
   ]
  },
  {
   "cell_type": "markdown",
   "id": "6ec8db94",
   "metadata": {},
   "source": [
    "### 3.3.10 - Power"
   ]
  },
  {
   "cell_type": "code",
   "execution_count": 40,
   "id": "4021e92e",
   "metadata": {},
   "outputs": [
    {
     "data": {
      "image/png": "[encoded data removed]",
      "text/plain": [
       "<Figure size 1080x720 with 2 Axes>"
      ]
     },
     "metadata": {},
     "output_type": "display_data"
    },
    {
     "data": {
      "application/javascript": [
       "\n",
       "            setTimeout(function() {\n",
       "                var nbb_cell_id = 40;\n",
       "                var nbb_unformatted_code = \"histogram_boxplot(cars[\\\"Power\\\"])\";\n",
       "                var nbb_formatted_code = \"histogram_boxplot(cars[\\\"Power\\\"])\";\n",
       "                var nbb_cells = Jupyter.notebook.get_cells();\n",
       "                for (var i = 0; i < nbb_cells.length; ++i) {\n",
       "                    if (nbb_cells[i].input_prompt_number == nbb_cell_id) {\n",
       "                        if (nbb_cells[i].get_text() == nbb_unformatted_code) {\n",
       "                             nbb_cells[i].set_text(nbb_formatted_code);\n",
       "                        }\n",
       "                        break;\n",
       "                    }\n",
       "                }\n",
       "            }, 500);\n",
       "            "
      ],
      "text/plain": [
       "<IPython.core.display.Javascript object>"
      ]
     },
     "metadata": {},
     "output_type": "display_data"
    }
   ],
   "source": [
    "histogram_boxplot(cars[\"Power\"])"
   ]
  },
  {
   "cell_type": "markdown",
   "id": "545597c8",
   "metadata": {},
   "source": [
    "__Observation:__ Power is right-skewed."
   ]
  },
  {
   "cell_type": "markdown",
   "id": "81b1b7e5",
   "metadata": {},
   "source": [
    "### 3.3.11 - Seats"
   ]
  },
  {
   "cell_type": "code",
   "execution_count": 41,
   "id": "d34ec18c",
   "metadata": {},
   "outputs": [
    {
     "data": {
      "image/png": "[encoded data removed]",
      "text/plain": [
       "<Figure size 1800x1080 with 1 Axes>"
      ]
     },
     "metadata": {},
     "output_type": "display_data"
    },
    {
     "data": {
      "application/javascript": [
       "\n",
       "            setTimeout(function() {\n",
       "                var nbb_cell_id = 41;\n",
       "                var nbb_unformatted_code = \"plt.figure(figsize=(25, 15))\\nax = sns.countplot(cars[\\\"Seats\\\"])\\nperc_on_bar(ax, cars[\\\"Seats\\\"])\";\n",
       "                var nbb_formatted_code = \"plt.figure(figsize=(25, 15))\\nax = sns.countplot(cars[\\\"Seats\\\"])\\nperc_on_bar(ax, cars[\\\"Seats\\\"])\";\n",
       "                var nbb_cells = Jupyter.notebook.get_cells();\n",
       "                for (var i = 0; i < nbb_cells.length; ++i) {\n",
       "                    if (nbb_cells[i].input_prompt_number == nbb_cell_id) {\n",
       "                        if (nbb_cells[i].get_text() == nbb_unformatted_code) {\n",
       "                             nbb_cells[i].set_text(nbb_formatted_code);\n",
       "                        }\n",
       "                        break;\n",
       "                    }\n",
       "                }\n",
       "            }, 500);\n",
       "            "
      ],
      "text/plain": [
       "<IPython.core.display.Javascript object>"
      ]
     },
     "metadata": {},
     "output_type": "display_data"
    }
   ],
   "source": [
    "plt.figure(figsize=(25, 15))\n",
    "ax = sns.countplot(cars[\"Seats\"])\n",
    "perc_on_bar(ax, cars[\"Seats\"])"
   ]
  },
  {
   "cell_type": "markdown",
   "id": "67eff6c2",
   "metadata": {},
   "source": [
    "__Observation:__ 5.0 is by far the prevalent number of seats."
   ]
  },
  {
   "cell_type": "markdown",
   "id": "41ae8541",
   "metadata": {},
   "source": [
    "## 3.3 - Bivariate Analysis"
   ]
  },
  {
   "cell_type": "code",
   "execution_count": null,
   "id": "4a092190",
   "metadata": {},
   "outputs": [],
   "source": []
  },
  {
   "cell_type": "markdown",
   "id": "b613c3e6",
   "metadata": {},
   "source": [
    "# 4 - Data Preprocessing (Part 2 of 2)"
   ]
  },
  {
   "cell_type": "markdown",
   "id": "01d026f3",
   "metadata": {},
   "source": [
    "## 4.1 - Convert variables to categorical: Fuel_Type, Transmission, Owner_Type, Seats"
   ]
  },
  {
   "cell_type": "code",
   "execution_count": 42,
   "id": "38813b0d",
   "metadata": {},
   "outputs": [
    {
     "data": {
      "application/javascript": [
       "\n",
       "            setTimeout(function() {\n",
       "                var nbb_cell_id = 42;\n",
       "                var nbb_unformatted_code = \"cars[\\\"Fuel_Type\\\"] = cars[\\\"Fuel_Type\\\"].astype(\\\"category\\\")\\ncars[\\\"Transmission\\\"] = cars[\\\"Transmission\\\"].astype(\\\"category\\\")\\ncars[\\\"Owner_Type\\\"] = cars[\\\"Owner_Type\\\"].astype(\\\"category\\\")\\ncars[\\\"Seats\\\"] = cars[\\\"Seats\\\"].astype(\\\"category\\\")\";\n",
       "                var nbb_formatted_code = \"cars[\\\"Fuel_Type\\\"] = cars[\\\"Fuel_Type\\\"].astype(\\\"category\\\")\\ncars[\\\"Transmission\\\"] = cars[\\\"Transmission\\\"].astype(\\\"category\\\")\\ncars[\\\"Owner_Type\\\"] = cars[\\\"Owner_Type\\\"].astype(\\\"category\\\")\\ncars[\\\"Seats\\\"] = cars[\\\"Seats\\\"].astype(\\\"category\\\")\";\n",
       "                var nbb_cells = Jupyter.notebook.get_cells();\n",
       "                for (var i = 0; i < nbb_cells.length; ++i) {\n",
       "                    if (nbb_cells[i].input_prompt_number == nbb_cell_id) {\n",
       "                        if (nbb_cells[i].get_text() == nbb_unformatted_code) {\n",
       "                             nbb_cells[i].set_text(nbb_formatted_code);\n",
       "                        }\n",
       "                        break;\n",
       "                    }\n",
       "                }\n",
       "            }, 500);\n",
       "            "
      ],
      "text/plain": [
       "<IPython.core.display.Javascript object>"
      ]
     },
     "metadata": {},
     "output_type": "display_data"
    }
   ],
   "source": [
    "cars[\"Fuel_Type\"] = cars[\"Fuel_Type\"].astype(\"category\")\n",
    "cars[\"Transmission\"] = cars[\"Transmission\"].astype(\"category\")\n",
    "cars[\"Owner_Type\"] = cars[\"Owner_Type\"].astype(\"category\")\n",
    "cars[\"Seats\"] = cars[\"Seats\"].astype(\"category\")"
   ]
  },
  {
   "cell_type": "markdown",
   "id": "5b9a34a7",
   "metadata": {},
   "source": [
    "## 4.2 - Encode Categorical Variables"
   ]
  },
  {
   "cell_type": "code",
   "execution_count": 43,
   "id": "1e6b4df2",
   "metadata": {},
   "outputs": [
    {
     "data": {
      "application/javascript": [
       "\n",
       "            setTimeout(function() {\n",
       "                var nbb_cell_id = 43;\n",
       "                var nbb_unformatted_code = \"cars = pd.get_dummies(cars, columns=[\\\"Fuel_Type\\\"], drop_first=True)\\ncars = pd.get_dummies(cars, columns=[\\\"Transmission\\\"], drop_first=True)\\ncars = pd.get_dummies(cars, columns=[\\\"Owner_Type\\\"], drop_first=True)\\ncars = pd.get_dummies(cars, columns=[\\\"Seats\\\"], drop_first=True)\";\n",
       "                var nbb_formatted_code = \"cars = pd.get_dummies(cars, columns=[\\\"Fuel_Type\\\"], drop_first=True)\\ncars = pd.get_dummies(cars, columns=[\\\"Transmission\\\"], drop_first=True)\\ncars = pd.get_dummies(cars, columns=[\\\"Owner_Type\\\"], drop_first=True)\\ncars = pd.get_dummies(cars, columns=[\\\"Seats\\\"], drop_first=True)\";\n",
       "                var nbb_cells = Jupyter.notebook.get_cells();\n",
       "                for (var i = 0; i < nbb_cells.length; ++i) {\n",
       "                    if (nbb_cells[i].input_prompt_number == nbb_cell_id) {\n",
       "                        if (nbb_cells[i].get_text() == nbb_unformatted_code) {\n",
       "                             nbb_cells[i].set_text(nbb_formatted_code);\n",
       "                        }\n",
       "                        break;\n",
       "                    }\n",
       "                }\n",
       "            }, 500);\n",
       "            "
      ],
      "text/plain": [
       "<IPython.core.display.Javascript object>"
      ]
     },
     "metadata": {},
     "output_type": "display_data"
    }
   ],
   "source": [
    "cars = pd.get_dummies(cars, columns=[\"Fuel_Type\"], drop_first=True)\n",
    "cars = pd.get_dummies(cars, columns=[\"Transmission\"], drop_first=True)\n",
    "cars = pd.get_dummies(cars, columns=[\"Owner_Type\"], drop_first=True)\n",
    "cars = pd.get_dummies(cars, columns=[\"Seats\"], drop_first=True)"
   ]
  },
  {
   "cell_type": "code",
   "execution_count": 44,
   "id": "2c87aef9",
   "metadata": {},
   "outputs": [
    {
     "name": "stdout",
     "output_type": "stream",
     "text": [
      "<class 'pandas.core.frame.DataFrame'>\n",
      "RangeIndex: 7253 entries, 0 to 7252\n",
      "Data columns (total 25 columns):\n",
      " #   Column                     Non-Null Count  Dtype  \n",
      "---  ------                     --------------  -----  \n",
      " 0   Name                       7253 non-null   object \n",
      " 1   Location                   7253 non-null   object \n",
      " 2   Year                       7253 non-null   int64  \n",
      " 3   Kilometers_Driven          7253 non-null   int64  \n",
      " 4   Mileage                    7253 non-null   float64\n",
      " 5   Engine                     7253 non-null   int64  \n",
      " 6   Power                      7253 non-null   float64\n",
      " 7   Price                      7253 non-null   float64\n",
      " 8   Fuel_Type_Diesel           7253 non-null   uint8  \n",
      " 9   Fuel_Type_Electric         7253 non-null   uint8  \n",
      " 10  Fuel_Type_LPG              7253 non-null   uint8  \n",
      " 11  Fuel_Type_Petrol           7253 non-null   uint8  \n",
      " 12  Transmission_Manual        7253 non-null   uint8  \n",
      " 13  Owner_Type_Fourth & Above  7253 non-null   uint8  \n",
      " 14  Owner_Type_Second          7253 non-null   uint8  \n",
      " 15  Owner_Type_Third           7253 non-null   uint8  \n",
      " 16  Seats_10.0                 7253 non-null   uint8  \n",
      " 17  Seats_2.0                  7253 non-null   uint8  \n",
      " 18  Seats_4.0                  7253 non-null   uint8  \n",
      " 19  Seats_5.0                  7253 non-null   uint8  \n",
      " 20  Seats_6.0                  7253 non-null   uint8  \n",
      " 21  Seats_7.0                  7253 non-null   uint8  \n",
      " 22  Seats_8.0                  7253 non-null   uint8  \n",
      " 23  Seats_9.0                  7253 non-null   uint8  \n",
      " 24  Seats_nan                  7253 non-null   uint8  \n",
      "dtypes: float64(3), int64(3), object(2), uint8(17)\n",
      "memory usage: 573.8+ KB\n"
     ]
    },
    {
     "data": {
      "application/javascript": [
       "\n",
       "            setTimeout(function() {\n",
       "                var nbb_cell_id = 44;\n",
       "                var nbb_unformatted_code = \"# check for new columns\\ncars.info()\";\n",
       "                var nbb_formatted_code = \"# check for new columns\\ncars.info()\";\n",
       "                var nbb_cells = Jupyter.notebook.get_cells();\n",
       "                for (var i = 0; i < nbb_cells.length; ++i) {\n",
       "                    if (nbb_cells[i].input_prompt_number == nbb_cell_id) {\n",
       "                        if (nbb_cells[i].get_text() == nbb_unformatted_code) {\n",
       "                             nbb_cells[i].set_text(nbb_formatted_code);\n",
       "                        }\n",
       "                        break;\n",
       "                    }\n",
       "                }\n",
       "            }, 500);\n",
       "            "
      ],
      "text/plain": [
       "<IPython.core.display.Javascript object>"
      ]
     },
     "metadata": {},
     "output_type": "display_data"
    }
   ],
   "source": [
    "# check for new columns\n",
    "cars.info()"
   ]
  },
  {
   "cell_type": "code",
   "execution_count": null,
   "id": "f8fc59a4",
   "metadata": {},
   "outputs": [],
   "source": []
  }
 ],
 "metadata": {
  "kernelspec": {
   "display_name": "Python 3",
   "language": "python",
   "name": "python3"
  },
  "language_info": {
   "codemirror_mode": {
    "name": "ipython",
    "version": 3
   },
   "file_extension": ".py",
   "mimetype": "text/x-python",
   "name": "python",
   "nbconvert_exporter": "python",
   "pygments_lexer": "ipython3",
   "version": "3.8.8"
  }
 },
 "nbformat": 4,
 "nbformat_minor": 5
}
