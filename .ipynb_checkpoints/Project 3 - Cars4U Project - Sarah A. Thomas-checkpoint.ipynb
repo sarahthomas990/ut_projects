{
 "cells": [
  {
   "cell_type": "markdown",
   "id": "7402b1d8",
   "metadata": {},
   "source": [
    "# Sarah Thomas\n",
    "# Project 3 - Cars4U Project"
   ]
  },
  {
   "cell_type": "markdown",
   "id": "c23aacb8",
   "metadata": {},
   "source": [
    "__Description__ (copied from assignment)\n",
    "\n",
    "__Background & Context__\n",
    "\n",
    "There is a huge demand for used cars in the Indian Market today. As sales of new cars have slowed down in the recent past, the pre-owned car market has continued to grow over the past years and is larger than the new car market now. Cars4U is a budding tech start-up that aims to find footholes in this market.\n",
    "\n",
    "In 2018-19, while new car sales were recorded at 3.6 million units, around 4 million second-hand cars were bought and sold. There is a slowdown in new car sales and that could mean that the demand is shifting towards the pre-owned market. In fact, some car sellers replace their old cars with pre-owned cars instead of buying new ones. Unlike new cars, where price and supply are fairly deterministic and managed by OEMs (Original Equipment Manufacturer / except for dealership level discounts which come into play only in the last stage of the customer journey), used cars are very different beasts with huge uncertainty in both pricing and supply. Keeping this in mind, the pricing scheme of these used cars becomes important in order to grow in the market.\n",
    "\n",
    "As a senior data scientist at Cars4U, you have to come up with a pricing model that can effectively predict the price of used cars and can help the business in devising profitable strategies using differential pricing. For example, if the business knows the market price, it will never sell anything below it. \n",
    "\n",
    "__Objective__\n",
    "\n",
    "1. Explore and visualize the dataset.\n",
    "2. Build a linear regression model to predict the prices of used cars.\n",
    "3. Generate a set of insights and recommendations that will help the business.\n",
    "\n",
    "\n",
    "__Data Dictionary__\n",
    "\n",
    "1. S.No. : Serial Number\n",
    "2. Name : Name of the car which includes Brand name and Model name\n",
    "3. Location : The location in which the car is being sold or is available for purchase Cities\n",
    "4. Year : Manufacturing year of the car\n",
    "5. Kilometers_driven : The total kilometers driven in the car by the previous owner(s) in KM.\n",
    "6. Fuel_Type : The type of fuel used by the car. (Petrol, Diesel, Electric, CNG, LPG)\n",
    "7. Transmission : The type of transmission used by the car. (Automatic / Manual)\n",
    "8. Owner : Type of ownership\n",
    "9. Mileage : The standard mileage offered by the car company in kmpl or km/kg\n",
    "10. Engine : The displacement volume of the engine in CC.\n",
    "11. Power : The maximum power of the engine in bhp.\n",
    "12. Seats : The number of seats in the car.\n",
    "13. New_Price : The price of a new car of the same model in INR Lakhs.(1 Lakh = 100, 000)\n",
    "14. Price : The price of the used car in INR Lakhs (1 Lakh = 100, 000)\n"
   ]
  },
  {
   "cell_type": "markdown",
   "id": "95d4eae4",
   "metadata": {},
   "source": [
    "# 1 - Load Packages and Read in the Dataset"
   ]
  },
  {
   "cell_type": "code",
   "execution_count": 1,
   "id": "c4e96b74",
   "metadata": {},
   "outputs": [
    {
     "data": {
      "application/javascript": [
       "\n",
       "            setTimeout(function() {\n",
       "                var nbb_cell_id = 1;\n",
       "                var nbb_unformatted_code = \"# Import necessary libraries\\nimport numpy as np\\nimport pandas as pd\\nimport matplotlib.pyplot as plt\\nimport seaborn as sns\\n\\nimport warnings\\n\\nwarnings.filterwarnings(\\\"ignore\\\")\\n\\n# To enable plotting graphs in Jupyter notebook\\n%matplotlib inline\\n\\n# To build linear regression_model\\nfrom sklearn.linear_model import LinearRegression\\n\\n# To check model performance\\nfrom sklearn.metrics import mean_absolute_error, mean_squared_error, r2_score\\n\\n# to make Python code more structured\\n%load_ext nb_black\";\n",
       "                var nbb_formatted_code = \"# Import necessary libraries\\nimport numpy as np\\nimport pandas as pd\\nimport matplotlib.pyplot as plt\\nimport seaborn as sns\\n\\nimport warnings\\n\\nwarnings.filterwarnings(\\\"ignore\\\")\\n\\n# To enable plotting graphs in Jupyter notebook\\n%matplotlib inline\\n\\n# To build linear regression_model\\nfrom sklearn.linear_model import LinearRegression\\n\\n# To check model performance\\nfrom sklearn.metrics import mean_absolute_error, mean_squared_error, r2_score\\n\\n# to make Python code more structured\\n%load_ext nb_black\";\n",
       "                var nbb_cells = Jupyter.notebook.get_cells();\n",
       "                for (var i = 0; i < nbb_cells.length; ++i) {\n",
       "                    if (nbb_cells[i].input_prompt_number == nbb_cell_id) {\n",
       "                        if (nbb_cells[i].get_text() == nbb_unformatted_code) {\n",
       "                             nbb_cells[i].set_text(nbb_formatted_code);\n",
       "                        }\n",
       "                        break;\n",
       "                    }\n",
       "                }\n",
       "            }, 500);\n",
       "            "
      ],
      "text/plain": [
       "<IPython.core.display.Javascript object>"
      ]
     },
     "metadata": {},
     "output_type": "display_data"
    }
   ],
   "source": [
    "# Import necessary libraries\n",
    "import numpy as np\n",
    "import pandas as pd\n",
    "import matplotlib.pyplot as plt\n",
    "import seaborn as sns\n",
    "\n",
    "import warnings\n",
    "\n",
    "warnings.filterwarnings(\"ignore\")\n",
    "\n",
    "# To enable plotting graphs in Jupyter notebook\n",
    "%matplotlib inline\n",
    "\n",
    "# To build linear regression_model\n",
    "from sklearn.linear_model import LinearRegression\n",
    "\n",
    "# To check model performance\n",
    "from sklearn.metrics import mean_absolute_error, mean_squared_error, r2_score\n",
    "\n",
    "# to make Python code more structured\n",
    "%load_ext nb_black"
   ]
  },
  {
   "cell_type": "code",
   "execution_count": 2,
   "id": "2629066b",
   "metadata": {},
   "outputs": [
    {
     "data": {
      "application/javascript": [
       "\n",
       "            setTimeout(function() {\n",
       "                var nbb_cell_id = 2;\n",
       "                var nbb_unformatted_code = \"# Load the data into pandas dataframe\\ncars = pd.read_csv(\\\"used_cars_data.csv\\\")\";\n",
       "                var nbb_formatted_code = \"# Load the data into pandas dataframe\\ncars = pd.read_csv(\\\"used_cars_data.csv\\\")\";\n",
       "                var nbb_cells = Jupyter.notebook.get_cells();\n",
       "                for (var i = 0; i < nbb_cells.length; ++i) {\n",
       "                    if (nbb_cells[i].input_prompt_number == nbb_cell_id) {\n",
       "                        if (nbb_cells[i].get_text() == nbb_unformatted_code) {\n",
       "                             nbb_cells[i].set_text(nbb_formatted_code);\n",
       "                        }\n",
       "                        break;\n",
       "                    }\n",
       "                }\n",
       "            }, 500);\n",
       "            "
      ],
      "text/plain": [
       "<IPython.core.display.Javascript object>"
      ]
     },
     "metadata": {},
     "output_type": "display_data"
    }
   ],
   "source": [
    "# Load the data into pandas dataframe\n",
    "cars = pd.read_csv(\"used_cars_data.csv\")"
   ]
  },
  {
   "cell_type": "markdown",
   "id": "5ae10d47",
   "metadata": {},
   "source": [
    "# 2 - Data Preprocessing (Part 1 of 2)"
   ]
  },
  {
   "cell_type": "markdown",
   "id": "4f2bc1f7",
   "metadata": {},
   "source": [
    "## 2.1 - Check the first and last 10 rows of the dataset as well as random 10 rows"
   ]
  },
  {
   "cell_type": "code",
   "execution_count": 3,
   "id": "8402a9e7",
   "metadata": {},
   "outputs": [
    {
     "data": {
      "text/html": [
       "<div>\n",
       "<style scoped>\n",
       "    .dataframe tbody tr th:only-of-type {\n",
       "        vertical-align: middle;\n",
       "    }\n",
       "\n",
       "    .dataframe tbody tr th {\n",
       "        vertical-align: top;\n",
       "    }\n",
       "\n",
       "    .dataframe thead th {\n",
       "        text-align: right;\n",
       "    }\n",
       "</style>\n",
       "<table border=\"1\" class=\"dataframe\">\n",
       "  <thead>\n",
       "    <tr style=\"text-align: right;\">\n",
       "      <th></th>\n",
       "      <th>S.No.</th>\n",
       "      <th>Name</th>\n",
       "      <th>Location</th>\n",
       "      <th>Year</th>\n",
       "      <th>Kilometers_Driven</th>\n",
       "      <th>Fuel_Type</th>\n",
       "      <th>Transmission</th>\n",
       "      <th>Owner_Type</th>\n",
       "      <th>Mileage</th>\n",
       "      <th>Engine</th>\n",
       "      <th>Power</th>\n",
       "      <th>Seats</th>\n",
       "      <th>New_Price</th>\n",
       "      <th>Price</th>\n",
       "    </tr>\n",
       "  </thead>\n",
       "  <tbody>\n",
       "    <tr>\n",
       "      <th>0</th>\n",
       "      <td>0</td>\n",
       "      <td>Maruti Wagon R LXI CNG</td>\n",
       "      <td>Mumbai</td>\n",
       "      <td>2010</td>\n",
       "      <td>72000</td>\n",
       "      <td>CNG</td>\n",
       "      <td>Manual</td>\n",
       "      <td>First</td>\n",
       "      <td>26.6 km/kg</td>\n",
       "      <td>998 CC</td>\n",
       "      <td>58.16 bhp</td>\n",
       "      <td>5.0</td>\n",
       "      <td>NaN</td>\n",
       "      <td>1.75</td>\n",
       "    </tr>\n",
       "    <tr>\n",
       "      <th>1</th>\n",
       "      <td>1</td>\n",
       "      <td>Hyundai Creta 1.6 CRDi SX Option</td>\n",
       "      <td>Pune</td>\n",
       "      <td>2015</td>\n",
       "      <td>41000</td>\n",
       "      <td>Diesel</td>\n",
       "      <td>Manual</td>\n",
       "      <td>First</td>\n",
       "      <td>19.67 kmpl</td>\n",
       "      <td>1582 CC</td>\n",
       "      <td>126.2 bhp</td>\n",
       "      <td>5.0</td>\n",
       "      <td>NaN</td>\n",
       "      <td>12.50</td>\n",
       "    </tr>\n",
       "    <tr>\n",
       "      <th>2</th>\n",
       "      <td>2</td>\n",
       "      <td>Honda Jazz V</td>\n",
       "      <td>Chennai</td>\n",
       "      <td>2011</td>\n",
       "      <td>46000</td>\n",
       "      <td>Petrol</td>\n",
       "      <td>Manual</td>\n",
       "      <td>First</td>\n",
       "      <td>18.2 kmpl</td>\n",
       "      <td>1199 CC</td>\n",
       "      <td>88.7 bhp</td>\n",
       "      <td>5.0</td>\n",
       "      <td>8.61 Lakh</td>\n",
       "      <td>4.50</td>\n",
       "    </tr>\n",
       "    <tr>\n",
       "      <th>3</th>\n",
       "      <td>3</td>\n",
       "      <td>Maruti Ertiga VDI</td>\n",
       "      <td>Chennai</td>\n",
       "      <td>2012</td>\n",
       "      <td>87000</td>\n",
       "      <td>Diesel</td>\n",
       "      <td>Manual</td>\n",
       "      <td>First</td>\n",
       "      <td>20.77 kmpl</td>\n",
       "      <td>1248 CC</td>\n",
       "      <td>88.76 bhp</td>\n",
       "      <td>7.0</td>\n",
       "      <td>NaN</td>\n",
       "      <td>6.00</td>\n",
       "    </tr>\n",
       "    <tr>\n",
       "      <th>4</th>\n",
       "      <td>4</td>\n",
       "      <td>Audi A4 New 2.0 TDI Multitronic</td>\n",
       "      <td>Coimbatore</td>\n",
       "      <td>2013</td>\n",
       "      <td>40670</td>\n",
       "      <td>Diesel</td>\n",
       "      <td>Automatic</td>\n",
       "      <td>Second</td>\n",
       "      <td>15.2 kmpl</td>\n",
       "      <td>1968 CC</td>\n",
       "      <td>140.8 bhp</td>\n",
       "      <td>5.0</td>\n",
       "      <td>NaN</td>\n",
       "      <td>17.74</td>\n",
       "    </tr>\n",
       "    <tr>\n",
       "      <th>5</th>\n",
       "      <td>5</td>\n",
       "      <td>Hyundai EON LPG Era Plus Option</td>\n",
       "      <td>Hyderabad</td>\n",
       "      <td>2012</td>\n",
       "      <td>75000</td>\n",
       "      <td>LPG</td>\n",
       "      <td>Manual</td>\n",
       "      <td>First</td>\n",
       "      <td>21.1 km/kg</td>\n",
       "      <td>814 CC</td>\n",
       "      <td>55.2 bhp</td>\n",
       "      <td>5.0</td>\n",
       "      <td>NaN</td>\n",
       "      <td>2.35</td>\n",
       "    </tr>\n",
       "    <tr>\n",
       "      <th>6</th>\n",
       "      <td>6</td>\n",
       "      <td>Nissan Micra Diesel XV</td>\n",
       "      <td>Jaipur</td>\n",
       "      <td>2013</td>\n",
       "      <td>86999</td>\n",
       "      <td>Diesel</td>\n",
       "      <td>Manual</td>\n",
       "      <td>First</td>\n",
       "      <td>23.08 kmpl</td>\n",
       "      <td>1461 CC</td>\n",
       "      <td>63.1 bhp</td>\n",
       "      <td>5.0</td>\n",
       "      <td>NaN</td>\n",
       "      <td>3.50</td>\n",
       "    </tr>\n",
       "    <tr>\n",
       "      <th>7</th>\n",
       "      <td>7</td>\n",
       "      <td>Toyota Innova Crysta 2.8 GX AT 8S</td>\n",
       "      <td>Mumbai</td>\n",
       "      <td>2016</td>\n",
       "      <td>36000</td>\n",
       "      <td>Diesel</td>\n",
       "      <td>Automatic</td>\n",
       "      <td>First</td>\n",
       "      <td>11.36 kmpl</td>\n",
       "      <td>2755 CC</td>\n",
       "      <td>171.5 bhp</td>\n",
       "      <td>8.0</td>\n",
       "      <td>21 Lakh</td>\n",
       "      <td>17.50</td>\n",
       "    </tr>\n",
       "    <tr>\n",
       "      <th>8</th>\n",
       "      <td>8</td>\n",
       "      <td>Volkswagen Vento Diesel Comfortline</td>\n",
       "      <td>Pune</td>\n",
       "      <td>2013</td>\n",
       "      <td>64430</td>\n",
       "      <td>Diesel</td>\n",
       "      <td>Manual</td>\n",
       "      <td>First</td>\n",
       "      <td>20.54 kmpl</td>\n",
       "      <td>1598 CC</td>\n",
       "      <td>103.6 bhp</td>\n",
       "      <td>5.0</td>\n",
       "      <td>NaN</td>\n",
       "      <td>5.20</td>\n",
       "    </tr>\n",
       "    <tr>\n",
       "      <th>9</th>\n",
       "      <td>9</td>\n",
       "      <td>Tata Indica Vista Quadrajet LS</td>\n",
       "      <td>Chennai</td>\n",
       "      <td>2012</td>\n",
       "      <td>65932</td>\n",
       "      <td>Diesel</td>\n",
       "      <td>Manual</td>\n",
       "      <td>Second</td>\n",
       "      <td>22.3 kmpl</td>\n",
       "      <td>1248 CC</td>\n",
       "      <td>74 bhp</td>\n",
       "      <td>5.0</td>\n",
       "      <td>NaN</td>\n",
       "      <td>1.95</td>\n",
       "    </tr>\n",
       "  </tbody>\n",
       "</table>\n",
       "</div>"
      ],
      "text/plain": [
       "   S.No.                                 Name    Location  Year  \\\n",
       "0      0               Maruti Wagon R LXI CNG      Mumbai  2010   \n",
       "1      1     Hyundai Creta 1.6 CRDi SX Option        Pune  2015   \n",
       "2      2                         Honda Jazz V     Chennai  2011   \n",
       "3      3                    Maruti Ertiga VDI     Chennai  2012   \n",
       "4      4      Audi A4 New 2.0 TDI Multitronic  Coimbatore  2013   \n",
       "5      5      Hyundai EON LPG Era Plus Option   Hyderabad  2012   \n",
       "6      6               Nissan Micra Diesel XV      Jaipur  2013   \n",
       "7      7    Toyota Innova Crysta 2.8 GX AT 8S      Mumbai  2016   \n",
       "8      8  Volkswagen Vento Diesel Comfortline        Pune  2013   \n",
       "9      9       Tata Indica Vista Quadrajet LS     Chennai  2012   \n",
       "\n",
       "   Kilometers_Driven Fuel_Type Transmission Owner_Type     Mileage   Engine  \\\n",
       "0              72000       CNG       Manual      First  26.6 km/kg   998 CC   \n",
       "1              41000    Diesel       Manual      First  19.67 kmpl  1582 CC   \n",
       "2              46000    Petrol       Manual      First   18.2 kmpl  1199 CC   \n",
       "3              87000    Diesel       Manual      First  20.77 kmpl  1248 CC   \n",
       "4              40670    Diesel    Automatic     Second   15.2 kmpl  1968 CC   \n",
       "5              75000       LPG       Manual      First  21.1 km/kg   814 CC   \n",
       "6              86999    Diesel       Manual      First  23.08 kmpl  1461 CC   \n",
       "7              36000    Diesel    Automatic      First  11.36 kmpl  2755 CC   \n",
       "8              64430    Diesel       Manual      First  20.54 kmpl  1598 CC   \n",
       "9              65932    Diesel       Manual     Second   22.3 kmpl  1248 CC   \n",
       "\n",
       "       Power  Seats  New_Price  Price  \n",
       "0  58.16 bhp    5.0        NaN   1.75  \n",
       "1  126.2 bhp    5.0        NaN  12.50  \n",
       "2   88.7 bhp    5.0  8.61 Lakh   4.50  \n",
       "3  88.76 bhp    7.0        NaN   6.00  \n",
       "4  140.8 bhp    5.0        NaN  17.74  \n",
       "5   55.2 bhp    5.0        NaN   2.35  \n",
       "6   63.1 bhp    5.0        NaN   3.50  \n",
       "7  171.5 bhp    8.0    21 Lakh  17.50  \n",
       "8  103.6 bhp    5.0        NaN   5.20  \n",
       "9     74 bhp    5.0        NaN   1.95  "
      ]
     },
     "execution_count": 3,
     "metadata": {},
     "output_type": "execute_result"
    },
    {
     "data": {
      "application/javascript": [
       "\n",
       "            setTimeout(function() {\n",
       "                var nbb_cell_id = 3;\n",
       "                var nbb_unformatted_code = \"# first 10 rows\\ncars.head(10)\";\n",
       "                var nbb_formatted_code = \"# first 10 rows\\ncars.head(10)\";\n",
       "                var nbb_cells = Jupyter.notebook.get_cells();\n",
       "                for (var i = 0; i < nbb_cells.length; ++i) {\n",
       "                    if (nbb_cells[i].input_prompt_number == nbb_cell_id) {\n",
       "                        if (nbb_cells[i].get_text() == nbb_unformatted_code) {\n",
       "                             nbb_cells[i].set_text(nbb_formatted_code);\n",
       "                        }\n",
       "                        break;\n",
       "                    }\n",
       "                }\n",
       "            }, 500);\n",
       "            "
      ],
      "text/plain": [
       "<IPython.core.display.Javascript object>"
      ]
     },
     "metadata": {},
     "output_type": "display_data"
    }
   ],
   "source": [
    "# first 10 rows\n",
    "cars.head(10)"
   ]
  },
  {
   "cell_type": "code",
   "execution_count": 4,
   "id": "e161baec",
   "metadata": {},
   "outputs": [
    {
     "data": {
      "text/html": [
       "<div>\n",
       "<style scoped>\n",
       "    .dataframe tbody tr th:only-of-type {\n",
       "        vertical-align: middle;\n",
       "    }\n",
       "\n",
       "    .dataframe tbody tr th {\n",
       "        vertical-align: top;\n",
       "    }\n",
       "\n",
       "    .dataframe thead th {\n",
       "        text-align: right;\n",
       "    }\n",
       "</style>\n",
       "<table border=\"1\" class=\"dataframe\">\n",
       "  <thead>\n",
       "    <tr style=\"text-align: right;\">\n",
       "      <th></th>\n",
       "      <th>S.No.</th>\n",
       "      <th>Name</th>\n",
       "      <th>Location</th>\n",
       "      <th>Year</th>\n",
       "      <th>Kilometers_Driven</th>\n",
       "      <th>Fuel_Type</th>\n",
       "      <th>Transmission</th>\n",
       "      <th>Owner_Type</th>\n",
       "      <th>Mileage</th>\n",
       "      <th>Engine</th>\n",
       "      <th>Power</th>\n",
       "      <th>Seats</th>\n",
       "      <th>New_Price</th>\n",
       "      <th>Price</th>\n",
       "    </tr>\n",
       "  </thead>\n",
       "  <tbody>\n",
       "    <tr>\n",
       "      <th>7243</th>\n",
       "      <td>7243</td>\n",
       "      <td>Renault Duster 85PS Diesel RxL</td>\n",
       "      <td>Chennai</td>\n",
       "      <td>2015</td>\n",
       "      <td>70000</td>\n",
       "      <td>Diesel</td>\n",
       "      <td>Manual</td>\n",
       "      <td>First</td>\n",
       "      <td>19.87 kmpl</td>\n",
       "      <td>1461 CC</td>\n",
       "      <td>83.8 bhp</td>\n",
       "      <td>5.0</td>\n",
       "      <td>NaN</td>\n",
       "      <td>NaN</td>\n",
       "    </tr>\n",
       "    <tr>\n",
       "      <th>7244</th>\n",
       "      <td>7244</td>\n",
       "      <td>Chevrolet Aveo 1.4 LS</td>\n",
       "      <td>Pune</td>\n",
       "      <td>2009</td>\n",
       "      <td>45463</td>\n",
       "      <td>Petrol</td>\n",
       "      <td>Manual</td>\n",
       "      <td>First</td>\n",
       "      <td>14.49 kmpl</td>\n",
       "      <td>1399 CC</td>\n",
       "      <td>92.7 bhp</td>\n",
       "      <td>5.0</td>\n",
       "      <td>NaN</td>\n",
       "      <td>NaN</td>\n",
       "    </tr>\n",
       "    <tr>\n",
       "      <th>7245</th>\n",
       "      <td>7245</td>\n",
       "      <td>Honda Amaze S i-Vtech</td>\n",
       "      <td>Kochi</td>\n",
       "      <td>2015</td>\n",
       "      <td>44776</td>\n",
       "      <td>Petrol</td>\n",
       "      <td>Manual</td>\n",
       "      <td>First</td>\n",
       "      <td>18.0 kmpl</td>\n",
       "      <td>1198 CC</td>\n",
       "      <td>86.7 bhp</td>\n",
       "      <td>5.0</td>\n",
       "      <td>NaN</td>\n",
       "      <td>NaN</td>\n",
       "    </tr>\n",
       "    <tr>\n",
       "      <th>7246</th>\n",
       "      <td>7246</td>\n",
       "      <td>Hyundai Grand i10 AT Asta</td>\n",
       "      <td>Coimbatore</td>\n",
       "      <td>2016</td>\n",
       "      <td>18242</td>\n",
       "      <td>Petrol</td>\n",
       "      <td>Automatic</td>\n",
       "      <td>First</td>\n",
       "      <td>18.9 kmpl</td>\n",
       "      <td>1197 CC</td>\n",
       "      <td>82 bhp</td>\n",
       "      <td>5.0</td>\n",
       "      <td>NaN</td>\n",
       "      <td>NaN</td>\n",
       "    </tr>\n",
       "    <tr>\n",
       "      <th>7247</th>\n",
       "      <td>7247</td>\n",
       "      <td>Hyundai EON D Lite Plus</td>\n",
       "      <td>Coimbatore</td>\n",
       "      <td>2015</td>\n",
       "      <td>21190</td>\n",
       "      <td>Petrol</td>\n",
       "      <td>Manual</td>\n",
       "      <td>First</td>\n",
       "      <td>21.1 kmpl</td>\n",
       "      <td>814 CC</td>\n",
       "      <td>55.2 bhp</td>\n",
       "      <td>5.0</td>\n",
       "      <td>NaN</td>\n",
       "      <td>NaN</td>\n",
       "    </tr>\n",
       "    <tr>\n",
       "      <th>7248</th>\n",
       "      <td>7248</td>\n",
       "      <td>Volkswagen Vento Diesel Trendline</td>\n",
       "      <td>Hyderabad</td>\n",
       "      <td>2011</td>\n",
       "      <td>89411</td>\n",
       "      <td>Diesel</td>\n",
       "      <td>Manual</td>\n",
       "      <td>First</td>\n",
       "      <td>20.54 kmpl</td>\n",
       "      <td>1598 CC</td>\n",
       "      <td>103.6 bhp</td>\n",
       "      <td>5.0</td>\n",
       "      <td>NaN</td>\n",
       "      <td>NaN</td>\n",
       "    </tr>\n",
       "    <tr>\n",
       "      <th>7249</th>\n",
       "      <td>7249</td>\n",
       "      <td>Volkswagen Polo GT TSI</td>\n",
       "      <td>Mumbai</td>\n",
       "      <td>2015</td>\n",
       "      <td>59000</td>\n",
       "      <td>Petrol</td>\n",
       "      <td>Automatic</td>\n",
       "      <td>First</td>\n",
       "      <td>17.21 kmpl</td>\n",
       "      <td>1197 CC</td>\n",
       "      <td>103.6 bhp</td>\n",
       "      <td>5.0</td>\n",
       "      <td>NaN</td>\n",
       "      <td>NaN</td>\n",
       "    </tr>\n",
       "    <tr>\n",
       "      <th>7250</th>\n",
       "      <td>7250</td>\n",
       "      <td>Nissan Micra Diesel XV</td>\n",
       "      <td>Kolkata</td>\n",
       "      <td>2012</td>\n",
       "      <td>28000</td>\n",
       "      <td>Diesel</td>\n",
       "      <td>Manual</td>\n",
       "      <td>First</td>\n",
       "      <td>23.08 kmpl</td>\n",
       "      <td>1461 CC</td>\n",
       "      <td>63.1 bhp</td>\n",
       "      <td>5.0</td>\n",
       "      <td>NaN</td>\n",
       "      <td>NaN</td>\n",
       "    </tr>\n",
       "    <tr>\n",
       "      <th>7251</th>\n",
       "      <td>7251</td>\n",
       "      <td>Volkswagen Polo GT TSI</td>\n",
       "      <td>Pune</td>\n",
       "      <td>2013</td>\n",
       "      <td>52262</td>\n",
       "      <td>Petrol</td>\n",
       "      <td>Automatic</td>\n",
       "      <td>Third</td>\n",
       "      <td>17.2 kmpl</td>\n",
       "      <td>1197 CC</td>\n",
       "      <td>103.6 bhp</td>\n",
       "      <td>5.0</td>\n",
       "      <td>NaN</td>\n",
       "      <td>NaN</td>\n",
       "    </tr>\n",
       "    <tr>\n",
       "      <th>7252</th>\n",
       "      <td>7252</td>\n",
       "      <td>Mercedes-Benz E-Class 2009-2013 E 220 CDI Avan...</td>\n",
       "      <td>Kochi</td>\n",
       "      <td>2014</td>\n",
       "      <td>72443</td>\n",
       "      <td>Diesel</td>\n",
       "      <td>Automatic</td>\n",
       "      <td>First</td>\n",
       "      <td>10.0 kmpl</td>\n",
       "      <td>2148 CC</td>\n",
       "      <td>170 bhp</td>\n",
       "      <td>5.0</td>\n",
       "      <td>NaN</td>\n",
       "      <td>NaN</td>\n",
       "    </tr>\n",
       "  </tbody>\n",
       "</table>\n",
       "</div>"
      ],
      "text/plain": [
       "      S.No.                                               Name    Location  \\\n",
       "7243   7243                     Renault Duster 85PS Diesel RxL     Chennai   \n",
       "7244   7244                              Chevrolet Aveo 1.4 LS        Pune   \n",
       "7245   7245                              Honda Amaze S i-Vtech       Kochi   \n",
       "7246   7246                          Hyundai Grand i10 AT Asta  Coimbatore   \n",
       "7247   7247                            Hyundai EON D Lite Plus  Coimbatore   \n",
       "7248   7248                  Volkswagen Vento Diesel Trendline   Hyderabad   \n",
       "7249   7249                             Volkswagen Polo GT TSI      Mumbai   \n",
       "7250   7250                             Nissan Micra Diesel XV     Kolkata   \n",
       "7251   7251                             Volkswagen Polo GT TSI        Pune   \n",
       "7252   7252  Mercedes-Benz E-Class 2009-2013 E 220 CDI Avan...       Kochi   \n",
       "\n",
       "      Year  Kilometers_Driven Fuel_Type Transmission Owner_Type     Mileage  \\\n",
       "7243  2015              70000    Diesel       Manual      First  19.87 kmpl   \n",
       "7244  2009              45463    Petrol       Manual      First  14.49 kmpl   \n",
       "7245  2015              44776    Petrol       Manual      First   18.0 kmpl   \n",
       "7246  2016              18242    Petrol    Automatic      First   18.9 kmpl   \n",
       "7247  2015              21190    Petrol       Manual      First   21.1 kmpl   \n",
       "7248  2011              89411    Diesel       Manual      First  20.54 kmpl   \n",
       "7249  2015              59000    Petrol    Automatic      First  17.21 kmpl   \n",
       "7250  2012              28000    Diesel       Manual      First  23.08 kmpl   \n",
       "7251  2013              52262    Petrol    Automatic      Third   17.2 kmpl   \n",
       "7252  2014              72443    Diesel    Automatic      First   10.0 kmpl   \n",
       "\n",
       "       Engine      Power  Seats New_Price  Price  \n",
       "7243  1461 CC   83.8 bhp    5.0       NaN    NaN  \n",
       "7244  1399 CC   92.7 bhp    5.0       NaN    NaN  \n",
       "7245  1198 CC   86.7 bhp    5.0       NaN    NaN  \n",
       "7246  1197 CC     82 bhp    5.0       NaN    NaN  \n",
       "7247   814 CC   55.2 bhp    5.0       NaN    NaN  \n",
       "7248  1598 CC  103.6 bhp    5.0       NaN    NaN  \n",
       "7249  1197 CC  103.6 bhp    5.0       NaN    NaN  \n",
       "7250  1461 CC   63.1 bhp    5.0       NaN    NaN  \n",
       "7251  1197 CC  103.6 bhp    5.0       NaN    NaN  \n",
       "7252  2148 CC    170 bhp    5.0       NaN    NaN  "
      ]
     },
     "execution_count": 4,
     "metadata": {},
     "output_type": "execute_result"
    },
    {
     "data": {
      "application/javascript": [
       "\n",
       "            setTimeout(function() {\n",
       "                var nbb_cell_id = 4;\n",
       "                var nbb_unformatted_code = \"# last 10 rows\\ncars.tail(10)\";\n",
       "                var nbb_formatted_code = \"# last 10 rows\\ncars.tail(10)\";\n",
       "                var nbb_cells = Jupyter.notebook.get_cells();\n",
       "                for (var i = 0; i < nbb_cells.length; ++i) {\n",
       "                    if (nbb_cells[i].input_prompt_number == nbb_cell_id) {\n",
       "                        if (nbb_cells[i].get_text() == nbb_unformatted_code) {\n",
       "                             nbb_cells[i].set_text(nbb_formatted_code);\n",
       "                        }\n",
       "                        break;\n",
       "                    }\n",
       "                }\n",
       "            }, 500);\n",
       "            "
      ],
      "text/plain": [
       "<IPython.core.display.Javascript object>"
      ]
     },
     "metadata": {},
     "output_type": "display_data"
    }
   ],
   "source": [
    "# last 10 rows\n",
    "cars.tail(10)"
   ]
  },
  {
   "cell_type": "code",
   "execution_count": 5,
   "id": "3f583bf4",
   "metadata": {},
   "outputs": [
    {
     "data": {
      "text/html": [
       "<div>\n",
       "<style scoped>\n",
       "    .dataframe tbody tr th:only-of-type {\n",
       "        vertical-align: middle;\n",
       "    }\n",
       "\n",
       "    .dataframe tbody tr th {\n",
       "        vertical-align: top;\n",
       "    }\n",
       "\n",
       "    .dataframe thead th {\n",
       "        text-align: right;\n",
       "    }\n",
       "</style>\n",
       "<table border=\"1\" class=\"dataframe\">\n",
       "  <thead>\n",
       "    <tr style=\"text-align: right;\">\n",
       "      <th></th>\n",
       "      <th>S.No.</th>\n",
       "      <th>Name</th>\n",
       "      <th>Location</th>\n",
       "      <th>Year</th>\n",
       "      <th>Kilometers_Driven</th>\n",
       "      <th>Fuel_Type</th>\n",
       "      <th>Transmission</th>\n",
       "      <th>Owner_Type</th>\n",
       "      <th>Mileage</th>\n",
       "      <th>Engine</th>\n",
       "      <th>Power</th>\n",
       "      <th>Seats</th>\n",
       "      <th>New_Price</th>\n",
       "      <th>Price</th>\n",
       "    </tr>\n",
       "  </thead>\n",
       "  <tbody>\n",
       "    <tr>\n",
       "      <th>2397</th>\n",
       "      <td>2397</td>\n",
       "      <td>Ford EcoSport 1.5 Petrol Trend</td>\n",
       "      <td>Kolkata</td>\n",
       "      <td>2016</td>\n",
       "      <td>21460</td>\n",
       "      <td>Petrol</td>\n",
       "      <td>Manual</td>\n",
       "      <td>First</td>\n",
       "      <td>17.0 kmpl</td>\n",
       "      <td>1497 CC</td>\n",
       "      <td>121.36 bhp</td>\n",
       "      <td>5.0</td>\n",
       "      <td>9.47 Lakh</td>\n",
       "      <td>6.00</td>\n",
       "    </tr>\n",
       "    <tr>\n",
       "      <th>3777</th>\n",
       "      <td>3777</td>\n",
       "      <td>Maruti Wagon R VXI 1.2</td>\n",
       "      <td>Kochi</td>\n",
       "      <td>2015</td>\n",
       "      <td>49818</td>\n",
       "      <td>Petrol</td>\n",
       "      <td>Manual</td>\n",
       "      <td>First</td>\n",
       "      <td>21.5 kmpl</td>\n",
       "      <td>1197 CC</td>\n",
       "      <td>81.80 bhp</td>\n",
       "      <td>5.0</td>\n",
       "      <td>5.44 Lakh</td>\n",
       "      <td>4.11</td>\n",
       "    </tr>\n",
       "    <tr>\n",
       "      <th>4425</th>\n",
       "      <td>4425</td>\n",
       "      <td>Ford Endeavour 4x2 XLT</td>\n",
       "      <td>Hyderabad</td>\n",
       "      <td>2007</td>\n",
       "      <td>130000</td>\n",
       "      <td>Diesel</td>\n",
       "      <td>Manual</td>\n",
       "      <td>First</td>\n",
       "      <td>13.1 kmpl</td>\n",
       "      <td>2499 CC</td>\n",
       "      <td>141 bhp</td>\n",
       "      <td>7.0</td>\n",
       "      <td>NaN</td>\n",
       "      <td>6.00</td>\n",
       "    </tr>\n",
       "    <tr>\n",
       "      <th>3661</th>\n",
       "      <td>3661</td>\n",
       "      <td>Mercedes-Benz E-Class E250 CDI Avantgrade</td>\n",
       "      <td>Coimbatore</td>\n",
       "      <td>2016</td>\n",
       "      <td>39753</td>\n",
       "      <td>Diesel</td>\n",
       "      <td>Automatic</td>\n",
       "      <td>First</td>\n",
       "      <td>13.0 kmpl</td>\n",
       "      <td>2143 CC</td>\n",
       "      <td>201.1 bhp</td>\n",
       "      <td>5.0</td>\n",
       "      <td>NaN</td>\n",
       "      <td>35.28</td>\n",
       "    </tr>\n",
       "    <tr>\n",
       "      <th>4514</th>\n",
       "      <td>4514</td>\n",
       "      <td>Hyundai Xcent 1.2 Kappa AT SX Option</td>\n",
       "      <td>Kochi</td>\n",
       "      <td>2016</td>\n",
       "      <td>45560</td>\n",
       "      <td>Petrol</td>\n",
       "      <td>Automatic</td>\n",
       "      <td>First</td>\n",
       "      <td>16.9 kmpl</td>\n",
       "      <td>1197 CC</td>\n",
       "      <td>82 bhp</td>\n",
       "      <td>5.0</td>\n",
       "      <td>NaN</td>\n",
       "      <td>6.34</td>\n",
       "    </tr>\n",
       "    <tr>\n",
       "      <th>599</th>\n",
       "      <td>599</td>\n",
       "      <td>Toyota Innova Crysta 2.8 ZX AT</td>\n",
       "      <td>Coimbatore</td>\n",
       "      <td>2019</td>\n",
       "      <td>40674</td>\n",
       "      <td>Diesel</td>\n",
       "      <td>Automatic</td>\n",
       "      <td>First</td>\n",
       "      <td>11.36 kmpl</td>\n",
       "      <td>2755 CC</td>\n",
       "      <td>171.5 bhp</td>\n",
       "      <td>7.0</td>\n",
       "      <td>28.05 Lakh</td>\n",
       "      <td>24.82</td>\n",
       "    </tr>\n",
       "    <tr>\n",
       "      <th>186</th>\n",
       "      <td>186</td>\n",
       "      <td>Mercedes-Benz E-Class E250 CDI Avantgrade</td>\n",
       "      <td>Bangalore</td>\n",
       "      <td>2014</td>\n",
       "      <td>37382</td>\n",
       "      <td>Diesel</td>\n",
       "      <td>Automatic</td>\n",
       "      <td>First</td>\n",
       "      <td>13.0 kmpl</td>\n",
       "      <td>2143 CC</td>\n",
       "      <td>201.1 bhp</td>\n",
       "      <td>5.0</td>\n",
       "      <td>NaN</td>\n",
       "      <td>32.00</td>\n",
       "    </tr>\n",
       "    <tr>\n",
       "      <th>305</th>\n",
       "      <td>305</td>\n",
       "      <td>Audi A6 2011-2015 2.0 TDI Premium Plus</td>\n",
       "      <td>Kochi</td>\n",
       "      <td>2014</td>\n",
       "      <td>61726</td>\n",
       "      <td>Diesel</td>\n",
       "      <td>Automatic</td>\n",
       "      <td>First</td>\n",
       "      <td>17.68 kmpl</td>\n",
       "      <td>1968 CC</td>\n",
       "      <td>174.33 bhp</td>\n",
       "      <td>5.0</td>\n",
       "      <td>NaN</td>\n",
       "      <td>20.77</td>\n",
       "    </tr>\n",
       "    <tr>\n",
       "      <th>4582</th>\n",
       "      <td>4582</td>\n",
       "      <td>Hyundai i20 1.2 Magna</td>\n",
       "      <td>Kolkata</td>\n",
       "      <td>2011</td>\n",
       "      <td>36000</td>\n",
       "      <td>Petrol</td>\n",
       "      <td>Manual</td>\n",
       "      <td>First</td>\n",
       "      <td>18.5 kmpl</td>\n",
       "      <td>1197 CC</td>\n",
       "      <td>80 bhp</td>\n",
       "      <td>5.0</td>\n",
       "      <td>NaN</td>\n",
       "      <td>2.50</td>\n",
       "    </tr>\n",
       "    <tr>\n",
       "      <th>5434</th>\n",
       "      <td>5434</td>\n",
       "      <td>Honda WR-V Edge Edition i-VTEC S</td>\n",
       "      <td>Kochi</td>\n",
       "      <td>2019</td>\n",
       "      <td>13913</td>\n",
       "      <td>Petrol</td>\n",
       "      <td>Manual</td>\n",
       "      <td>First</td>\n",
       "      <td>17.5 kmpl</td>\n",
       "      <td>1199 CC</td>\n",
       "      <td>88.7 bhp</td>\n",
       "      <td>5.0</td>\n",
       "      <td>9.36 Lakh</td>\n",
       "      <td>8.20</td>\n",
       "    </tr>\n",
       "  </tbody>\n",
       "</table>\n",
       "</div>"
      ],
      "text/plain": [
       "      S.No.                                       Name    Location  Year  \\\n",
       "2397   2397             Ford EcoSport 1.5 Petrol Trend     Kolkata  2016   \n",
       "3777   3777                     Maruti Wagon R VXI 1.2       Kochi  2015   \n",
       "4425   4425                     Ford Endeavour 4x2 XLT   Hyderabad  2007   \n",
       "3661   3661  Mercedes-Benz E-Class E250 CDI Avantgrade  Coimbatore  2016   \n",
       "4514   4514       Hyundai Xcent 1.2 Kappa AT SX Option       Kochi  2016   \n",
       "599     599             Toyota Innova Crysta 2.8 ZX AT  Coimbatore  2019   \n",
       "186     186  Mercedes-Benz E-Class E250 CDI Avantgrade   Bangalore  2014   \n",
       "305     305     Audi A6 2011-2015 2.0 TDI Premium Plus       Kochi  2014   \n",
       "4582   4582                      Hyundai i20 1.2 Magna     Kolkata  2011   \n",
       "5434   5434           Honda WR-V Edge Edition i-VTEC S       Kochi  2019   \n",
       "\n",
       "      Kilometers_Driven Fuel_Type Transmission Owner_Type     Mileage  \\\n",
       "2397              21460    Petrol       Manual      First   17.0 kmpl   \n",
       "3777              49818    Petrol       Manual      First   21.5 kmpl   \n",
       "4425             130000    Diesel       Manual      First   13.1 kmpl   \n",
       "3661              39753    Diesel    Automatic      First   13.0 kmpl   \n",
       "4514              45560    Petrol    Automatic      First   16.9 kmpl   \n",
       "599               40674    Diesel    Automatic      First  11.36 kmpl   \n",
       "186               37382    Diesel    Automatic      First   13.0 kmpl   \n",
       "305               61726    Diesel    Automatic      First  17.68 kmpl   \n",
       "4582              36000    Petrol       Manual      First   18.5 kmpl   \n",
       "5434              13913    Petrol       Manual      First   17.5 kmpl   \n",
       "\n",
       "       Engine       Power  Seats   New_Price  Price  \n",
       "2397  1497 CC  121.36 bhp    5.0   9.47 Lakh   6.00  \n",
       "3777  1197 CC   81.80 bhp    5.0   5.44 Lakh   4.11  \n",
       "4425  2499 CC     141 bhp    7.0         NaN   6.00  \n",
       "3661  2143 CC   201.1 bhp    5.0         NaN  35.28  \n",
       "4514  1197 CC      82 bhp    5.0         NaN   6.34  \n",
       "599   2755 CC   171.5 bhp    7.0  28.05 Lakh  24.82  \n",
       "186   2143 CC   201.1 bhp    5.0         NaN  32.00  \n",
       "305   1968 CC  174.33 bhp    5.0         NaN  20.77  \n",
       "4582  1197 CC      80 bhp    5.0         NaN   2.50  \n",
       "5434  1199 CC    88.7 bhp    5.0   9.36 Lakh   8.20  "
      ]
     },
     "execution_count": 5,
     "metadata": {},
     "output_type": "execute_result"
    },
    {
     "data": {
      "application/javascript": [
       "\n",
       "            setTimeout(function() {\n",
       "                var nbb_cell_id = 5;\n",
       "                var nbb_unformatted_code = \"# random 10 rows\\nnp.random.seed(1)\\ncars.sample(n=10)\";\n",
       "                var nbb_formatted_code = \"# random 10 rows\\nnp.random.seed(1)\\ncars.sample(n=10)\";\n",
       "                var nbb_cells = Jupyter.notebook.get_cells();\n",
       "                for (var i = 0; i < nbb_cells.length; ++i) {\n",
       "                    if (nbb_cells[i].input_prompt_number == nbb_cell_id) {\n",
       "                        if (nbb_cells[i].get_text() == nbb_unformatted_code) {\n",
       "                             nbb_cells[i].set_text(nbb_formatted_code);\n",
       "                        }\n",
       "                        break;\n",
       "                    }\n",
       "                }\n",
       "            }, 500);\n",
       "            "
      ],
      "text/plain": [
       "<IPython.core.display.Javascript object>"
      ]
     },
     "metadata": {},
     "output_type": "display_data"
    }
   ],
   "source": [
    "# random 10 rows\n",
    "np.random.seed(1)\n",
    "cars.sample(n=10)"
   ]
  },
  {
   "cell_type": "markdown",
   "id": "1285b011",
   "metadata": {},
   "source": [
    "__Observations:__\n",
    "* Fuel_Type, Transmission, Seats are all categorical variables. If Owner_Type has any other values besides \"First\" it could be a categorical variable as well.\n",
    "* Units need to be removed from Mileage, Engine, Power, and New_Price."
   ]
  },
  {
   "cell_type": "markdown",
   "id": "d2575839",
   "metadata": {},
   "source": [
    "## 2.2 - Check the shape of the data"
   ]
  },
  {
   "cell_type": "code",
   "execution_count": 6,
   "id": "c9a90db9",
   "metadata": {},
   "outputs": [
    {
     "data": {
      "text/plain": [
       "(7253, 14)"
      ]
     },
     "execution_count": 6,
     "metadata": {},
     "output_type": "execute_result"
    },
    {
     "data": {
      "application/javascript": [
       "\n",
       "            setTimeout(function() {\n",
       "                var nbb_cell_id = 6;\n",
       "                var nbb_unformatted_code = \"cars.shape\";\n",
       "                var nbb_formatted_code = \"cars.shape\";\n",
       "                var nbb_cells = Jupyter.notebook.get_cells();\n",
       "                for (var i = 0; i < nbb_cells.length; ++i) {\n",
       "                    if (nbb_cells[i].input_prompt_number == nbb_cell_id) {\n",
       "                        if (nbb_cells[i].get_text() == nbb_unformatted_code) {\n",
       "                             nbb_cells[i].set_text(nbb_formatted_code);\n",
       "                        }\n",
       "                        break;\n",
       "                    }\n",
       "                }\n",
       "            }, 500);\n",
       "            "
      ],
      "text/plain": [
       "<IPython.core.display.Javascript object>"
      ]
     },
     "metadata": {},
     "output_type": "display_data"
    }
   ],
   "source": [
    "cars.shape"
   ]
  },
  {
   "cell_type": "markdown",
   "id": "e48a1afa",
   "metadata": {},
   "source": [
    "## 2.3 - Check the datatypes and row counts for each column"
   ]
  },
  {
   "cell_type": "code",
   "execution_count": 7,
   "id": "19401439",
   "metadata": {},
   "outputs": [
    {
     "name": "stdout",
     "output_type": "stream",
     "text": [
      "<class 'pandas.core.frame.DataFrame'>\n",
      "RangeIndex: 7253 entries, 0 to 7252\n",
      "Data columns (total 14 columns):\n",
      " #   Column             Non-Null Count  Dtype  \n",
      "---  ------             --------------  -----  \n",
      " 0   S.No.              7253 non-null   int64  \n",
      " 1   Name               7253 non-null   object \n",
      " 2   Location           7253 non-null   object \n",
      " 3   Year               7253 non-null   int64  \n",
      " 4   Kilometers_Driven  7253 non-null   int64  \n",
      " 5   Fuel_Type          7253 non-null   object \n",
      " 6   Transmission       7253 non-null   object \n",
      " 7   Owner_Type         7253 non-null   object \n",
      " 8   Mileage            7251 non-null   object \n",
      " 9   Engine             7207 non-null   object \n",
      " 10  Power              7207 non-null   object \n",
      " 11  Seats              7200 non-null   float64\n",
      " 12  New_Price          1006 non-null   object \n",
      " 13  Price              6019 non-null   float64\n",
      "dtypes: float64(2), int64(3), object(9)\n",
      "memory usage: 793.4+ KB\n"
     ]
    },
    {
     "data": {
      "application/javascript": [
       "\n",
       "            setTimeout(function() {\n",
       "                var nbb_cell_id = 7;\n",
       "                var nbb_unformatted_code = \"cars.info()\";\n",
       "                var nbb_formatted_code = \"cars.info()\";\n",
       "                var nbb_cells = Jupyter.notebook.get_cells();\n",
       "                for (var i = 0; i < nbb_cells.length; ++i) {\n",
       "                    if (nbb_cells[i].input_prompt_number == nbb_cell_id) {\n",
       "                        if (nbb_cells[i].get_text() == nbb_unformatted_code) {\n",
       "                             nbb_cells[i].set_text(nbb_formatted_code);\n",
       "                        }\n",
       "                        break;\n",
       "                    }\n",
       "                }\n",
       "            }, 500);\n",
       "            "
      ],
      "text/plain": [
       "<IPython.core.display.Javascript object>"
      ]
     },
     "metadata": {},
     "output_type": "display_data"
    }
   ],
   "source": [
    "cars.info()"
   ]
  },
  {
   "cell_type": "markdown",
   "id": "4c60b269",
   "metadata": {},
   "source": [
    "__Observations:__\n",
    "* The following have null values that need to be dealt with: Mileage, Engine, Power, Seats, New_Price, and Price.\n",
    "* Confirming from earlier observation that Fuel_Type, Transmission, Owner_Type, and Seats need to be converted to categorical variables.\n",
    "* Mileage, Power, and New_Price need to be converted to a float once units are removed.\n",
    "* Engine should be an integer once units are removed."
   ]
  },
  {
   "cell_type": "markdown",
   "id": "7202d002",
   "metadata": {},
   "source": [
    "## 2.4 - Drop Values"
   ]
  },
  {
   "cell_type": "code",
   "execution_count": 8,
   "id": "719061da",
   "metadata": {},
   "outputs": [
    {
     "data": {
      "application/javascript": [
       "\n",
       "            setTimeout(function() {\n",
       "                var nbb_cell_id = 8;\n",
       "                var nbb_unformatted_code = \"# S.No. is an identifier - not really useful for current project\\ncars.drop([\\\"S.No.\\\"], axis=1, inplace=True)\\n\\n# New Price is missing over 50% of values (advice per Project Forum)\\ncars.drop([\\\"New_Price\\\"], axis=1, inplace=True)\";\n",
       "                var nbb_formatted_code = \"# S.No. is an identifier - not really useful for current project\\ncars.drop([\\\"S.No.\\\"], axis=1, inplace=True)\\n\\n# New Price is missing over 50% of values (advice per Project Forum)\\ncars.drop([\\\"New_Price\\\"], axis=1, inplace=True)\";\n",
       "                var nbb_cells = Jupyter.notebook.get_cells();\n",
       "                for (var i = 0; i < nbb_cells.length; ++i) {\n",
       "                    if (nbb_cells[i].input_prompt_number == nbb_cell_id) {\n",
       "                        if (nbb_cells[i].get_text() == nbb_unformatted_code) {\n",
       "                             nbb_cells[i].set_text(nbb_formatted_code);\n",
       "                        }\n",
       "                        break;\n",
       "                    }\n",
       "                }\n",
       "            }, 500);\n",
       "            "
      ],
      "text/plain": [
       "<IPython.core.display.Javascript object>"
      ]
     },
     "metadata": {},
     "output_type": "display_data"
    }
   ],
   "source": [
    "# S.No. is an identifier - not really useful for current project\n",
    "cars.drop([\"S.No.\"], axis=1, inplace=True)\n",
    "\n",
    "# New Price is missing over 50% of values (advice per Project Forum)\n",
    "cars.drop([\"New_Price\"], axis=1, inplace=True)"
   ]
  },
  {
   "cell_type": "markdown",
   "id": "f4da556e",
   "metadata": {},
   "source": [
    "## 2.4 - Convert variables to categorical: Fuel_Type, Transmission, Owner_Type, Seats"
   ]
  },
  {
   "cell_type": "code",
   "execution_count": 9,
   "id": "2a22168f",
   "metadata": {},
   "outputs": [
    {
     "data": {
      "application/javascript": [
       "\n",
       "            setTimeout(function() {\n",
       "                var nbb_cell_id = 9;\n",
       "                var nbb_unformatted_code = \"cars[\\\"Fuel_Type\\\"] = cars[\\\"Fuel_Type\\\"].astype(\\\"category\\\")\\ncars[\\\"Transmission\\\"] = cars[\\\"Transmission\\\"].astype(\\\"category\\\")\\ncars[\\\"Owner_Type\\\"] = cars[\\\"Owner_Type\\\"].astype(\\\"category\\\")\\ncars[\\\"Seats\\\"] = cars[\\\"Seats\\\"].astype(\\\"category\\\")\";\n",
       "                var nbb_formatted_code = \"cars[\\\"Fuel_Type\\\"] = cars[\\\"Fuel_Type\\\"].astype(\\\"category\\\")\\ncars[\\\"Transmission\\\"] = cars[\\\"Transmission\\\"].astype(\\\"category\\\")\\ncars[\\\"Owner_Type\\\"] = cars[\\\"Owner_Type\\\"].astype(\\\"category\\\")\\ncars[\\\"Seats\\\"] = cars[\\\"Seats\\\"].astype(\\\"category\\\")\";\n",
       "                var nbb_cells = Jupyter.notebook.get_cells();\n",
       "                for (var i = 0; i < nbb_cells.length; ++i) {\n",
       "                    if (nbb_cells[i].input_prompt_number == nbb_cell_id) {\n",
       "                        if (nbb_cells[i].get_text() == nbb_unformatted_code) {\n",
       "                             nbb_cells[i].set_text(nbb_formatted_code);\n",
       "                        }\n",
       "                        break;\n",
       "                    }\n",
       "                }\n",
       "            }, 500);\n",
       "            "
      ],
      "text/plain": [
       "<IPython.core.display.Javascript object>"
      ]
     },
     "metadata": {},
     "output_type": "display_data"
    }
   ],
   "source": [
    "cars[\"Fuel_Type\"] = cars[\"Fuel_Type\"].astype(\"category\")\n",
    "cars[\"Transmission\"] = cars[\"Transmission\"].astype(\"category\")\n",
    "cars[\"Owner_Type\"] = cars[\"Owner_Type\"].astype(\"category\")\n",
    "cars[\"Seats\"] = cars[\"Seats\"].astype(\"category\")"
   ]
  },
  {
   "cell_type": "markdown",
   "id": "8a7f23d9",
   "metadata": {},
   "source": [
    "## 2.5 - Fix Mileage - Remove Units, Convert to Float, Treat Missing Values"
   ]
  },
  {
   "cell_type": "code",
   "execution_count": 10,
   "id": "93330f99",
   "metadata": {},
   "outputs": [
    {
     "data": {
      "application/javascript": [
       "\n",
       "            setTimeout(function() {\n",
       "                var nbb_cell_id = 10;\n",
       "                var nbb_unformatted_code = \"# Remove units for Mileage and convert to float - possible units are km/kg and kmpl\\nfor index in cars[\\\"Mileage\\\"].index:\\n    if str(cars[\\\"Mileage\\\"][index]).endswith(\\\"g\\\"):\\n        cars[\\\"Mileage\\\"][index] = str(cars[\\\"Mileage\\\"][index]).replace(\\\"km/kg\\\", \\\"\\\")\\n    elif str(cars[\\\"Mileage\\\"][index]).endswith(\\\"l\\\"):\\n        cars[\\\"Mileage\\\"][index] = str(cars[\\\"Mileage\\\"][index]).replace(\\\"kmpl\\\", \\\"\\\")\\n\\ncars[\\\"Mileage\\\"] = cars[\\\"Mileage\\\"].astype(\\\"float\\\")\";\n",
       "                var nbb_formatted_code = \"# Remove units for Mileage and convert to float - possible units are km/kg and kmpl\\nfor index in cars[\\\"Mileage\\\"].index:\\n    if str(cars[\\\"Mileage\\\"][index]).endswith(\\\"g\\\"):\\n        cars[\\\"Mileage\\\"][index] = str(cars[\\\"Mileage\\\"][index]).replace(\\\"km/kg\\\", \\\"\\\")\\n    elif str(cars[\\\"Mileage\\\"][index]).endswith(\\\"l\\\"):\\n        cars[\\\"Mileage\\\"][index] = str(cars[\\\"Mileage\\\"][index]).replace(\\\"kmpl\\\", \\\"\\\")\\n\\ncars[\\\"Mileage\\\"] = cars[\\\"Mileage\\\"].astype(\\\"float\\\")\";\n",
       "                var nbb_cells = Jupyter.notebook.get_cells();\n",
       "                for (var i = 0; i < nbb_cells.length; ++i) {\n",
       "                    if (nbb_cells[i].input_prompt_number == nbb_cell_id) {\n",
       "                        if (nbb_cells[i].get_text() == nbb_unformatted_code) {\n",
       "                             nbb_cells[i].set_text(nbb_formatted_code);\n",
       "                        }\n",
       "                        break;\n",
       "                    }\n",
       "                }\n",
       "            }, 500);\n",
       "            "
      ],
      "text/plain": [
       "<IPython.core.display.Javascript object>"
      ]
     },
     "metadata": {},
     "output_type": "display_data"
    }
   ],
   "source": [
    "# Remove units for Mileage and convert to float - possible units are km/kg and kmpl\n",
    "for index in cars[\"Mileage\"].index:\n",
    "    if str(cars[\"Mileage\"][index]).endswith(\"g\"):\n",
    "        cars[\"Mileage\"][index] = str(cars[\"Mileage\"][index]).replace(\"km/kg\", \"\")\n",
    "    elif str(cars[\"Mileage\"][index]).endswith(\"l\"):\n",
    "        cars[\"Mileage\"][index] = str(cars[\"Mileage\"][index]).replace(\"kmpl\", \"\")\n",
    "\n",
    "cars[\"Mileage\"] = cars[\"Mileage\"].astype(\"float\")"
   ]
  },
  {
   "cell_type": "code",
   "execution_count": 11,
   "id": "ac3daed4",
   "metadata": {},
   "outputs": [
    {
     "data": {
      "text/plain": [
       "0       26.60\n",
       "1       19.67\n",
       "2       18.20\n",
       "3       20.77\n",
       "4       15.20\n",
       "        ...  \n",
       "7248    20.54\n",
       "7249    17.21\n",
       "7250    23.08\n",
       "7251    17.20\n",
       "7252    10.00\n",
       "Name: Mileage, Length: 7253, dtype: float64"
      ]
     },
     "execution_count": 11,
     "metadata": {},
     "output_type": "execute_result"
    },
    {
     "data": {
      "application/javascript": [
       "\n",
       "            setTimeout(function() {\n",
       "                var nbb_cell_id = 11;\n",
       "                var nbb_unformatted_code = \"# confirming changes to Mileage were successful\\ncars[\\\"Mileage\\\"]\";\n",
       "                var nbb_formatted_code = \"# confirming changes to Mileage were successful\\ncars[\\\"Mileage\\\"]\";\n",
       "                var nbb_cells = Jupyter.notebook.get_cells();\n",
       "                for (var i = 0; i < nbb_cells.length; ++i) {\n",
       "                    if (nbb_cells[i].input_prompt_number == nbb_cell_id) {\n",
       "                        if (nbb_cells[i].get_text() == nbb_unformatted_code) {\n",
       "                             nbb_cells[i].set_text(nbb_formatted_code);\n",
       "                        }\n",
       "                        break;\n",
       "                    }\n",
       "                }\n",
       "            }, 500);\n",
       "            "
      ],
      "text/plain": [
       "<IPython.core.display.Javascript object>"
      ]
     },
     "metadata": {},
     "output_type": "display_data"
    }
   ],
   "source": [
    "# confirming changes to Mileage were successful\n",
    "cars[\"Mileage\"]"
   ]
  },
  {
   "cell_type": "code",
   "execution_count": 12,
   "id": "db424a35",
   "metadata": {},
   "outputs": [
    {
     "data": {
      "text/plain": [
       "0"
      ]
     },
     "execution_count": 12,
     "metadata": {},
     "output_type": "execute_result"
    },
    {
     "data": {
      "application/javascript": [
       "\n",
       "            setTimeout(function() {\n",
       "                var nbb_cell_id = 12;\n",
       "                var nbb_unformatted_code = \"# Replace missing values with median\\ncars[\\\"Mileage\\\"].fillna(cars[\\\"Mileage\\\"].median(), inplace=True)\\n\\n# Double-check change to Mileage took place\\ncars[\\\"Mileage\\\"].isnull().sum()\";\n",
       "                var nbb_formatted_code = \"# Replace missing values with median\\ncars[\\\"Mileage\\\"].fillna(cars[\\\"Mileage\\\"].median(), inplace=True)\\n\\n# Double-check change to Mileage took place\\ncars[\\\"Mileage\\\"].isnull().sum()\";\n",
       "                var nbb_cells = Jupyter.notebook.get_cells();\n",
       "                for (var i = 0; i < nbb_cells.length; ++i) {\n",
       "                    if (nbb_cells[i].input_prompt_number == nbb_cell_id) {\n",
       "                        if (nbb_cells[i].get_text() == nbb_unformatted_code) {\n",
       "                             nbb_cells[i].set_text(nbb_formatted_code);\n",
       "                        }\n",
       "                        break;\n",
       "                    }\n",
       "                }\n",
       "            }, 500);\n",
       "            "
      ],
      "text/plain": [
       "<IPython.core.display.Javascript object>"
      ]
     },
     "metadata": {},
     "output_type": "display_data"
    }
   ],
   "source": [
    "# Replace missing values with median\n",
    "cars[\"Mileage\"].fillna(cars[\"Mileage\"].median(), inplace=True)\n",
    "\n",
    "# Double-check change to Mileage took place\n",
    "cars[\"Mileage\"].isnull().sum()"
   ]
  },
  {
   "cell_type": "markdown",
   "id": "f849251b",
   "metadata": {},
   "source": [
    "## 2.6 - Fix Power - Remove Units, Convert to Float, Treat Missing Values"
   ]
  },
  {
   "cell_type": "code",
   "execution_count": 13,
   "id": "50515652",
   "metadata": {},
   "outputs": [
    {
     "data": {
      "application/javascript": [
       "\n",
       "            setTimeout(function() {\n",
       "                var nbb_cell_id = 13;\n",
       "                var nbb_unformatted_code = \"# Remove units for Power - possible units are bhp\\nfor index in cars[\\\"Power\\\"].index:\\n    if str(cars[\\\"Power\\\"][index]).endswith(\\\"p\\\"):\\n        cars[\\\"Power\\\"][index] = str(cars[\\\"Power\\\"][index]).replace(\\\"bhp\\\", \\\"\\\")\\n\\n# Convert nulls and blanks to NaN\\nfor index in cars[\\\"Power\\\"].index:\\n    if \\\"null\\\" in str(cars[\\\"Power\\\"][index]):\\n        cars[\\\"Power\\\"][index] = np.nan\";\n",
       "                var nbb_formatted_code = \"# Remove units for Power - possible units are bhp\\nfor index in cars[\\\"Power\\\"].index:\\n    if str(cars[\\\"Power\\\"][index]).endswith(\\\"p\\\"):\\n        cars[\\\"Power\\\"][index] = str(cars[\\\"Power\\\"][index]).replace(\\\"bhp\\\", \\\"\\\")\\n\\n# Convert nulls and blanks to NaN\\nfor index in cars[\\\"Power\\\"].index:\\n    if \\\"null\\\" in str(cars[\\\"Power\\\"][index]):\\n        cars[\\\"Power\\\"][index] = np.nan\";\n",
       "                var nbb_cells = Jupyter.notebook.get_cells();\n",
       "                for (var i = 0; i < nbb_cells.length; ++i) {\n",
       "                    if (nbb_cells[i].input_prompt_number == nbb_cell_id) {\n",
       "                        if (nbb_cells[i].get_text() == nbb_unformatted_code) {\n",
       "                             nbb_cells[i].set_text(nbb_formatted_code);\n",
       "                        }\n",
       "                        break;\n",
       "                    }\n",
       "                }\n",
       "            }, 500);\n",
       "            "
      ],
      "text/plain": [
       "<IPython.core.display.Javascript object>"
      ]
     },
     "metadata": {},
     "output_type": "display_data"
    }
   ],
   "source": [
    "# Remove units for Power - possible units are bhp\n",
    "for index in cars[\"Power\"].index:\n",
    "    if str(cars[\"Power\"][index]).endswith(\"p\"):\n",
    "        cars[\"Power\"][index] = str(cars[\"Power\"][index]).replace(\"bhp\", \"\")\n",
    "\n",
    "# Convert nulls and blanks to NaN\n",
    "for index in cars[\"Power\"].index:\n",
    "    if \"null\" in str(cars[\"Power\"][index]):\n",
    "        cars[\"Power\"][index] = np.nan"
   ]
  },
  {
   "cell_type": "code",
   "execution_count": 14,
   "id": "a498b76f",
   "metadata": {},
   "outputs": [
    {
     "data": {
      "text/plain": [
       "0       58.16 \n",
       "1       126.2 \n",
       "2        88.7 \n",
       "3       88.76 \n",
       "4       140.8 \n",
       "         ...  \n",
       "7248    103.6 \n",
       "7249    103.6 \n",
       "7250     63.1 \n",
       "7251    103.6 \n",
       "7252      170 \n",
       "Name: Power, Length: 7253, dtype: object"
      ]
     },
     "execution_count": 14,
     "metadata": {},
     "output_type": "execute_result"
    },
    {
     "data": {
      "application/javascript": [
       "\n",
       "            setTimeout(function() {\n",
       "                var nbb_cell_id = 14;\n",
       "                var nbb_unformatted_code = \"# confirming changes to \\\"Power\\\" were successful\\ncars[\\\"Power\\\"]\";\n",
       "                var nbb_formatted_code = \"# confirming changes to \\\"Power\\\" were successful\\ncars[\\\"Power\\\"]\";\n",
       "                var nbb_cells = Jupyter.notebook.get_cells();\n",
       "                for (var i = 0; i < nbb_cells.length; ++i) {\n",
       "                    if (nbb_cells[i].input_prompt_number == nbb_cell_id) {\n",
       "                        if (nbb_cells[i].get_text() == nbb_unformatted_code) {\n",
       "                             nbb_cells[i].set_text(nbb_formatted_code);\n",
       "                        }\n",
       "                        break;\n",
       "                    }\n",
       "                }\n",
       "            }, 500);\n",
       "            "
      ],
      "text/plain": [
       "<IPython.core.display.Javascript object>"
      ]
     },
     "metadata": {},
     "output_type": "display_data"
    }
   ],
   "source": [
    "# confirming changes to \"Power\" were successful\n",
    "cars[\"Power\"]"
   ]
  },
  {
   "cell_type": "code",
   "execution_count": 15,
   "id": "49e30709",
   "metadata": {},
   "outputs": [
    {
     "data": {
      "text/plain": [
       "175"
      ]
     },
     "execution_count": 15,
     "metadata": {},
     "output_type": "execute_result"
    },
    {
     "data": {
      "application/javascript": [
       "\n",
       "            setTimeout(function() {\n",
       "                var nbb_cell_id = 15;\n",
       "                var nbb_unformatted_code = \"# Checking how many nulls are left\\ncars[\\\"Power\\\"].isnull().sum()\";\n",
       "                var nbb_formatted_code = \"# Checking how many nulls are left\\ncars[\\\"Power\\\"].isnull().sum()\";\n",
       "                var nbb_cells = Jupyter.notebook.get_cells();\n",
       "                for (var i = 0; i < nbb_cells.length; ++i) {\n",
       "                    if (nbb_cells[i].input_prompt_number == nbb_cell_id) {\n",
       "                        if (nbb_cells[i].get_text() == nbb_unformatted_code) {\n",
       "                             nbb_cells[i].set_text(nbb_formatted_code);\n",
       "                        }\n",
       "                        break;\n",
       "                    }\n",
       "                }\n",
       "            }, 500);\n",
       "            "
      ],
      "text/plain": [
       "<IPython.core.display.Javascript object>"
      ]
     },
     "metadata": {},
     "output_type": "display_data"
    }
   ],
   "source": [
    "# Checking how many nulls are left\n",
    "cars[\"Power\"].isnull().sum()"
   ]
  },
  {
   "cell_type": "code",
   "execution_count": 16,
   "id": "5bd19bfe",
   "metadata": {},
   "outputs": [
    {
     "data": {
      "application/javascript": [
       "\n",
       "            setTimeout(function() {\n",
       "                var nbb_cell_id = 16;\n",
       "                var nbb_unformatted_code = \"# CODE IDEA NOT WORKING - commenting out\\n\\n# Create a lookup table of unique values for Name, Year, and Power from dataframe\\n# Trying to figure out Power from other matching cars with same name and year\\n# power_lookup = cars[[\\\"Name\\\", \\\"Year\\\", \\\"Power\\\"]].copy()\\n# power_lookup.dropna(inplace=True)\\n# power_lookup = power_lookup.drop_duplicates()\\n\\n# Retrieve value of Power for cars dataframe based on corresponding\\n# Name, Year, Power in lookup table\\n# for index in cars[cars[\\\"Power\\\"].isnull() == True].index:\\n#    car_name = cars[\\\"Name\\\"][index]\\n#    car_year = cars[\\\"Year\\\"][index]\\n\\n#    for index2 in power_lookup.index:\\n#        if power_lookup[\\\"Name\\\"][index2] == car_name:\\n#            if power_lookup[\\\"Year\\\"][index2] == car_year:\\n#                cars[\\\"Power\\\"][index] = power_lookup[\\\"Power\\\"][index2]\\n\\n# Figure out how many remaining nulls are there\\n# cars[\\\"Power\\\"].isnull().sum()\";\n",
       "                var nbb_formatted_code = \"# CODE IDEA NOT WORKING - commenting out\\n\\n# Create a lookup table of unique values for Name, Year, and Power from dataframe\\n# Trying to figure out Power from other matching cars with same name and year\\n# power_lookup = cars[[\\\"Name\\\", \\\"Year\\\", \\\"Power\\\"]].copy()\\n# power_lookup.dropna(inplace=True)\\n# power_lookup = power_lookup.drop_duplicates()\\n\\n# Retrieve value of Power for cars dataframe based on corresponding\\n# Name, Year, Power in lookup table\\n# for index in cars[cars[\\\"Power\\\"].isnull() == True].index:\\n#    car_name = cars[\\\"Name\\\"][index]\\n#    car_year = cars[\\\"Year\\\"][index]\\n\\n#    for index2 in power_lookup.index:\\n#        if power_lookup[\\\"Name\\\"][index2] == car_name:\\n#            if power_lookup[\\\"Year\\\"][index2] == car_year:\\n#                cars[\\\"Power\\\"][index] = power_lookup[\\\"Power\\\"][index2]\\n\\n# Figure out how many remaining nulls are there\\n# cars[\\\"Power\\\"].isnull().sum()\";\n",
       "                var nbb_cells = Jupyter.notebook.get_cells();\n",
       "                for (var i = 0; i < nbb_cells.length; ++i) {\n",
       "                    if (nbb_cells[i].input_prompt_number == nbb_cell_id) {\n",
       "                        if (nbb_cells[i].get_text() == nbb_unformatted_code) {\n",
       "                             nbb_cells[i].set_text(nbb_formatted_code);\n",
       "                        }\n",
       "                        break;\n",
       "                    }\n",
       "                }\n",
       "            }, 500);\n",
       "            "
      ],
      "text/plain": [
       "<IPython.core.display.Javascript object>"
      ]
     },
     "metadata": {},
     "output_type": "display_data"
    }
   ],
   "source": [
    "# CODE IDEA NOT WORKING - commenting out\n",
    "\n",
    "# Create a lookup table of unique values for Name, Year, and Power from dataframe\n",
    "# Trying to figure out Power from other matching cars with same name and year\n",
    "# power_lookup = cars[[\"Name\", \"Year\", \"Power\"]].copy()\n",
    "# power_lookup.dropna(inplace=True)\n",
    "# power_lookup = power_lookup.drop_duplicates()\n",
    "\n",
    "# Retrieve value of Power for cars dataframe based on corresponding\n",
    "# Name, Year, Power in lookup table\n",
    "# for index in cars[cars[\"Power\"].isnull() == True].index:\n",
    "#    car_name = cars[\"Name\"][index]\n",
    "#    car_year = cars[\"Year\"][index]\n",
    "\n",
    "#    for index2 in power_lookup.index:\n",
    "#        if power_lookup[\"Name\"][index2] == car_name:\n",
    "#            if power_lookup[\"Year\"][index2] == car_year:\n",
    "#                cars[\"Power\"][index] = power_lookup[\"Power\"][index2]\n",
    "\n",
    "# Figure out how many remaining nulls are there\n",
    "# cars[\"Power\"].isnull().sum()"
   ]
  },
  {
   "cell_type": "code",
   "execution_count": 17,
   "id": "38cc14cb",
   "metadata": {},
   "outputs": [
    {
     "data": {
      "text/plain": [
       "0"
      ]
     },
     "execution_count": 17,
     "metadata": {},
     "output_type": "execute_result"
    },
    {
     "data": {
      "application/javascript": [
       "\n",
       "            setTimeout(function() {\n",
       "                var nbb_cell_id = 17;\n",
       "                var nbb_unformatted_code = \"# Fill remaining null values with overall Power median\\ncars[\\\"Power\\\"].fillna(cars[\\\"Power\\\"].median(), inplace=True)\\n\\n# Double-check change to Power took place\\ncars[\\\"Power\\\"].isnull().sum()\";\n",
       "                var nbb_formatted_code = \"# Fill remaining null values with overall Power median\\ncars[\\\"Power\\\"].fillna(cars[\\\"Power\\\"].median(), inplace=True)\\n\\n# Double-check change to Power took place\\ncars[\\\"Power\\\"].isnull().sum()\";\n",
       "                var nbb_cells = Jupyter.notebook.get_cells();\n",
       "                for (var i = 0; i < nbb_cells.length; ++i) {\n",
       "                    if (nbb_cells[i].input_prompt_number == nbb_cell_id) {\n",
       "                        if (nbb_cells[i].get_text() == nbb_unformatted_code) {\n",
       "                             nbb_cells[i].set_text(nbb_formatted_code);\n",
       "                        }\n",
       "                        break;\n",
       "                    }\n",
       "                }\n",
       "            }, 500);\n",
       "            "
      ],
      "text/plain": [
       "<IPython.core.display.Javascript object>"
      ]
     },
     "metadata": {},
     "output_type": "display_data"
    }
   ],
   "source": [
    "# Fill remaining null values with overall Power median\n",
    "cars[\"Power\"].fillna(cars[\"Power\"].median(), inplace=True)\n",
    "\n",
    "# Double-check change to Power took place\n",
    "cars[\"Power\"].isnull().sum()"
   ]
  },
  {
   "cell_type": "code",
   "execution_count": 18,
   "id": "afe1458e",
   "metadata": {},
   "outputs": [
    {
     "name": "stdout",
     "output_type": "stream",
     "text": [
      "<class 'pandas.core.frame.DataFrame'>\n",
      "RangeIndex: 7253 entries, 0 to 7252\n",
      "Data columns (total 12 columns):\n",
      " #   Column             Non-Null Count  Dtype   \n",
      "---  ------             --------------  -----   \n",
      " 0   Name               7253 non-null   object  \n",
      " 1   Location           7253 non-null   object  \n",
      " 2   Year               7253 non-null   int64   \n",
      " 3   Kilometers_Driven  7253 non-null   int64   \n",
      " 4   Fuel_Type          7253 non-null   category\n",
      " 5   Transmission       7253 non-null   category\n",
      " 6   Owner_Type         7253 non-null   category\n",
      " 7   Mileage            7253 non-null   float64 \n",
      " 8   Engine             7207 non-null   object  \n",
      " 9   Power              7253 non-null   float64 \n",
      " 10  Seats              7200 non-null   category\n",
      " 11  Price              6019 non-null   float64 \n",
      "dtypes: category(4), float64(3), int64(2), object(3)\n",
      "memory usage: 482.7+ KB\n"
     ]
    },
    {
     "data": {
      "application/javascript": [
       "\n",
       "            setTimeout(function() {\n",
       "                var nbb_cell_id = 18;\n",
       "                var nbb_unformatted_code = \"# Convert Power to float\\ncars[\\\"Power\\\"] = cars[\\\"Power\\\"].astype(\\\"float\\\")\\ncars.info()  # confirming change took place\";\n",
       "                var nbb_formatted_code = \"# Convert Power to float\\ncars[\\\"Power\\\"] = cars[\\\"Power\\\"].astype(\\\"float\\\")\\ncars.info()  # confirming change took place\";\n",
       "                var nbb_cells = Jupyter.notebook.get_cells();\n",
       "                for (var i = 0; i < nbb_cells.length; ++i) {\n",
       "                    if (nbb_cells[i].input_prompt_number == nbb_cell_id) {\n",
       "                        if (nbb_cells[i].get_text() == nbb_unformatted_code) {\n",
       "                             nbb_cells[i].set_text(nbb_formatted_code);\n",
       "                        }\n",
       "                        break;\n",
       "                    }\n",
       "                }\n",
       "            }, 500);\n",
       "            "
      ],
      "text/plain": [
       "<IPython.core.display.Javascript object>"
      ]
     },
     "metadata": {},
     "output_type": "display_data"
    }
   ],
   "source": [
    "# Convert Power to float\n",
    "cars[\"Power\"] = cars[\"Power\"].astype(\"float\")\n",
    "cars.info()  # confirming change took place"
   ]
  },
  {
   "cell_type": "markdown",
   "id": "fbf8454d",
   "metadata": {},
   "source": [
    "## 2.7 - Fix Engine - Remove Units, Convert to Integer, Treat Missing Values"
   ]
  },
  {
   "cell_type": "code",
   "execution_count": 19,
   "id": "04bd641b",
   "metadata": {},
   "outputs": [
    {
     "data": {
      "application/javascript": [
       "\n",
       "            setTimeout(function() {\n",
       "                var nbb_cell_id = 19;\n",
       "                var nbb_unformatted_code = \"# Remove units for Engine and convert to integer - possible units are CC\\nfor index in cars[\\\"Engine\\\"].index:\\n    if str(cars[\\\"Engine\\\"][index]).endswith(\\\"C\\\"):\\n        cars[\\\"Engine\\\"][index] = str(cars[\\\"Engine\\\"][index]).replace(\\\"CC\\\", \\\"\\\")\";\n",
       "                var nbb_formatted_code = \"# Remove units for Engine and convert to integer - possible units are CC\\nfor index in cars[\\\"Engine\\\"].index:\\n    if str(cars[\\\"Engine\\\"][index]).endswith(\\\"C\\\"):\\n        cars[\\\"Engine\\\"][index] = str(cars[\\\"Engine\\\"][index]).replace(\\\"CC\\\", \\\"\\\")\";\n",
       "                var nbb_cells = Jupyter.notebook.get_cells();\n",
       "                for (var i = 0; i < nbb_cells.length; ++i) {\n",
       "                    if (nbb_cells[i].input_prompt_number == nbb_cell_id) {\n",
       "                        if (nbb_cells[i].get_text() == nbb_unformatted_code) {\n",
       "                             nbb_cells[i].set_text(nbb_formatted_code);\n",
       "                        }\n",
       "                        break;\n",
       "                    }\n",
       "                }\n",
       "            }, 500);\n",
       "            "
      ],
      "text/plain": [
       "<IPython.core.display.Javascript object>"
      ]
     },
     "metadata": {},
     "output_type": "display_data"
    }
   ],
   "source": [
    "# Remove units for Engine and convert to integer - possible units are CC\n",
    "for index in cars[\"Engine\"].index:\n",
    "    if str(cars[\"Engine\"][index]).endswith(\"C\"):\n",
    "        cars[\"Engine\"][index] = str(cars[\"Engine\"][index]).replace(\"CC\", \"\")"
   ]
  },
  {
   "cell_type": "code",
   "execution_count": 20,
   "id": "7d6cf827",
   "metadata": {},
   "outputs": [
    {
     "data": {
      "text/plain": [
       "0"
      ]
     },
     "execution_count": 20,
     "metadata": {},
     "output_type": "execute_result"
    },
    {
     "data": {
      "application/javascript": [
       "\n",
       "            setTimeout(function() {\n",
       "                var nbb_cell_id = 20;\n",
       "                var nbb_unformatted_code = \"# Treat missing values\\n# Fill remaining null values with overall Power median\\ncars[\\\"Engine\\\"].fillna(cars[\\\"Engine\\\"].median(), inplace=True)\\n\\n# Double-check change to Power took place\\ncars[\\\"Engine\\\"].isnull().sum()\";\n",
       "                var nbb_formatted_code = \"# Treat missing values\\n# Fill remaining null values with overall Power median\\ncars[\\\"Engine\\\"].fillna(cars[\\\"Engine\\\"].median(), inplace=True)\\n\\n# Double-check change to Power took place\\ncars[\\\"Engine\\\"].isnull().sum()\";\n",
       "                var nbb_cells = Jupyter.notebook.get_cells();\n",
       "                for (var i = 0; i < nbb_cells.length; ++i) {\n",
       "                    if (nbb_cells[i].input_prompt_number == nbb_cell_id) {\n",
       "                        if (nbb_cells[i].get_text() == nbb_unformatted_code) {\n",
       "                             nbb_cells[i].set_text(nbb_formatted_code);\n",
       "                        }\n",
       "                        break;\n",
       "                    }\n",
       "                }\n",
       "            }, 500);\n",
       "            "
      ],
      "text/plain": [
       "<IPython.core.display.Javascript object>"
      ]
     },
     "metadata": {},
     "output_type": "display_data"
    }
   ],
   "source": [
    "# Treat missing values\n",
    "# Fill remaining null values with overall Power median\n",
    "cars[\"Engine\"].fillna(cars[\"Engine\"].median(), inplace=True)\n",
    "\n",
    "# Double-check change to Power took place\n",
    "cars[\"Engine\"].isnull().sum()"
   ]
  },
  {
   "cell_type": "code",
   "execution_count": 21,
   "id": "08657ca7",
   "metadata": {},
   "outputs": [
    {
     "name": "stdout",
     "output_type": "stream",
     "text": [
      "<class 'pandas.core.frame.DataFrame'>\n",
      "RangeIndex: 7253 entries, 0 to 7252\n",
      "Data columns (total 12 columns):\n",
      " #   Column             Non-Null Count  Dtype   \n",
      "---  ------             --------------  -----   \n",
      " 0   Name               7253 non-null   object  \n",
      " 1   Location           7253 non-null   object  \n",
      " 2   Year               7253 non-null   int64   \n",
      " 3   Kilometers_Driven  7253 non-null   int64   \n",
      " 4   Fuel_Type          7253 non-null   category\n",
      " 5   Transmission       7253 non-null   category\n",
      " 6   Owner_Type         7253 non-null   category\n",
      " 7   Mileage            7253 non-null   float64 \n",
      " 8   Engine             7253 non-null   int64   \n",
      " 9   Power              7253 non-null   float64 \n",
      " 10  Seats              7200 non-null   category\n",
      " 11  Price              6019 non-null   float64 \n",
      "dtypes: category(4), float64(3), int64(3), object(2)\n",
      "memory usage: 482.7+ KB\n"
     ]
    },
    {
     "data": {
      "application/javascript": [
       "\n",
       "            setTimeout(function() {\n",
       "                var nbb_cell_id = 21;\n",
       "                var nbb_unformatted_code = \"# Convert Engine to Integer\\ncars[\\\"Engine\\\"] = cars[\\\"Engine\\\"].astype(\\\"int\\\")\\ncars.info()  # confirming change took place\";\n",
       "                var nbb_formatted_code = \"# Convert Engine to Integer\\ncars[\\\"Engine\\\"] = cars[\\\"Engine\\\"].astype(\\\"int\\\")\\ncars.info()  # confirming change took place\";\n",
       "                var nbb_cells = Jupyter.notebook.get_cells();\n",
       "                for (var i = 0; i < nbb_cells.length; ++i) {\n",
       "                    if (nbb_cells[i].input_prompt_number == nbb_cell_id) {\n",
       "                        if (nbb_cells[i].get_text() == nbb_unformatted_code) {\n",
       "                             nbb_cells[i].set_text(nbb_formatted_code);\n",
       "                        }\n",
       "                        break;\n",
       "                    }\n",
       "                }\n",
       "            }, 500);\n",
       "            "
      ],
      "text/plain": [
       "<IPython.core.display.Javascript object>"
      ]
     },
     "metadata": {},
     "output_type": "display_data"
    }
   ],
   "source": [
    "# Convert Engine to Integer\n",
    "cars[\"Engine\"] = cars[\"Engine\"].astype(\"int\")\n",
    "cars.info()  # confirming change took place"
   ]
  },
  {
   "cell_type": "markdown",
   "id": "af732f55",
   "metadata": {},
   "source": [
    "## 2.8 - Fix Seats - Treat Missing Values"
   ]
  },
  {
   "cell_type": "code",
   "execution_count": 22,
   "id": "a24762b1",
   "metadata": {},
   "outputs": [
    {
     "data": {
      "text/plain": [
       "0"
      ]
     },
     "execution_count": 22,
     "metadata": {},
     "output_type": "execute_result"
    },
    {
     "data": {
      "application/javascript": [
       "\n",
       "            setTimeout(function() {\n",
       "                var nbb_cell_id = 22;\n",
       "                var nbb_unformatted_code = \"cars[\\\"Seats\\\"] = cars[\\\"Seats\\\"].astype(\\\"str\\\")\\ncars[\\\"Seats\\\"].fillna(\\\"Missing\\\", inplace=True)\\n\\n# Double-check changes to Engine took place\\ncars[\\\"Seats\\\"].isnull().sum()\";\n",
       "                var nbb_formatted_code = \"cars[\\\"Seats\\\"] = cars[\\\"Seats\\\"].astype(\\\"str\\\")\\ncars[\\\"Seats\\\"].fillna(\\\"Missing\\\", inplace=True)\\n\\n# Double-check changes to Engine took place\\ncars[\\\"Seats\\\"].isnull().sum()\";\n",
       "                var nbb_cells = Jupyter.notebook.get_cells();\n",
       "                for (var i = 0; i < nbb_cells.length; ++i) {\n",
       "                    if (nbb_cells[i].input_prompt_number == nbb_cell_id) {\n",
       "                        if (nbb_cells[i].get_text() == nbb_unformatted_code) {\n",
       "                             nbb_cells[i].set_text(nbb_formatted_code);\n",
       "                        }\n",
       "                        break;\n",
       "                    }\n",
       "                }\n",
       "            }, 500);\n",
       "            "
      ],
      "text/plain": [
       "<IPython.core.display.Javascript object>"
      ]
     },
     "metadata": {},
     "output_type": "display_data"
    }
   ],
   "source": [
    "cars[\"Seats\"] = cars[\"Seats\"].astype(\"str\")\n",
    "cars[\"Seats\"].fillna(\"Missing\", inplace=True)\n",
    "\n",
    "# Double-check changes to Engine took place\n",
    "cars[\"Seats\"].isnull().sum()"
   ]
  },
  {
   "cell_type": "code",
   "execution_count": 23,
   "id": "c87fa42c",
   "metadata": {},
   "outputs": [
    {
     "data": {
      "application/javascript": [
       "\n",
       "            setTimeout(function() {\n",
       "                var nbb_cell_id = 23;\n",
       "                var nbb_unformatted_code = \"# Re-convert \\\"Seats\\\" back to categorical variable\\ncars[\\\"Seats\\\"] = cars[\\\"Seats\\\"].astype(\\\"category\\\")\";\n",
       "                var nbb_formatted_code = \"# Re-convert \\\"Seats\\\" back to categorical variable\\ncars[\\\"Seats\\\"] = cars[\\\"Seats\\\"].astype(\\\"category\\\")\";\n",
       "                var nbb_cells = Jupyter.notebook.get_cells();\n",
       "                for (var i = 0; i < nbb_cells.length; ++i) {\n",
       "                    if (nbb_cells[i].input_prompt_number == nbb_cell_id) {\n",
       "                        if (nbb_cells[i].get_text() == nbb_unformatted_code) {\n",
       "                             nbb_cells[i].set_text(nbb_formatted_code);\n",
       "                        }\n",
       "                        break;\n",
       "                    }\n",
       "                }\n",
       "            }, 500);\n",
       "            "
      ],
      "text/plain": [
       "<IPython.core.display.Javascript object>"
      ]
     },
     "metadata": {},
     "output_type": "display_data"
    }
   ],
   "source": [
    "# Re-convert \"Seats\" back to categorical variable\n",
    "cars[\"Seats\"] = cars[\"Seats\"].astype(\"category\")"
   ]
  },
  {
   "cell_type": "code",
   "execution_count": 24,
   "id": "c6207380",
   "metadata": {},
   "outputs": [
    {
     "data": {
      "text/plain": [
       "0       5.0\n",
       "1       5.0\n",
       "2       5.0\n",
       "3       7.0\n",
       "4       5.0\n",
       "       ... \n",
       "7248    5.0\n",
       "7249    5.0\n",
       "7250    5.0\n",
       "7251    5.0\n",
       "7252    5.0\n",
       "Name: Seats, Length: 7253, dtype: category\n",
       "Categories (10, object): ['0.0', '10.0', '2.0', '4.0', ..., '7.0', '8.0', '9.0', 'Missing']"
      ]
     },
     "execution_count": 24,
     "metadata": {},
     "output_type": "execute_result"
    },
    {
     "data": {
      "application/javascript": [
       "\n",
       "            setTimeout(function() {\n",
       "                var nbb_cell_id = 24;\n",
       "                var nbb_unformatted_code = \"# Double-check changes to \\\"Seats\\\" took place\\ncars[\\\"Seats\\\"]\";\n",
       "                var nbb_formatted_code = \"# Double-check changes to \\\"Seats\\\" took place\\ncars[\\\"Seats\\\"]\";\n",
       "                var nbb_cells = Jupyter.notebook.get_cells();\n",
       "                for (var i = 0; i < nbb_cells.length; ++i) {\n",
       "                    if (nbb_cells[i].input_prompt_number == nbb_cell_id) {\n",
       "                        if (nbb_cells[i].get_text() == nbb_unformatted_code) {\n",
       "                             nbb_cells[i].set_text(nbb_formatted_code);\n",
       "                        }\n",
       "                        break;\n",
       "                    }\n",
       "                }\n",
       "            }, 500);\n",
       "            "
      ],
      "text/plain": [
       "<IPython.core.display.Javascript object>"
      ]
     },
     "metadata": {},
     "output_type": "display_data"
    }
   ],
   "source": [
    "# Double-check changes to \"Seats\" took place\n",
    "cars[\"Seats\"]"
   ]
  },
  {
   "cell_type": "markdown",
   "id": "04fe53ac",
   "metadata": {},
   "source": [
    "## 2.9 - Fix Price - Treat Missing Values"
   ]
  },
  {
   "cell_type": "code",
   "execution_count": 25,
   "id": "5e65f856",
   "metadata": {},
   "outputs": [
    {
     "data": {
      "application/javascript": [
       "\n",
       "            setTimeout(function() {\n",
       "                var nbb_cell_id = 25;\n",
       "                var nbb_unformatted_code = \"# CODE IDEA NOT WORKING - commenting out\\n\\n# Create a lookup table of unique values for Name, Year, and Price from dataframe\\n# Trying to figure out Price from other matching cars with same name and year\\n# price_lookup = cars[[\\\"Name\\\", \\\"Year\\\", \\\"Price\\\"]].copy()\\n# price_lookup.dropna(inplace=True)\\n# price_lookup = price_lookup.drop_duplicates()\\n\\n# Retrieve value of Price for cars dataframe based on corresponding\\n# Name, Year, Price in lookup table\\n# for index in cars[cars[\\\"Price\\\"].isnull() == True].index:\\n#    car_name = cars[\\\"Name\\\"][index]\\n#    car_year = cars[\\\"Year\\\"][index]\\n\\n#    for index2 in price_lookup.index:\\n#        if price_lookup[\\\"Name\\\"][index2] == car_name:\\n#            if price_lookup[\\\"Year\\\"][index2] == car_year:\\n#                cars[\\\"Price\\\"][index] = price_lookup[\\\"Price\\\"][index2]\\n\\n# Figure out how many remaining nulls are there\\n# cars[\\\"Price\\\"].isnull().sum()\";\n",
       "                var nbb_formatted_code = \"# CODE IDEA NOT WORKING - commenting out\\n\\n# Create a lookup table of unique values for Name, Year, and Price from dataframe\\n# Trying to figure out Price from other matching cars with same name and year\\n# price_lookup = cars[[\\\"Name\\\", \\\"Year\\\", \\\"Price\\\"]].copy()\\n# price_lookup.dropna(inplace=True)\\n# price_lookup = price_lookup.drop_duplicates()\\n\\n# Retrieve value of Price for cars dataframe based on corresponding\\n# Name, Year, Price in lookup table\\n# for index in cars[cars[\\\"Price\\\"].isnull() == True].index:\\n#    car_name = cars[\\\"Name\\\"][index]\\n#    car_year = cars[\\\"Year\\\"][index]\\n\\n#    for index2 in price_lookup.index:\\n#        if price_lookup[\\\"Name\\\"][index2] == car_name:\\n#            if price_lookup[\\\"Year\\\"][index2] == car_year:\\n#                cars[\\\"Price\\\"][index] = price_lookup[\\\"Price\\\"][index2]\\n\\n# Figure out how many remaining nulls are there\\n# cars[\\\"Price\\\"].isnull().sum()\";\n",
       "                var nbb_cells = Jupyter.notebook.get_cells();\n",
       "                for (var i = 0; i < nbb_cells.length; ++i) {\n",
       "                    if (nbb_cells[i].input_prompt_number == nbb_cell_id) {\n",
       "                        if (nbb_cells[i].get_text() == nbb_unformatted_code) {\n",
       "                             nbb_cells[i].set_text(nbb_formatted_code);\n",
       "                        }\n",
       "                        break;\n",
       "                    }\n",
       "                }\n",
       "            }, 500);\n",
       "            "
      ],
      "text/plain": [
       "<IPython.core.display.Javascript object>"
      ]
     },
     "metadata": {},
     "output_type": "display_data"
    }
   ],
   "source": [
    "# CODE IDEA NOT WORKING - commenting out\n",
    "\n",
    "# Create a lookup table of unique values for Name, Year, and Price from dataframe\n",
    "# Trying to figure out Price from other matching cars with same name and year\n",
    "# price_lookup = cars[[\"Name\", \"Year\", \"Price\"]].copy()\n",
    "# price_lookup.dropna(inplace=True)\n",
    "# price_lookup = price_lookup.drop_duplicates()\n",
    "\n",
    "# Retrieve value of Price for cars dataframe based on corresponding\n",
    "# Name, Year, Price in lookup table\n",
    "# for index in cars[cars[\"Price\"].isnull() == True].index:\n",
    "#    car_name = cars[\"Name\"][index]\n",
    "#    car_year = cars[\"Year\"][index]\n",
    "\n",
    "#    for index2 in price_lookup.index:\n",
    "#        if price_lookup[\"Name\"][index2] == car_name:\n",
    "#            if price_lookup[\"Year\"][index2] == car_year:\n",
    "#                cars[\"Price\"][index] = price_lookup[\"Price\"][index2]\n",
    "\n",
    "# Figure out how many remaining nulls are there\n",
    "# cars[\"Price\"].isnull().sum()"
   ]
  },
  {
   "cell_type": "code",
   "execution_count": 26,
   "id": "44b60c8e",
   "metadata": {},
   "outputs": [
    {
     "data": {
      "text/plain": [
       "0"
      ]
     },
     "execution_count": 26,
     "metadata": {},
     "output_type": "execute_result"
    },
    {
     "data": {
      "application/javascript": [
       "\n",
       "            setTimeout(function() {\n",
       "                var nbb_cell_id = 26;\n",
       "                var nbb_unformatted_code = \"# Fill missing values with median\\ncars[\\\"Price\\\"].fillna(cars[\\\"Price\\\"].median(), inplace=True)\\n\\n# Double-check changes to Engine took place\\ncars[\\\"Price\\\"].isnull().sum()\";\n",
       "                var nbb_formatted_code = \"# Fill missing values with median\\ncars[\\\"Price\\\"].fillna(cars[\\\"Price\\\"].median(), inplace=True)\\n\\n# Double-check changes to Engine took place\\ncars[\\\"Price\\\"].isnull().sum()\";\n",
       "                var nbb_cells = Jupyter.notebook.get_cells();\n",
       "                for (var i = 0; i < nbb_cells.length; ++i) {\n",
       "                    if (nbb_cells[i].input_prompt_number == nbb_cell_id) {\n",
       "                        if (nbb_cells[i].get_text() == nbb_unformatted_code) {\n",
       "                             nbb_cells[i].set_text(nbb_formatted_code);\n",
       "                        }\n",
       "                        break;\n",
       "                    }\n",
       "                }\n",
       "            }, 500);\n",
       "            "
      ],
      "text/plain": [
       "<IPython.core.display.Javascript object>"
      ]
     },
     "metadata": {},
     "output_type": "display_data"
    }
   ],
   "source": [
    "# Fill missing values with median\n",
    "cars[\"Price\"].fillna(cars[\"Price\"].median(), inplace=True)\n",
    "\n",
    "# Double-check changes to Engine took place\n",
    "cars[\"Price\"].isnull().sum()"
   ]
  },
  {
   "cell_type": "code",
   "execution_count": 27,
   "id": "1e8456f4",
   "metadata": {},
   "outputs": [
    {
     "data": {
      "text/plain": [
       "0        1.75\n",
       "1       12.50\n",
       "2        4.50\n",
       "3        6.00\n",
       "4       17.74\n",
       "        ...  \n",
       "7248     5.64\n",
       "7249     5.64\n",
       "7250     5.64\n",
       "7251     5.64\n",
       "7252     5.64\n",
       "Name: Price, Length: 7253, dtype: float64"
      ]
     },
     "execution_count": 27,
     "metadata": {},
     "output_type": "execute_result"
    },
    {
     "data": {
      "application/javascript": [
       "\n",
       "            setTimeout(function() {\n",
       "                var nbb_cell_id = 27;\n",
       "                var nbb_unformatted_code = \"# Double-check changes to \\\"Price\\\" took place\\ncars[\\\"Price\\\"]\";\n",
       "                var nbb_formatted_code = \"# Double-check changes to \\\"Price\\\" took place\\ncars[\\\"Price\\\"]\";\n",
       "                var nbb_cells = Jupyter.notebook.get_cells();\n",
       "                for (var i = 0; i < nbb_cells.length; ++i) {\n",
       "                    if (nbb_cells[i].input_prompt_number == nbb_cell_id) {\n",
       "                        if (nbb_cells[i].get_text() == nbb_unformatted_code) {\n",
       "                             nbb_cells[i].set_text(nbb_formatted_code);\n",
       "                        }\n",
       "                        break;\n",
       "                    }\n",
       "                }\n",
       "            }, 500);\n",
       "            "
      ],
      "text/plain": [
       "<IPython.core.display.Javascript object>"
      ]
     },
     "metadata": {},
     "output_type": "display_data"
    }
   ],
   "source": [
    "# Double-check changes to \"Price\" took place\n",
    "cars[\"Price\"]"
   ]
  },
  {
   "cell_type": "code",
   "execution_count": 28,
   "id": "b1ae186b",
   "metadata": {},
   "outputs": [
    {
     "name": "stdout",
     "output_type": "stream",
     "text": [
      "<class 'pandas.core.frame.DataFrame'>\n",
      "RangeIndex: 7253 entries, 0 to 7252\n",
      "Data columns (total 12 columns):\n",
      " #   Column             Non-Null Count  Dtype   \n",
      "---  ------             --------------  -----   \n",
      " 0   Name               7253 non-null   object  \n",
      " 1   Location           7253 non-null   object  \n",
      " 2   Year               7253 non-null   int64   \n",
      " 3   Kilometers_Driven  7253 non-null   int64   \n",
      " 4   Fuel_Type          7253 non-null   category\n",
      " 5   Transmission       7253 non-null   category\n",
      " 6   Owner_Type         7253 non-null   category\n",
      " 7   Mileage            7253 non-null   float64 \n",
      " 8   Engine             7253 non-null   int64   \n",
      " 9   Power              7253 non-null   float64 \n",
      " 10  Seats              7253 non-null   category\n",
      " 11  Price              7253 non-null   float64 \n",
      "dtypes: category(4), float64(3), int64(3), object(2)\n",
      "memory usage: 482.7+ KB\n"
     ]
    },
    {
     "data": {
      "application/javascript": [
       "\n",
       "            setTimeout(function() {\n",
       "                var nbb_cell_id = 28;\n",
       "                var nbb_unformatted_code = \"# Check to see if there are any more missing values to treat\\ncars.info()\";\n",
       "                var nbb_formatted_code = \"# Check to see if there are any more missing values to treat\\ncars.info()\";\n",
       "                var nbb_cells = Jupyter.notebook.get_cells();\n",
       "                for (var i = 0; i < nbb_cells.length; ++i) {\n",
       "                    if (nbb_cells[i].input_prompt_number == nbb_cell_id) {\n",
       "                        if (nbb_cells[i].get_text() == nbb_unformatted_code) {\n",
       "                             nbb_cells[i].set_text(nbb_formatted_code);\n",
       "                        }\n",
       "                        break;\n",
       "                    }\n",
       "                }\n",
       "            }, 500);\n",
       "            "
      ],
      "text/plain": [
       "<IPython.core.display.Javascript object>"
      ]
     },
     "metadata": {},
     "output_type": "display_data"
    }
   ],
   "source": [
    "# Check to see if there are any more missing values to treat\n",
    "cars.info()"
   ]
  },
  {
   "cell_type": "markdown",
   "id": "ae17e45f",
   "metadata": {},
   "source": [
    "## 2.10 - Encode Categorical Variables"
   ]
  },
  {
   "cell_type": "code",
   "execution_count": 29,
   "id": "ddad80ef",
   "metadata": {},
   "outputs": [
    {
     "data": {
      "application/javascript": [
       "\n",
       "            setTimeout(function() {\n",
       "                var nbb_cell_id = 29;\n",
       "                var nbb_unformatted_code = \"cars = pd.get_dummies(cars, columns=[\\\"Fuel_Type\\\"], drop_first = True)\\ncars = pd.get_dummies(cars, columns=[\\\"Transmission\\\"], drop_first = True)\\ncars = pd.get_dummies(cars, columns=[\\\"Owner_Type\\\"], drop_first = True)\\ncars = pd.get_dummies(cars, columns=[\\\"Seats\\\"], drop_first = True)\";\n",
       "                var nbb_formatted_code = \"cars = pd.get_dummies(cars, columns=[\\\"Fuel_Type\\\"], drop_first=True)\\ncars = pd.get_dummies(cars, columns=[\\\"Transmission\\\"], drop_first=True)\\ncars = pd.get_dummies(cars, columns=[\\\"Owner_Type\\\"], drop_first=True)\\ncars = pd.get_dummies(cars, columns=[\\\"Seats\\\"], drop_first=True)\";\n",
       "                var nbb_cells = Jupyter.notebook.get_cells();\n",
       "                for (var i = 0; i < nbb_cells.length; ++i) {\n",
       "                    if (nbb_cells[i].input_prompt_number == nbb_cell_id) {\n",
       "                        if (nbb_cells[i].get_text() == nbb_unformatted_code) {\n",
       "                             nbb_cells[i].set_text(nbb_formatted_code);\n",
       "                        }\n",
       "                        break;\n",
       "                    }\n",
       "                }\n",
       "            }, 500);\n",
       "            "
      ],
      "text/plain": [
       "<IPython.core.display.Javascript object>"
      ]
     },
     "metadata": {},
     "output_type": "display_data"
    }
   ],
   "source": [
    "cars = pd.get_dummies(cars, columns=[\"Fuel_Type\"], drop_first=True)\n",
    "cars = pd.get_dummies(cars, columns=[\"Transmission\"], drop_first=True)\n",
    "cars = pd.get_dummies(cars, columns=[\"Owner_Type\"], drop_first=True)\n",
    "cars = pd.get_dummies(cars, columns=[\"Seats\"], drop_first=True)"
   ]
  },
  {
   "cell_type": "code",
   "execution_count": 30,
   "id": "65a1f7b7",
   "metadata": {},
   "outputs": [
    {
     "name": "stdout",
     "output_type": "stream",
     "text": [
      "<class 'pandas.core.frame.DataFrame'>\n",
      "RangeIndex: 7253 entries, 0 to 7252\n",
      "Data columns (total 25 columns):\n",
      " #   Column                     Non-Null Count  Dtype  \n",
      "---  ------                     --------------  -----  \n",
      " 0   Name                       7253 non-null   object \n",
      " 1   Location                   7253 non-null   object \n",
      " 2   Year                       7253 non-null   int64  \n",
      " 3   Kilometers_Driven          7253 non-null   int64  \n",
      " 4   Mileage                    7253 non-null   float64\n",
      " 5   Engine                     7253 non-null   int64  \n",
      " 6   Power                      7253 non-null   float64\n",
      " 7   Price                      7253 non-null   float64\n",
      " 8   Fuel_Type_Diesel           7253 non-null   uint8  \n",
      " 9   Fuel_Type_Electric         7253 non-null   uint8  \n",
      " 10  Fuel_Type_LPG              7253 non-null   uint8  \n",
      " 11  Fuel_Type_Petrol           7253 non-null   uint8  \n",
      " 12  Transmission_Manual        7253 non-null   uint8  \n",
      " 13  Owner_Type_Fourth & Above  7253 non-null   uint8  \n",
      " 14  Owner_Type_Second          7253 non-null   uint8  \n",
      " 15  Owner_Type_Third           7253 non-null   uint8  \n",
      " 16  Seats_10.0                 7253 non-null   uint8  \n",
      " 17  Seats_2.0                  7253 non-null   uint8  \n",
      " 18  Seats_4.0                  7253 non-null   uint8  \n",
      " 19  Seats_5.0                  7253 non-null   uint8  \n",
      " 20  Seats_6.0                  7253 non-null   uint8  \n",
      " 21  Seats_7.0                  7253 non-null   uint8  \n",
      " 22  Seats_8.0                  7253 non-null   uint8  \n",
      " 23  Seats_9.0                  7253 non-null   uint8  \n",
      " 24  Seats_Missing              7253 non-null   uint8  \n",
      "dtypes: float64(3), int64(3), object(2), uint8(17)\n",
      "memory usage: 573.8+ KB\n"
     ]
    },
    {
     "data": {
      "application/javascript": [
       "\n",
       "            setTimeout(function() {\n",
       "                var nbb_cell_id = 30;\n",
       "                var nbb_unformatted_code = \"# check for new columns\\ncars.info()\";\n",
       "                var nbb_formatted_code = \"# check for new columns\\ncars.info()\";\n",
       "                var nbb_cells = Jupyter.notebook.get_cells();\n",
       "                for (var i = 0; i < nbb_cells.length; ++i) {\n",
       "                    if (nbb_cells[i].input_prompt_number == nbb_cell_id) {\n",
       "                        if (nbb_cells[i].get_text() == nbb_unformatted_code) {\n",
       "                             nbb_cells[i].set_text(nbb_formatted_code);\n",
       "                        }\n",
       "                        break;\n",
       "                    }\n",
       "                }\n",
       "            }, 500);\n",
       "            "
      ],
      "text/plain": [
       "<IPython.core.display.Javascript object>"
      ]
     },
     "metadata": {},
     "output_type": "display_data"
    }
   ],
   "source": [
    "# check for new columns\n",
    "cars.info()"
   ]
  },
  {
   "cell_type": "markdown",
   "id": "7de61a28",
   "metadata": {},
   "source": [
    "# 3 - EDA (Part 1 of 2)"
   ]
  },
  {
   "cell_type": "markdown",
   "id": "269e8c82",
   "metadata": {},
   "source": [
    "## 3.1 - Explore Summary of Data"
   ]
  },
  {
   "cell_type": "code",
   "execution_count": 32,
   "id": "0c68da73",
   "metadata": {},
   "outputs": [
    {
     "data": {
      "text/html": [
       "<div>\n",
       "<style scoped>\n",
       "    .dataframe tbody tr th:only-of-type {\n",
       "        vertical-align: middle;\n",
       "    }\n",
       "\n",
       "    .dataframe tbody tr th {\n",
       "        vertical-align: top;\n",
       "    }\n",
       "\n",
       "    .dataframe thead th {\n",
       "        text-align: right;\n",
       "    }\n",
       "</style>\n",
       "<table border=\"1\" class=\"dataframe\">\n",
       "  <thead>\n",
       "    <tr style=\"text-align: right;\">\n",
       "      <th></th>\n",
       "      <th>count</th>\n",
       "      <th>unique</th>\n",
       "      <th>top</th>\n",
       "      <th>freq</th>\n",
       "      <th>mean</th>\n",
       "      <th>std</th>\n",
       "      <th>min</th>\n",
       "      <th>25%</th>\n",
       "      <th>50%</th>\n",
       "      <th>75%</th>\n",
       "      <th>max</th>\n",
       "    </tr>\n",
       "  </thead>\n",
       "  <tbody>\n",
       "    <tr>\n",
       "      <th>Name</th>\n",
       "      <td>7253</td>\n",
       "      <td>2041</td>\n",
       "      <td>Mahindra XUV500 W8 2WD</td>\n",
       "      <td>55</td>\n",
       "      <td>NaN</td>\n",
       "      <td>NaN</td>\n",
       "      <td>NaN</td>\n",
       "      <td>NaN</td>\n",
       "      <td>NaN</td>\n",
       "      <td>NaN</td>\n",
       "      <td>NaN</td>\n",
       "    </tr>\n",
       "    <tr>\n",
       "      <th>Location</th>\n",
       "      <td>7253</td>\n",
       "      <td>11</td>\n",
       "      <td>Mumbai</td>\n",
       "      <td>949</td>\n",
       "      <td>NaN</td>\n",
       "      <td>NaN</td>\n",
       "      <td>NaN</td>\n",
       "      <td>NaN</td>\n",
       "      <td>NaN</td>\n",
       "      <td>NaN</td>\n",
       "      <td>NaN</td>\n",
       "    </tr>\n",
       "    <tr>\n",
       "      <th>Year</th>\n",
       "      <td>7253.0</td>\n",
       "      <td>NaN</td>\n",
       "      <td>NaN</td>\n",
       "      <td>NaN</td>\n",
       "      <td>2013.365366</td>\n",
       "      <td>3.254421</td>\n",
       "      <td>1996.0</td>\n",
       "      <td>2011.0</td>\n",
       "      <td>2014.0</td>\n",
       "      <td>2016.0</td>\n",
       "      <td>2019.0</td>\n",
       "    </tr>\n",
       "    <tr>\n",
       "      <th>Kilometers_Driven</th>\n",
       "      <td>7253.0</td>\n",
       "      <td>NaN</td>\n",
       "      <td>NaN</td>\n",
       "      <td>NaN</td>\n",
       "      <td>58699.063146</td>\n",
       "      <td>84427.720583</td>\n",
       "      <td>171.0</td>\n",
       "      <td>34000.0</td>\n",
       "      <td>53416.0</td>\n",
       "      <td>73000.0</td>\n",
       "      <td>6500000.0</td>\n",
       "    </tr>\n",
       "    <tr>\n",
       "      <th>Mileage</th>\n",
       "      <td>7253.0</td>\n",
       "      <td>NaN</td>\n",
       "      <td>NaN</td>\n",
       "      <td>NaN</td>\n",
       "      <td>18.141586</td>\n",
       "      <td>4.561567</td>\n",
       "      <td>0.0</td>\n",
       "      <td>15.17</td>\n",
       "      <td>18.16</td>\n",
       "      <td>21.1</td>\n",
       "      <td>33.54</td>\n",
       "    </tr>\n",
       "    <tr>\n",
       "      <th>Engine</th>\n",
       "      <td>7253.0</td>\n",
       "      <td>NaN</td>\n",
       "      <td>NaN</td>\n",
       "      <td>NaN</td>\n",
       "      <td>1615.789742</td>\n",
       "      <td>593.475257</td>\n",
       "      <td>72.0</td>\n",
       "      <td>1198.0</td>\n",
       "      <td>1493.0</td>\n",
       "      <td>1968.0</td>\n",
       "      <td>5998.0</td>\n",
       "    </tr>\n",
       "    <tr>\n",
       "      <th>Power</th>\n",
       "      <td>7253.0</td>\n",
       "      <td>NaN</td>\n",
       "      <td>NaN</td>\n",
       "      <td>NaN</td>\n",
       "      <td>112.312448</td>\n",
       "      <td>52.922581</td>\n",
       "      <td>34.2</td>\n",
       "      <td>77.0</td>\n",
       "      <td>94.0</td>\n",
       "      <td>138.03</td>\n",
       "      <td>616.0</td>\n",
       "    </tr>\n",
       "    <tr>\n",
       "      <th>Price</th>\n",
       "      <td>7253.0</td>\n",
       "      <td>NaN</td>\n",
       "      <td>NaN</td>\n",
       "      <td>NaN</td>\n",
       "      <td>8.826235</td>\n",
       "      <td>10.293313</td>\n",
       "      <td>0.44</td>\n",
       "      <td>3.85</td>\n",
       "      <td>5.64</td>\n",
       "      <td>8.4</td>\n",
       "      <td>160.0</td>\n",
       "    </tr>\n",
       "    <tr>\n",
       "      <th>Fuel_Type_Diesel</th>\n",
       "      <td>7253.0</td>\n",
       "      <td>NaN</td>\n",
       "      <td>NaN</td>\n",
       "      <td>NaN</td>\n",
       "      <td>0.531091</td>\n",
       "      <td>0.499067</td>\n",
       "      <td>0.0</td>\n",
       "      <td>0.0</td>\n",
       "      <td>1.0</td>\n",
       "      <td>1.0</td>\n",
       "      <td>1.0</td>\n",
       "    </tr>\n",
       "    <tr>\n",
       "      <th>Fuel_Type_Electric</th>\n",
       "      <td>7253.0</td>\n",
       "      <td>NaN</td>\n",
       "      <td>NaN</td>\n",
       "      <td>NaN</td>\n",
       "      <td>0.000276</td>\n",
       "      <td>0.016605</td>\n",
       "      <td>0.0</td>\n",
       "      <td>0.0</td>\n",
       "      <td>0.0</td>\n",
       "      <td>0.0</td>\n",
       "      <td>1.0</td>\n",
       "    </tr>\n",
       "    <tr>\n",
       "      <th>Fuel_Type_LPG</th>\n",
       "      <td>7253.0</td>\n",
       "      <td>NaN</td>\n",
       "      <td>NaN</td>\n",
       "      <td>NaN</td>\n",
       "      <td>0.001654</td>\n",
       "      <td>0.040645</td>\n",
       "      <td>0.0</td>\n",
       "      <td>0.0</td>\n",
       "      <td>0.0</td>\n",
       "      <td>0.0</td>\n",
       "      <td>1.0</td>\n",
       "    </tr>\n",
       "    <tr>\n",
       "      <th>Fuel_Type_Petrol</th>\n",
       "      <td>7253.0</td>\n",
       "      <td>NaN</td>\n",
       "      <td>NaN</td>\n",
       "      <td>NaN</td>\n",
       "      <td>0.458431</td>\n",
       "      <td>0.498303</td>\n",
       "      <td>0.0</td>\n",
       "      <td>0.0</td>\n",
       "      <td>0.0</td>\n",
       "      <td>1.0</td>\n",
       "      <td>1.0</td>\n",
       "    </tr>\n",
       "    <tr>\n",
       "      <th>Transmission_Manual</th>\n",
       "      <td>7253.0</td>\n",
       "      <td>NaN</td>\n",
       "      <td>NaN</td>\n",
       "      <td>NaN</td>\n",
       "      <td>0.717496</td>\n",
       "      <td>0.450248</td>\n",
       "      <td>0.0</td>\n",
       "      <td>0.0</td>\n",
       "      <td>1.0</td>\n",
       "      <td>1.0</td>\n",
       "      <td>1.0</td>\n",
       "    </tr>\n",
       "    <tr>\n",
       "      <th>Owner_Type_Fourth &amp; Above</th>\n",
       "      <td>7253.0</td>\n",
       "      <td>NaN</td>\n",
       "      <td>NaN</td>\n",
       "      <td>NaN</td>\n",
       "      <td>0.001654</td>\n",
       "      <td>0.040645</td>\n",
       "      <td>0.0</td>\n",
       "      <td>0.0</td>\n",
       "      <td>0.0</td>\n",
       "      <td>0.0</td>\n",
       "      <td>1.0</td>\n",
       "    </tr>\n",
       "    <tr>\n",
       "      <th>Owner_Type_Second</th>\n",
       "      <td>7253.0</td>\n",
       "      <td>NaN</td>\n",
       "      <td>NaN</td>\n",
       "      <td>NaN</td>\n",
       "      <td>0.158831</td>\n",
       "      <td>0.365543</td>\n",
       "      <td>0.0</td>\n",
       "      <td>0.0</td>\n",
       "      <td>0.0</td>\n",
       "      <td>0.0</td>\n",
       "      <td>1.0</td>\n",
       "    </tr>\n",
       "    <tr>\n",
       "      <th>Owner_Type_Third</th>\n",
       "      <td>7253.0</td>\n",
       "      <td>NaN</td>\n",
       "      <td>NaN</td>\n",
       "      <td>NaN</td>\n",
       "      <td>0.018889</td>\n",
       "      <td>0.136141</td>\n",
       "      <td>0.0</td>\n",
       "      <td>0.0</td>\n",
       "      <td>0.0</td>\n",
       "      <td>0.0</td>\n",
       "      <td>1.0</td>\n",
       "    </tr>\n",
       "    <tr>\n",
       "      <th>Seats_10.0</th>\n",
       "      <td>7253.0</td>\n",
       "      <td>NaN</td>\n",
       "      <td>NaN</td>\n",
       "      <td>NaN</td>\n",
       "      <td>0.001103</td>\n",
       "      <td>0.033195</td>\n",
       "      <td>0.0</td>\n",
       "      <td>0.0</td>\n",
       "      <td>0.0</td>\n",
       "      <td>0.0</td>\n",
       "      <td>1.0</td>\n",
       "    </tr>\n",
       "    <tr>\n",
       "      <th>Seats_2.0</th>\n",
       "      <td>7253.0</td>\n",
       "      <td>NaN</td>\n",
       "      <td>NaN</td>\n",
       "      <td>NaN</td>\n",
       "      <td>0.002482</td>\n",
       "      <td>0.049759</td>\n",
       "      <td>0.0</td>\n",
       "      <td>0.0</td>\n",
       "      <td>0.0</td>\n",
       "      <td>0.0</td>\n",
       "      <td>1.0</td>\n",
       "    </tr>\n",
       "    <tr>\n",
       "      <th>Seats_4.0</th>\n",
       "      <td>7253.0</td>\n",
       "      <td>NaN</td>\n",
       "      <td>NaN</td>\n",
       "      <td>NaN</td>\n",
       "      <td>0.016407</td>\n",
       "      <td>0.127043</td>\n",
       "      <td>0.0</td>\n",
       "      <td>0.0</td>\n",
       "      <td>0.0</td>\n",
       "      <td>0.0</td>\n",
       "      <td>1.0</td>\n",
       "    </tr>\n",
       "    <tr>\n",
       "      <th>Seats_5.0</th>\n",
       "      <td>7253.0</td>\n",
       "      <td>NaN</td>\n",
       "      <td>NaN</td>\n",
       "      <td>NaN</td>\n",
       "      <td>0.833724</td>\n",
       "      <td>0.372354</td>\n",
       "      <td>0.0</td>\n",
       "      <td>1.0</td>\n",
       "      <td>1.0</td>\n",
       "      <td>1.0</td>\n",
       "      <td>1.0</td>\n",
       "    </tr>\n",
       "    <tr>\n",
       "      <th>Seats_6.0</th>\n",
       "      <td>7253.0</td>\n",
       "      <td>NaN</td>\n",
       "      <td>NaN</td>\n",
       "      <td>NaN</td>\n",
       "      <td>0.005239</td>\n",
       "      <td>0.072198</td>\n",
       "      <td>0.0</td>\n",
       "      <td>0.0</td>\n",
       "      <td>0.0</td>\n",
       "      <td>0.0</td>\n",
       "      <td>1.0</td>\n",
       "    </tr>\n",
       "    <tr>\n",
       "      <th>Seats_7.0</th>\n",
       "      <td>7253.0</td>\n",
       "      <td>NaN</td>\n",
       "      <td>NaN</td>\n",
       "      <td>NaN</td>\n",
       "      <td>0.109748</td>\n",
       "      <td>0.312597</td>\n",
       "      <td>0.0</td>\n",
       "      <td>0.0</td>\n",
       "      <td>0.0</td>\n",
       "      <td>0.0</td>\n",
       "      <td>1.0</td>\n",
       "    </tr>\n",
       "    <tr>\n",
       "      <th>Seats_8.0</th>\n",
       "      <td>7253.0</td>\n",
       "      <td>NaN</td>\n",
       "      <td>NaN</td>\n",
       "      <td>NaN</td>\n",
       "      <td>0.023439</td>\n",
       "      <td>0.151302</td>\n",
       "      <td>0.0</td>\n",
       "      <td>0.0</td>\n",
       "      <td>0.0</td>\n",
       "      <td>0.0</td>\n",
       "      <td>1.0</td>\n",
       "    </tr>\n",
       "    <tr>\n",
       "      <th>Seats_9.0</th>\n",
       "      <td>7253.0</td>\n",
       "      <td>NaN</td>\n",
       "      <td>NaN</td>\n",
       "      <td>NaN</td>\n",
       "      <td>0.000414</td>\n",
       "      <td>0.020335</td>\n",
       "      <td>0.0</td>\n",
       "      <td>0.0</td>\n",
       "      <td>0.0</td>\n",
       "      <td>0.0</td>\n",
       "      <td>1.0</td>\n",
       "    </tr>\n",
       "    <tr>\n",
       "      <th>Seats_Missing</th>\n",
       "      <td>7253.0</td>\n",
       "      <td>NaN</td>\n",
       "      <td>NaN</td>\n",
       "      <td>NaN</td>\n",
       "      <td>0.007307</td>\n",
       "      <td>0.085176</td>\n",
       "      <td>0.0</td>\n",
       "      <td>0.0</td>\n",
       "      <td>0.0</td>\n",
       "      <td>0.0</td>\n",
       "      <td>1.0</td>\n",
       "    </tr>\n",
       "  </tbody>\n",
       "</table>\n",
       "</div>"
      ],
      "text/plain": [
       "                            count unique                     top freq  \\\n",
       "Name                         7253   2041  Mahindra XUV500 W8 2WD   55   \n",
       "Location                     7253     11                  Mumbai  949   \n",
       "Year                       7253.0    NaN                     NaN  NaN   \n",
       "Kilometers_Driven          7253.0    NaN                     NaN  NaN   \n",
       "Mileage                    7253.0    NaN                     NaN  NaN   \n",
       "Engine                     7253.0    NaN                     NaN  NaN   \n",
       "Power                      7253.0    NaN                     NaN  NaN   \n",
       "Price                      7253.0    NaN                     NaN  NaN   \n",
       "Fuel_Type_Diesel           7253.0    NaN                     NaN  NaN   \n",
       "Fuel_Type_Electric         7253.0    NaN                     NaN  NaN   \n",
       "Fuel_Type_LPG              7253.0    NaN                     NaN  NaN   \n",
       "Fuel_Type_Petrol           7253.0    NaN                     NaN  NaN   \n",
       "Transmission_Manual        7253.0    NaN                     NaN  NaN   \n",
       "Owner_Type_Fourth & Above  7253.0    NaN                     NaN  NaN   \n",
       "Owner_Type_Second          7253.0    NaN                     NaN  NaN   \n",
       "Owner_Type_Third           7253.0    NaN                     NaN  NaN   \n",
       "Seats_10.0                 7253.0    NaN                     NaN  NaN   \n",
       "Seats_2.0                  7253.0    NaN                     NaN  NaN   \n",
       "Seats_4.0                  7253.0    NaN                     NaN  NaN   \n",
       "Seats_5.0                  7253.0    NaN                     NaN  NaN   \n",
       "Seats_6.0                  7253.0    NaN                     NaN  NaN   \n",
       "Seats_7.0                  7253.0    NaN                     NaN  NaN   \n",
       "Seats_8.0                  7253.0    NaN                     NaN  NaN   \n",
       "Seats_9.0                  7253.0    NaN                     NaN  NaN   \n",
       "Seats_Missing              7253.0    NaN                     NaN  NaN   \n",
       "\n",
       "                                   mean           std     min      25%  \\\n",
       "Name                                NaN           NaN     NaN      NaN   \n",
       "Location                            NaN           NaN     NaN      NaN   \n",
       "Year                        2013.365366      3.254421  1996.0   2011.0   \n",
       "Kilometers_Driven          58699.063146  84427.720583   171.0  34000.0   \n",
       "Mileage                       18.141586      4.561567     0.0    15.17   \n",
       "Engine                      1615.789742    593.475257    72.0   1198.0   \n",
       "Power                        112.312448     52.922581    34.2     77.0   \n",
       "Price                          8.826235     10.293313    0.44     3.85   \n",
       "Fuel_Type_Diesel               0.531091      0.499067     0.0      0.0   \n",
       "Fuel_Type_Electric             0.000276      0.016605     0.0      0.0   \n",
       "Fuel_Type_LPG                  0.001654      0.040645     0.0      0.0   \n",
       "Fuel_Type_Petrol               0.458431      0.498303     0.0      0.0   \n",
       "Transmission_Manual            0.717496      0.450248     0.0      0.0   \n",
       "Owner_Type_Fourth & Above      0.001654      0.040645     0.0      0.0   \n",
       "Owner_Type_Second              0.158831      0.365543     0.0      0.0   \n",
       "Owner_Type_Third               0.018889      0.136141     0.0      0.0   \n",
       "Seats_10.0                     0.001103      0.033195     0.0      0.0   \n",
       "Seats_2.0                      0.002482      0.049759     0.0      0.0   \n",
       "Seats_4.0                      0.016407      0.127043     0.0      0.0   \n",
       "Seats_5.0                      0.833724      0.372354     0.0      1.0   \n",
       "Seats_6.0                      0.005239      0.072198     0.0      0.0   \n",
       "Seats_7.0                      0.109748      0.312597     0.0      0.0   \n",
       "Seats_8.0                      0.023439      0.151302     0.0      0.0   \n",
       "Seats_9.0                      0.000414      0.020335     0.0      0.0   \n",
       "Seats_Missing                  0.007307      0.085176     0.0      0.0   \n",
       "\n",
       "                               50%      75%        max  \n",
       "Name                           NaN      NaN        NaN  \n",
       "Location                       NaN      NaN        NaN  \n",
       "Year                        2014.0   2016.0     2019.0  \n",
       "Kilometers_Driven          53416.0  73000.0  6500000.0  \n",
       "Mileage                      18.16     21.1      33.54  \n",
       "Engine                      1493.0   1968.0     5998.0  \n",
       "Power                         94.0   138.03      616.0  \n",
       "Price                         5.64      8.4      160.0  \n",
       "Fuel_Type_Diesel               1.0      1.0        1.0  \n",
       "Fuel_Type_Electric             0.0      0.0        1.0  \n",
       "Fuel_Type_LPG                  0.0      0.0        1.0  \n",
       "Fuel_Type_Petrol               0.0      1.0        1.0  \n",
       "Transmission_Manual            1.0      1.0        1.0  \n",
       "Owner_Type_Fourth & Above      0.0      0.0        1.0  \n",
       "Owner_Type_Second              0.0      0.0        1.0  \n",
       "Owner_Type_Third               0.0      0.0        1.0  \n",
       "Seats_10.0                     0.0      0.0        1.0  \n",
       "Seats_2.0                      0.0      0.0        1.0  \n",
       "Seats_4.0                      0.0      0.0        1.0  \n",
       "Seats_5.0                      1.0      1.0        1.0  \n",
       "Seats_6.0                      0.0      0.0        1.0  \n",
       "Seats_7.0                      0.0      0.0        1.0  \n",
       "Seats_8.0                      0.0      0.0        1.0  \n",
       "Seats_9.0                      0.0      0.0        1.0  \n",
       "Seats_Missing                  0.0      0.0        1.0  "
      ]
     },
     "execution_count": 32,
     "metadata": {},
     "output_type": "execute_result"
    },
    {
     "data": {
      "application/javascript": [
       "\n",
       "            setTimeout(function() {\n",
       "                var nbb_cell_id = 32;\n",
       "                var nbb_unformatted_code = \"cars.describe(include=\\\"all\\\").T\";\n",
       "                var nbb_formatted_code = \"cars.describe(include=\\\"all\\\").T\";\n",
       "                var nbb_cells = Jupyter.notebook.get_cells();\n",
       "                for (var i = 0; i < nbb_cells.length; ++i) {\n",
       "                    if (nbb_cells[i].input_prompt_number == nbb_cell_id) {\n",
       "                        if (nbb_cells[i].get_text() == nbb_unformatted_code) {\n",
       "                             nbb_cells[i].set_text(nbb_formatted_code);\n",
       "                        }\n",
       "                        break;\n",
       "                    }\n",
       "                }\n",
       "            }, 500);\n",
       "            "
      ],
      "text/plain": [
       "<IPython.core.display.Javascript object>"
      ]
     },
     "metadata": {},
     "output_type": "display_data"
    }
   ],
   "source": [
    "cars.describe(include=\"all\").T"
   ]
  },
  {
   "cell_type": "markdown",
   "id": "0c9437de",
   "metadata": {},
   "source": [
    "__Observations:__\n",
    "* There are 2041 unique car names/types of cars.\n",
    "* There are 11 locations, with Mumbai being the most frequent.\n",
    "* For Kilometers_Driven, the mean is approximately 58,699 and the median is 53,416. Indicates right-skewed distribution.\n",
    "* For Mileage, the mean is 18.14 and the median is 18.16. Indicates slight left-skewed distribution.\n",
    "* For Power, the mean is approximately 112.31 and the median is 94.0. Indicates right-skewed distribution.\n",
    "* For Price, the mean is approximately 8.83 and the median is 5.64. Indicates right-skewed distribution.\n",
    "* There are 4 categories for Fuel_Type, 1 category for Transmission, 3 categories for Owner_Type, and 9 categories for Seats."
   ]
  },
  {
   "cell_type": "markdown",
   "id": "05169da0",
   "metadata": {},
   "source": [
    "## 3.2 - Univariate Analysis"
   ]
  },
  {
   "cell_type": "code",
   "execution_count": 33,
   "id": "5818b08a",
   "metadata": {},
   "outputs": [
    {
     "data": {
      "application/javascript": [
       "\n",
       "            setTimeout(function() {\n",
       "                var nbb_cell_id = 33;\n",
       "                var nbb_unformatted_code = \"# Function copied from prior case study:\\n# Let us write a function that will help us create boxplot and histogram for any input numerical variable.\\n# This function takes the numerical column as the input and returns the boxplots and histograms for the variable.\\ndef histogram_boxplot(feature, figsize=(15, 10), bins=None):\\n    \\\"\\\"\\\"Boxplot and histogram combined\\n    feature: 1-d feature array\\n    figsize: size of fig (default (9,8))\\n    bins: number of bins (default None / auto)\\n    \\\"\\\"\\\"\\n    sns.set(font_scale=2)  # setting the font scale for seaborn\\n    f2, (ax_box2, ax_hist2) = plt.subplots(\\n        nrows=2,  # Number of rows of the subplot grid=2\\n        sharex=True,  # x-axis will be shared among all subplots\\n        gridspec_kw={\\\"height_ratios\\\": (0.25, 0.75)},\\n        figsize=figsize,\\n    )  # creating the 2 subplots\\n    sns.boxplot(\\n        feature, ax=ax_box2, showmeans=True, color=\\\"red\\\"\\n    )  # boxplot will be created and a star will indicate the mean value of the column\\n    sns.distplot(feature, kde=F, ax=ax_hist2, bins=bins) if bins else sns.distplot(\\n        feature, kde=False, ax=ax_hist2\\n    )  # For histogram\\n    ax_hist2.axvline(\\n        feature.mean(), color=\\\"g\\\", linestyle=\\\"--\\\"\\n    )  # Add mean to the histogram\\n    ax_hist2.axvline(\\n        feature.median(), color=\\\"black\\\", linestyle=\\\"-\\\"\\n    )  # Add median to the histogram\";\n",
       "                var nbb_formatted_code = \"# Function copied from prior case study:\\n# Let us write a function that will help us create boxplot and histogram for any input numerical variable.\\n# This function takes the numerical column as the input and returns the boxplots and histograms for the variable.\\ndef histogram_boxplot(feature, figsize=(15, 10), bins=None):\\n    \\\"\\\"\\\"Boxplot and histogram combined\\n    feature: 1-d feature array\\n    figsize: size of fig (default (9,8))\\n    bins: number of bins (default None / auto)\\n    \\\"\\\"\\\"\\n    sns.set(font_scale=2)  # setting the font scale for seaborn\\n    f2, (ax_box2, ax_hist2) = plt.subplots(\\n        nrows=2,  # Number of rows of the subplot grid=2\\n        sharex=True,  # x-axis will be shared among all subplots\\n        gridspec_kw={\\\"height_ratios\\\": (0.25, 0.75)},\\n        figsize=figsize,\\n    )  # creating the 2 subplots\\n    sns.boxplot(\\n        feature, ax=ax_box2, showmeans=True, color=\\\"red\\\"\\n    )  # boxplot will be created and a star will indicate the mean value of the column\\n    sns.distplot(feature, kde=F, ax=ax_hist2, bins=bins) if bins else sns.distplot(\\n        feature, kde=False, ax=ax_hist2\\n    )  # For histogram\\n    ax_hist2.axvline(\\n        feature.mean(), color=\\\"g\\\", linestyle=\\\"--\\\"\\n    )  # Add mean to the histogram\\n    ax_hist2.axvline(\\n        feature.median(), color=\\\"black\\\", linestyle=\\\"-\\\"\\n    )  # Add median to the histogram\";\n",
       "                var nbb_cells = Jupyter.notebook.get_cells();\n",
       "                for (var i = 0; i < nbb_cells.length; ++i) {\n",
       "                    if (nbb_cells[i].input_prompt_number == nbb_cell_id) {\n",
       "                        if (nbb_cells[i].get_text() == nbb_unformatted_code) {\n",
       "                             nbb_cells[i].set_text(nbb_formatted_code);\n",
       "                        }\n",
       "                        break;\n",
       "                    }\n",
       "                }\n",
       "            }, 500);\n",
       "            "
      ],
      "text/plain": [
       "<IPython.core.display.Javascript object>"
      ]
     },
     "metadata": {},
     "output_type": "display_data"
    }
   ],
   "source": [
    "# Function copied from prior case study:\n",
    "# Let us write a function that will help us create boxplot and histogram for any input numerical variable.\n",
    "# This function takes the numerical column as the input and returns the boxplots and histograms for the variable.\n",
    "def histogram_boxplot(feature, figsize=(15, 10), bins=None):\n",
    "    \"\"\"Boxplot and histogram combined\n",
    "    feature: 1-d feature array\n",
    "    figsize: size of fig (default (9,8))\n",
    "    bins: number of bins (default None / auto)\n",
    "    \"\"\"\n",
    "    sns.set(font_scale=2)  # setting the font scale for seaborn\n",
    "    f2, (ax_box2, ax_hist2) = plt.subplots(\n",
    "        nrows=2,  # Number of rows of the subplot grid=2\n",
    "        sharex=True,  # x-axis will be shared among all subplots\n",
    "        gridspec_kw={\"height_ratios\": (0.25, 0.75)},\n",
    "        figsize=figsize,\n",
    "    )  # creating the 2 subplots\n",
    "    sns.boxplot(\n",
    "        feature, ax=ax_box2, showmeans=True, color=\"red\"\n",
    "    )  # boxplot will be created and a star will indicate the mean value of the column\n",
    "    sns.distplot(feature, kde=F, ax=ax_hist2, bins=bins) if bins else sns.distplot(\n",
    "        feature, kde=False, ax=ax_hist2\n",
    "    )  # For histogram\n",
    "    ax_hist2.axvline(\n",
    "        feature.mean(), color=\"g\", linestyle=\"--\"\n",
    "    )  # Add mean to the histogram\n",
    "    ax_hist2.axvline(\n",
    "        feature.median(), color=\"black\", linestyle=\"-\"\n",
    "    )  # Add median to the histogram"
   ]
  },
  {
   "cell_type": "markdown",
   "id": "8ff9286f",
   "metadata": {},
   "source": [
    "### 3.2.1 - Explore dependent variable Price"
   ]
  },
  {
   "cell_type": "code",
   "execution_count": 34,
   "id": "2a69f113",
   "metadata": {},
   "outputs": [
    {
     "data": {
      "image/png": "[encoded data removed]",
      "text/plain": [
       "<Figure size 1080x720 with 2 Axes>"
      ]
     },
     "metadata": {},
     "output_type": "display_data"
    },
    {
     "data": {
      "application/javascript": [
       "\n",
       "            setTimeout(function() {\n",
       "                var nbb_cell_id = 34;\n",
       "                var nbb_unformatted_code = \"# Explore dependent variable Price\\nhistogram_boxplot(cars[\\\"Price\\\"])\";\n",
       "                var nbb_formatted_code = \"# Explore dependent variable Price\\nhistogram_boxplot(cars[\\\"Price\\\"])\";\n",
       "                var nbb_cells = Jupyter.notebook.get_cells();\n",
       "                for (var i = 0; i < nbb_cells.length; ++i) {\n",
       "                    if (nbb_cells[i].input_prompt_number == nbb_cell_id) {\n",
       "                        if (nbb_cells[i].get_text() == nbb_unformatted_code) {\n",
       "                             nbb_cells[i].set_text(nbb_formatted_code);\n",
       "                        }\n",
       "                        break;\n",
       "                    }\n",
       "                }\n",
       "            }, 500);\n",
       "            "
      ],
      "text/plain": [
       "<IPython.core.display.Javascript object>"
      ]
     },
     "metadata": {},
     "output_type": "display_data"
    }
   ],
   "source": [
    "histogram_boxplot(cars[\"Price\"])"
   ]
  },
  {
   "cell_type": "markdown",
   "id": "df1f1ed3",
   "metadata": {},
   "source": [
    "__Observation:__ Price is right-skewed (confirmation from previous observation)."
   ]
  },
  {
   "cell_type": "code",
   "execution_count": null,
   "id": "f6c070b5",
   "metadata": {},
   "outputs": [],
   "source": []
  }
 ],
 "metadata": {
  "kernelspec": {
   "display_name": "Python 3",
   "language": "python",
   "name": "python3"
  },
  "language_info": {
   "codemirror_mode": {
    "name": "ipython",
    "version": 3
   },
   "file_extension": ".py",
   "mimetype": "text/x-python",
   "name": "python",
   "nbconvert_exporter": "python",
   "pygments_lexer": "ipython3",
   "version": "3.8.8"
  }
 },
 "nbformat": 4,
 "nbformat_minor": 5
}
